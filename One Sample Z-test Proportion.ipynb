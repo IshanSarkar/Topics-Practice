{
 "cells": [
  {
   "cell_type": "markdown",
   "id": "2e6c3810-4f2b-4dc6-8691-4910b8c3a099",
   "metadata": {},
   "source": [
    "# One Sample Z-test Proportion"
   ]
  },
  {
   "cell_type": "code",
   "execution_count": 2,
   "id": "e60f451e-cc2a-425d-90d7-3070f23de24a",
   "metadata": {},
   "outputs": [],
   "source": [
    "import numpy as np\n",
    "from scipy.stats import norm\n",
    "from scipy import stats"
   ]
  },
  {
   "cell_type": "markdown",
   "id": "f16f8a81-847c-467b-b255-fa33dc9f3073",
   "metadata": {},
   "source": [
    "Used to determine whether the proportion of a single sample differs significantly from a known/hypothesized population/Target proportion."
   ]
  },
  {
   "cell_type": "markdown",
   "id": "27afdaa1-9c77-4a82-90cc-60cb10f4d67a",
   "metadata": {},
   "source": [
    "H0: Proportion is same <br>\n",
    "Ha: Proportion is different"
   ]
  },
  {
   "cell_type": "markdown",
   "id": "bbabff1b-199e-4dae-9fb7-fdf5796d2896",
   "metadata": {},
   "source": [
    "- You are a product manager for a company that has recently launched a new product.\n",
    "- Customer satisfaction is a critical metric, and you want to determine if the proportion of satisfied customers with the new product meets your target satisfaction level of 70%.\n",
    "- You collected a random sample of 150 customer reviews, and 115 of them expressed satisfaction with the product."
   ]
  },
  {
   "cell_type": "code",
   "execution_count": 3,
   "id": "2596ab9a-7a10-4144-8316-150331d29fda",
   "metadata": {},
   "outputs": [
    {
     "data": {
      "text/plain": [
       "1.7817416127494983"
      ]
     },
     "execution_count": 3,
     "metadata": {},
     "output_type": "execute_result"
    }
   ],
   "source": [
    "n=150\n",
    "n1=115\n",
    "p=0.7\n",
    "p_=n1/n\n",
    "z=(p_-p)/np.sqrt((p*(1-p))/n)\n",
    "z"
   ]
  },
  {
   "cell_type": "code",
   "execution_count": 8,
   "id": "2ea66484-b225-4e4f-9e8a-27ea5cc7e956",
   "metadata": {},
   "outputs": [
    {
     "data": {
      "text/plain": [
       "0.07479137758694376"
      ]
     },
     "execution_count": 8,
     "metadata": {},
     "output_type": "execute_result"
    }
   ],
   "source": [
    "pval=2*(1-norm.cdf(abs(z))) #two tailed test\n",
    "pval"
   ]
  },
  {
   "cell_type": "code",
   "execution_count": 7,
   "id": "4a19def6-fcfd-4510-b165-ed3a13002335",
   "metadata": {},
   "outputs": [
    {
     "name": "stdout",
     "output_type": "stream",
     "text": [
      "Fail to reject the null hypothesis, proportions is same\n"
     ]
    }
   ],
   "source": [
    "alpha = 0.05 # Significance level\n",
    "if pval < alpha:\n",
    "    print(\"Reject the null hypothesis, proportions are different\")\n",
    "else:\n",
    "    print(\"Fail to reject the null hypothesis, proportions is same\")"
   ]
  },
  {
   "cell_type": "code",
   "execution_count": null,
   "id": "923b4566-62ca-4332-b333-fad850e8c95a",
   "metadata": {},
   "outputs": [],
   "source": []
  }
 ],
 "metadata": {
  "kernelspec": {
   "display_name": "Python 3 (ipykernel)",
   "language": "python",
   "name": "python3"
  },
  "language_info": {
   "codemirror_mode": {
    "name": "ipython",
    "version": 3
   },
   "file_extension": ".py",
   "mimetype": "text/x-python",
   "name": "python",
   "nbconvert_exporter": "python",
   "pygments_lexer": "ipython3",
   "version": "3.12.0"
  }
 },
 "nbformat": 4,
 "nbformat_minor": 5
}
