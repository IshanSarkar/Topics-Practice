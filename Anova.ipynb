{
 "cells": [
  {
   "cell_type": "markdown",
   "id": "c9f921e9-d36f-4c1b-8bd6-7b68ad57f6ae",
   "metadata": {},
   "source": [
    "# One-Way Anova"
   ]
  },
  {
   "cell_type": "markdown",
   "id": "6785da55-88b0-4def-9fe7-cc6583963a83",
   "metadata": {},
   "source": [
    "When we have more than 2 groups in a column/categorical variable"
   ]
  },
  {
   "cell_type": "code",
   "execution_count": 46,
   "id": "3becdf58-0b31-4492-8396-6d06b0523f70",
   "metadata": {},
   "outputs": [],
   "source": [
    "import pandas as pd\n",
    "import seaborn as sns\n",
    "import matplotlib.pyplot as plt\n",
    "from scipy.stats import f_oneway, tukey_hsd, kruskal, shapiro, levene\n",
    "from statsmodels.graphics.gofplots import qqplot\n",
    "import statsmodels.api as sm\n",
    "from statsmodels.formula.api import ols"
   ]
  },
  {
   "cell_type": "code",
   "execution_count": 2,
   "id": "5211df9c-a96a-414e-b8a0-11cd4f178150",
   "metadata": {},
   "outputs": [
    {
     "name": "stderr",
     "output_type": "stream",
     "text": [
      "Downloading...\n",
      "From: https://drive.google.com/uc?id=1n9268qSj_5Q7KS_ntpv-wFPQC1UyJh6f\n",
      "To: C:\\Users\\ishan\\OneDrive\\Documents\\GitHub\\Topics-Practice\\aerofit.csv\n",
      "\n",
      "  0%|          | 0.00/7.46k [00:00<?, ?B/s]\n",
      "100%|##########| 7.46k/7.46k [00:00<?, ?B/s]\n"
     ]
    }
   ],
   "source": [
    "!gdown 1n9268qSj_5Q7KS_ntpv-wFPQC1UyJh6f"
   ]
  },
  {
   "cell_type": "code",
   "execution_count": 9,
   "id": "d2dc5326-1306-4078-a2c8-13ddb610be5a",
   "metadata": {},
   "outputs": [
    {
     "data": {
      "text/html": [
       "<div>\n",
       "<style scoped>\n",
       "    .dataframe tbody tr th:only-of-type {\n",
       "        vertical-align: middle;\n",
       "    }\n",
       "\n",
       "    .dataframe tbody tr th {\n",
       "        vertical-align: top;\n",
       "    }\n",
       "\n",
       "    .dataframe thead th {\n",
       "        text-align: right;\n",
       "    }\n",
       "</style>\n",
       "<table border=\"1\" class=\"dataframe\">\n",
       "  <thead>\n",
       "    <tr style=\"text-align: right;\">\n",
       "      <th></th>\n",
       "      <th>Product</th>\n",
       "      <th>Age</th>\n",
       "      <th>Gender</th>\n",
       "      <th>Education</th>\n",
       "      <th>MaritalStatus</th>\n",
       "      <th>Usage</th>\n",
       "      <th>Fitness</th>\n",
       "      <th>Income</th>\n",
       "      <th>Miles</th>\n",
       "    </tr>\n",
       "  </thead>\n",
       "  <tbody>\n",
       "    <tr>\n",
       "      <th>0</th>\n",
       "      <td>KP281</td>\n",
       "      <td>18</td>\n",
       "      <td>Male</td>\n",
       "      <td>14</td>\n",
       "      <td>Single</td>\n",
       "      <td>3</td>\n",
       "      <td>4</td>\n",
       "      <td>29562</td>\n",
       "      <td>112</td>\n",
       "    </tr>\n",
       "    <tr>\n",
       "      <th>1</th>\n",
       "      <td>KP281</td>\n",
       "      <td>19</td>\n",
       "      <td>Male</td>\n",
       "      <td>15</td>\n",
       "      <td>Single</td>\n",
       "      <td>2</td>\n",
       "      <td>3</td>\n",
       "      <td>31836</td>\n",
       "      <td>75</td>\n",
       "    </tr>\n",
       "    <tr>\n",
       "      <th>2</th>\n",
       "      <td>KP281</td>\n",
       "      <td>19</td>\n",
       "      <td>Female</td>\n",
       "      <td>14</td>\n",
       "      <td>Partnered</td>\n",
       "      <td>4</td>\n",
       "      <td>3</td>\n",
       "      <td>30699</td>\n",
       "      <td>66</td>\n",
       "    </tr>\n",
       "    <tr>\n",
       "      <th>3</th>\n",
       "      <td>KP281</td>\n",
       "      <td>19</td>\n",
       "      <td>Male</td>\n",
       "      <td>12</td>\n",
       "      <td>Single</td>\n",
       "      <td>3</td>\n",
       "      <td>3</td>\n",
       "      <td>32973</td>\n",
       "      <td>85</td>\n",
       "    </tr>\n",
       "    <tr>\n",
       "      <th>4</th>\n",
       "      <td>KP281</td>\n",
       "      <td>20</td>\n",
       "      <td>Male</td>\n",
       "      <td>13</td>\n",
       "      <td>Partnered</td>\n",
       "      <td>4</td>\n",
       "      <td>2</td>\n",
       "      <td>35247</td>\n",
       "      <td>47</td>\n",
       "    </tr>\n",
       "  </tbody>\n",
       "</table>\n",
       "</div>"
      ],
      "text/plain": [
       "  Product  Age  Gender  Education MaritalStatus  Usage  Fitness  Income  Miles\n",
       "0   KP281   18    Male         14        Single      3        4   29562    112\n",
       "1   KP281   19    Male         15        Single      2        3   31836     75\n",
       "2   KP281   19  Female         14     Partnered      4        3   30699     66\n",
       "3   KP281   19    Male         12        Single      3        3   32973     85\n",
       "4   KP281   20    Male         13     Partnered      4        2   35247     47"
      ]
     },
     "execution_count": 9,
     "metadata": {},
     "output_type": "execute_result"
    }
   ],
   "source": [
    "df_aerofit = pd.read_csv('aerofit.csv')\n",
    "df_aerofit.head()"
   ]
  },
  {
   "cell_type": "markdown",
   "id": "b70a2629-c214-4eaf-a029-74e320a47d6c",
   "metadata": {},
   "source": [
    "Null hypothesis (H0): States that the means of all groups are equal. <br>\n",
    "Alternate hypothesis (Ha): States that at least one of the means is different."
   ]
  },
  {
   "cell_type": "code",
   "execution_count": 12,
   "id": "8ceb1e41-a46e-47e4-98ee-75462ea800dc",
   "metadata": {},
   "outputs": [
    {
     "data": {
      "text/plain": [
       "Product\n",
       "KP281    80\n",
       "KP481    60\n",
       "KP781    40\n",
       "Name: count, dtype: int64"
      ]
     },
     "execution_count": 12,
     "metadata": {},
     "output_type": "execute_result"
    }
   ],
   "source": [
    "df_aerofit.Product.value_counts()"
   ]
  },
  {
   "cell_type": "code",
   "execution_count": 13,
   "id": "d2191482-22b5-45ce-ad44-7c1d1258232c",
   "metadata": {},
   "outputs": [],
   "source": [
    "KP281=df_aerofit[df_aerofit.Product=='KP281'].Income\n",
    "KP481=df_aerofit[df_aerofit.Product=='KP481'].Income\n",
    "KP781=df_aerofit[df_aerofit.Product=='KP781'].Income"
   ]
  },
  {
   "cell_type": "code",
   "execution_count": 15,
   "id": "7fe4f68c-79d5-47ac-ac88-6c3d2fd614d0",
   "metadata": {},
   "outputs": [
    {
     "data": {
      "text/plain": [
       "(1.564499131634248e-27, True)"
      ]
     },
     "execution_count": 15,
     "metadata": {},
     "output_type": "execute_result"
    }
   ],
   "source": [
    "astat, pval=f_oneway(KP281, KP481, KP781)\n",
    "pval, pval<0.05"
   ]
  },
  {
   "cell_type": "code",
   "execution_count": 19,
   "id": "1bb3d2eb-9b0b-4ec1-a595-70254e751b88",
   "metadata": {},
   "outputs": [
    {
     "name": "stdout",
     "output_type": "stream",
     "text": [
      "Tukey's HSD Pairwise Group Comparisons (95.0% Confidence Interval)\n",
      "Comparison  Statistic  p-value  Lower CI  Upper CI\n",
      " (0 - 1)  -2555.625     0.410 -7283.571  2172.321\n",
      " (0 - 2) -29023.550     0.000-34384.537-23662.563\n",
      " (1 - 0)   2555.625     0.410 -2172.321  7283.571\n",
      " (1 - 2) -26467.925     0.000-32118.902-20816.948\n",
      " (2 - 0)  29023.550     0.000 23662.563 34384.537\n",
      " (2 - 1)  26467.925     0.000 20816.948 32118.902\n",
      "\n"
     ]
    }
   ],
   "source": [
    "sol=tukey_hsd(KP281, KP481, KP781)\n",
    "print(sol)"
   ]
  },
  {
   "cell_type": "markdown",
   "id": "f8fb6762-189d-4fc2-ab0c-41b1628b31d1",
   "metadata": {},
   "source": [
    "KP281 (0) vs KP481 (1) has similar mean, KP481 (1) vs KP781 (2) has different mean, KP281 (0) vs KP781 (2) has different mean"
   ]
  },
  {
   "cell_type": "code",
   "execution_count": 20,
   "id": "4d22ea26-fc00-4c26-947e-9cc3bbb3c637",
   "metadata": {},
   "outputs": [
    {
     "data": {
      "image/png": "[encoded data removed]",
      "text/plain": [
       "<Figure size 640x480 with 1 Axes>"
      ]
     },
     "metadata": {},
     "output_type": "display_data"
    }
   ],
   "source": [
    "sns.boxplot(data=df_aerofit, y='Income', x='Product');"
   ]
  },
  {
   "cell_type": "markdown",
   "id": "cf33bb5f-fd32-42c4-af60-d4617d53b2b2",
   "metadata": {},
   "source": [
    "# Assumptions of One-way ANOVA\n",
    "1. Data should be normally distributed (i.e, Gaussian)\n",
    "2. Data should be independent across each record\n",
    "3. Equal variance in different groups"
   ]
  },
  {
   "cell_type": "markdown",
   "id": "c82276d4-93f0-40e4-b740-2c3118c8730b",
   "metadata": {},
   "source": [
    "If the Assumption fails then we will use **Kruskal-Wallis test**"
   ]
  },
  {
   "cell_type": "markdown",
   "id": "ddb13011-7dae-435e-8cd3-f00a20888ba2",
   "metadata": {},
   "source": [
    "Null hypothesis (H0): States that the means of all groups are equal. <br>\n",
    "Alternate hypothesis (Ha): States that at least one of the means is different."
   ]
  },
  {
   "cell_type": "code",
   "execution_count": 22,
   "id": "deebc1be-10cd-45d0-a69b-92c3ed17f9fe",
   "metadata": {},
   "outputs": [
    {
     "data": {
      "text/plain": [
       "(4.562357014275808e-14, True)"
      ]
     },
     "execution_count": 22,
     "metadata": {},
     "output_type": "execute_result"
    }
   ],
   "source": [
    "astat, pval=kruskal(KP281, KP481, KP781)\n",
    "pval, pval<0.05"
   ]
  },
  {
   "cell_type": "markdown",
   "id": "b9c711d6-f6e2-4003-a46f-0466cd701224",
   "metadata": {},
   "source": [
    "Limitations of Kruskal-Wallis Test:\n",
    "- Doesn't provide information about which groups differ: It only tells you if there is a difference, not which groups specifically differ.\n",
    "- Less powerful than ANOVA when assumptions are met: If the data is normally distributed and has no outliers, ANOVA is more powerful."
   ]
  },
  {
   "cell_type": "markdown",
   "id": "07ea03ce-c0ff-4f71-9890-9f74ea2be583",
   "metadata": {},
   "source": [
    "# How to check whether the data validates the Assumption of Anova or not"
   ]
  },
  {
   "cell_type": "markdown",
   "id": "105bff9a-bed3-4d01-b0d3-1e227ead4d0e",
   "metadata": {},
   "source": [
    "1. Normality Test"
   ]
  },
  {
   "cell_type": "code",
   "execution_count": 24,
   "id": "3cf1ff9d-97d2-4c46-b6cc-c58ea5633ba2",
   "metadata": {},
   "outputs": [
    {
     "name": "stderr",
     "output_type": "stream",
     "text": [
      "Downloading...\n",
      "From: https://drive.google.com/uc?id=1BbOJnKXUEPWrhjjLlZS_2-HoGvtZeubb\n",
      "To: C:\\Users\\ishan\\OneDrive\\Documents\\GitHub\\Topics-Practice\\weight-height.csv\n",
      "\n",
      "  0%|          | 0.00/428k [00:00<?, ?B/s]\n",
      "100%|##########| 428k/428k [00:00<00:00, 767kB/s]\n",
      "100%|##########| 428k/428k [00:00<00:00, 767kB/s]\n"
     ]
    }
   ],
   "source": [
    "!gdown 1BbOJnKXUEPWrhjjLlZS_2-HoGvtZeubb"
   ]
  },
  {
   "cell_type": "code",
   "execution_count": 25,
   "id": "bde2f3ce-1f79-46e1-b5b0-ad994496650c",
   "metadata": {},
   "outputs": [],
   "source": [
    "df_hw = pd.read_csv('weight-height.csv')"
   ]
  },
  {
   "cell_type": "code",
   "execution_count": 26,
   "id": "8316094b-6c9a-4ea0-b93d-796100aad7dc",
   "metadata": {},
   "outputs": [
    {
     "data": {
      "text/html": [
       "<div>\n",
       "<style scoped>\n",
       "    .dataframe tbody tr th:only-of-type {\n",
       "        vertical-align: middle;\n",
       "    }\n",
       "\n",
       "    .dataframe tbody tr th {\n",
       "        vertical-align: top;\n",
       "    }\n",
       "\n",
       "    .dataframe thead th {\n",
       "        text-align: right;\n",
       "    }\n",
       "</style>\n",
       "<table border=\"1\" class=\"dataframe\">\n",
       "  <thead>\n",
       "    <tr style=\"text-align: right;\">\n",
       "      <th></th>\n",
       "      <th>Gender</th>\n",
       "      <th>Height</th>\n",
       "      <th>Weight</th>\n",
       "    </tr>\n",
       "  </thead>\n",
       "  <tbody>\n",
       "    <tr>\n",
       "      <th>0</th>\n",
       "      <td>Male</td>\n",
       "      <td>73.847017</td>\n",
       "      <td>241.893563</td>\n",
       "    </tr>\n",
       "    <tr>\n",
       "      <th>1</th>\n",
       "      <td>Male</td>\n",
       "      <td>68.781904</td>\n",
       "      <td>162.310473</td>\n",
       "    </tr>\n",
       "    <tr>\n",
       "      <th>2</th>\n",
       "      <td>Male</td>\n",
       "      <td>74.110105</td>\n",
       "      <td>212.740856</td>\n",
       "    </tr>\n",
       "    <tr>\n",
       "      <th>3</th>\n",
       "      <td>Male</td>\n",
       "      <td>71.730978</td>\n",
       "      <td>220.042470</td>\n",
       "    </tr>\n",
       "    <tr>\n",
       "      <th>4</th>\n",
       "      <td>Male</td>\n",
       "      <td>69.881796</td>\n",
       "      <td>206.349801</td>\n",
       "    </tr>\n",
       "    <tr>\n",
       "      <th>...</th>\n",
       "      <td>...</td>\n",
       "      <td>...</td>\n",
       "      <td>...</td>\n",
       "    </tr>\n",
       "    <tr>\n",
       "      <th>9995</th>\n",
       "      <td>Female</td>\n",
       "      <td>66.172652</td>\n",
       "      <td>136.777454</td>\n",
       "    </tr>\n",
       "    <tr>\n",
       "      <th>9996</th>\n",
       "      <td>Female</td>\n",
       "      <td>67.067155</td>\n",
       "      <td>170.867906</td>\n",
       "    </tr>\n",
       "    <tr>\n",
       "      <th>9997</th>\n",
       "      <td>Female</td>\n",
       "      <td>63.867992</td>\n",
       "      <td>128.475319</td>\n",
       "    </tr>\n",
       "    <tr>\n",
       "      <th>9998</th>\n",
       "      <td>Female</td>\n",
       "      <td>69.034243</td>\n",
       "      <td>163.852461</td>\n",
       "    </tr>\n",
       "    <tr>\n",
       "      <th>9999</th>\n",
       "      <td>Female</td>\n",
       "      <td>61.944246</td>\n",
       "      <td>113.649103</td>\n",
       "    </tr>\n",
       "  </tbody>\n",
       "</table>\n",
       "<p>10000 rows × 3 columns</p>\n",
       "</div>"
      ],
      "text/plain": [
       "      Gender     Height      Weight\n",
       "0       Male  73.847017  241.893563\n",
       "1       Male  68.781904  162.310473\n",
       "2       Male  74.110105  212.740856\n",
       "3       Male  71.730978  220.042470\n",
       "4       Male  69.881796  206.349801\n",
       "...      ...        ...         ...\n",
       "9995  Female  66.172652  136.777454\n",
       "9996  Female  67.067155  170.867906\n",
       "9997  Female  63.867992  128.475319\n",
       "9998  Female  69.034243  163.852461\n",
       "9999  Female  61.944246  113.649103\n",
       "\n",
       "[10000 rows x 3 columns]"
      ]
     },
     "execution_count": 26,
     "metadata": {},
     "output_type": "execute_result"
    }
   ],
   "source": [
    "df_hw"
   ]
  },
  {
   "cell_type": "markdown",
   "id": "67f9b8a2-cd56-4863-b1d2-1863dce18bfb",
   "metadata": {},
   "source": [
    "**QQ plot (Visualize testing for normality)**"
   ]
  },
  {
   "cell_type": "code",
   "execution_count": 27,
   "id": "de2961f6-1b4f-4ca4-8040-3061b06a19f7",
   "metadata": {},
   "outputs": [
    {
     "data": {
      "image/png": "[encoded data removed]",
      "text/plain": [
       "<Figure size 640x480 with 1 Axes>"
      ]
     },
     "metadata": {},
     "output_type": "display_data"
    }
   ],
   "source": [
    "height = df_hw[\"Height\"]\n",
    "qqplot(height, line=\"s\");"
   ]
  },
  {
   "cell_type": "markdown",
   "id": "d27ddc42-5cdf-4c4c-915c-6b435e3192ba",
   "metadata": {},
   "source": [
    "- If the red line is straight and the blue dots fall close to it, then your data fits the pattern well and follows a Normal Distribution.\n",
    "- If the line is crooked or the dots are scattered, then your data doesn't quite fit and does not follow a Normal Distribution."
   ]
  },
  {
   "cell_type": "code",
   "execution_count": 28,
   "id": "5b008323-763c-49b2-923b-b0940d690fd3",
   "metadata": {},
   "outputs": [
    {
     "name": "stderr",
     "output_type": "stream",
     "text": [
      "Downloading...\n",
      "From: https://drive.google.com/uc?id=1v48RRtiivufSX4ewrMaxsADK73GnN2kI\n",
      "To: C:\\Users\\ishan\\OneDrive\\Documents\\GitHub\\Topics-Practice\\waiting_time.csv\n",
      "\n",
      "  0%|          | 0.00/1.66M [00:00<?, ?B/s]\n",
      " 32%|###1      | 524k/1.66M [00:00<00:00, 1.51MB/s]\n",
      " 63%|######3   | 1.05M/1.66M [00:00<00:00, 1.60MB/s]\n",
      " 95%|#########4| 1.57M/1.66M [00:00<00:00, 2.12MB/s]\n",
      "100%|##########| 1.66M/1.66M [00:00<00:00, 1.97MB/s]\n"
     ]
    }
   ],
   "source": [
    "!gdown 1v48RRtiivufSX4ewrMaxsADK73GnN2kI"
   ]
  },
  {
   "cell_type": "code",
   "execution_count": 29,
   "id": "e767dec0-8585-41f6-849b-63b636b9d2dc",
   "metadata": {},
   "outputs": [
    {
     "data": {
      "text/html": [
       "<div>\n",
       "<style scoped>\n",
       "    .dataframe tbody tr th:only-of-type {\n",
       "        vertical-align: middle;\n",
       "    }\n",
       "\n",
       "    .dataframe tbody tr th {\n",
       "        vertical-align: top;\n",
       "    }\n",
       "\n",
       "    .dataframe thead th {\n",
       "        text-align: right;\n",
       "    }\n",
       "</style>\n",
       "<table border=\"1\" class=\"dataframe\">\n",
       "  <thead>\n",
       "    <tr style=\"text-align: right;\">\n",
       "      <th></th>\n",
       "      <th>time</th>\n",
       "    </tr>\n",
       "  </thead>\n",
       "  <tbody>\n",
       "    <tr>\n",
       "      <th>0</th>\n",
       "      <td>184.003075</td>\n",
       "    </tr>\n",
       "    <tr>\n",
       "      <th>1</th>\n",
       "      <td>36.721521</td>\n",
       "    </tr>\n",
       "    <tr>\n",
       "      <th>2</th>\n",
       "      <td>29.970417</td>\n",
       "    </tr>\n",
       "    <tr>\n",
       "      <th>3</th>\n",
       "      <td>75.640285</td>\n",
       "    </tr>\n",
       "    <tr>\n",
       "      <th>4</th>\n",
       "      <td>61.489439</td>\n",
       "    </tr>\n",
       "    <tr>\n",
       "      <th>...</th>\n",
       "      <td>...</td>\n",
       "    </tr>\n",
       "    <tr>\n",
       "      <th>90041</th>\n",
       "      <td>135.885984</td>\n",
       "    </tr>\n",
       "    <tr>\n",
       "      <th>90042</th>\n",
       "      <td>15.223970</td>\n",
       "    </tr>\n",
       "    <tr>\n",
       "      <th>90043</th>\n",
       "      <td>207.839528</td>\n",
       "    </tr>\n",
       "    <tr>\n",
       "      <th>90044</th>\n",
       "      <td>140.488418</td>\n",
       "    </tr>\n",
       "    <tr>\n",
       "      <th>90045</th>\n",
       "      <td>50.719544</td>\n",
       "    </tr>\n",
       "  </tbody>\n",
       "</table>\n",
       "<p>90046 rows × 1 columns</p>\n",
       "</div>"
      ],
      "text/plain": [
       "             time\n",
       "0      184.003075\n",
       "1       36.721521\n",
       "2       29.970417\n",
       "3       75.640285\n",
       "4       61.489439\n",
       "...           ...\n",
       "90041  135.885984\n",
       "90042   15.223970\n",
       "90043  207.839528\n",
       "90044  140.488418\n",
       "90045   50.719544\n",
       "\n",
       "[90046 rows x 1 columns]"
      ]
     },
     "execution_count": 29,
     "metadata": {},
     "output_type": "execute_result"
    }
   ],
   "source": [
    "df_wt = pd.read_csv('waiting_time.csv')\n",
    "df_wt"
   ]
  },
  {
   "cell_type": "code",
   "execution_count": 30,
   "id": "62818bef-e540-4d85-9a6f-7f7f22783fe5",
   "metadata": {},
   "outputs": [
    {
     "data": {
      "image/png": "[encoded data removed]",
      "text/plain": [
       "<Figure size 640x480 with 1 Axes>"
      ]
     },
     "metadata": {},
     "output_type": "display_data"
    }
   ],
   "source": [
    "qqplot(df_wt[\"time\"], line=\"s\");"
   ]
  },
  {
   "cell_type": "markdown",
   "id": "d5629b07-c59a-4744-89d5-89330b101568",
   "metadata": {},
   "source": [
    "Weight does not follow a Normal Distribution"
   ]
  },
  {
   "cell_type": "markdown",
   "id": "e23d39a6-49bb-4f7d-8e9f-efa526e201f4",
   "metadata": {},
   "source": [
    "**Shapiro-Wilk test (Statistical Testing for Normality)**"
   ]
  },
  {
   "cell_type": "markdown",
   "id": "e87aaf66-26db-47ca-a151-4533c0ce72e5",
   "metadata": {},
   "source": [
    "- H0: Data is Gaussian\n",
    "- Ha: Data is not Gaussian"
   ]
  },
  {
   "cell_type": "code",
   "execution_count": 36,
   "id": "1615148a-6a72-43b3-a7cf-69edcf703fc6",
   "metadata": {},
   "outputs": [
    {
     "data": {
      "text/plain": [
       "(2.611970602682664e-10, True)"
      ]
     },
     "execution_count": 36,
     "metadata": {},
     "output_type": "execute_result"
    }
   ],
   "source": [
    "stat, pval=shapiro(height.sample(5000)) #why sample? Bcoz, shapiro test might not be accurate if it is >5000\n",
    "pval, pval<0.05"
   ]
  },
  {
   "cell_type": "code",
   "execution_count": 37,
   "id": "01f63fb5-9e8f-4236-ae36-e9c068fdef25",
   "metadata": {},
   "outputs": [
    {
     "data": {
      "text/plain": [
       "(2.4954580177905734e-54, True)"
      ]
     },
     "execution_count": 37,
     "metadata": {},
     "output_type": "execute_result"
    }
   ],
   "source": [
    "stat, pval=shapiro(df_wt[\"time\"].sample(5000)) #why sample? Bcoz, shapiro test might not be accurate if it is >5000\n",
    "pval, pval<0.05"
   ]
  },
  {
   "cell_type": "markdown",
   "id": "bc15d962-a4e8-456a-8ae0-12105540704d",
   "metadata": {},
   "source": [
    "3. Levene (Variance Testing)"
   ]
  },
  {
   "cell_type": "markdown",
   "id": "19ff7916-3675-44fb-8f3a-2d5ccec72f2b",
   "metadata": {},
   "source": [
    "- H0: Variances are equal\n",
    "- Ha: Variance are not equal"
   ]
  },
  {
   "cell_type": "code",
   "execution_count": 42,
   "id": "f63f940e-948f-40ae-a0b4-fa862d613c04",
   "metadata": {},
   "outputs": [],
   "source": [
    "height_men = df_hw[df_hw[\"Gender\"]==\"Male\"][\"Height\"]\n",
    "height_women = df_hw[df_hw[\"Gender\"]==\"Female\"][\"Height\"]"
   ]
  },
  {
   "cell_type": "code",
   "execution_count": 43,
   "id": "e4e44329-0008-47ed-81e7-3f9725d7ac44",
   "metadata": {},
   "outputs": [
    {
     "data": {
      "text/plain": [
       "(0.0004586349895436178, True)"
      ]
     },
     "execution_count": 43,
     "metadata": {},
     "output_type": "execute_result"
    }
   ],
   "source": [
    "lstat, pval = levene(height_men, height_women)\n",
    "pval, pval<0.05"
   ]
  },
  {
   "cell_type": "markdown",
   "id": "5bbf8ba3-6bbd-41c9-ae37-0bec15834a2d",
   "metadata": {},
   "source": [
    "# Two Way ANOVA"
   ]
  },
  {
   "cell_type": "markdown",
   "id": "124123b2-cda9-4f66-868a-ebe223aa39bb",
   "metadata": {},
   "source": [
    "Categorial vs Categorial vs Numerical"
   ]
  },
  {
   "cell_type": "code",
   "execution_count": 44,
   "id": "614abaa5-635b-4c21-8c7b-91481762d4da",
   "metadata": {},
   "outputs": [
    {
     "name": "stderr",
     "output_type": "stream",
     "text": [
      "Downloading...\n",
      "From: https://drive.google.com/uc?id=1Vy0OPYInhYxuZzSn415DsguHWVH7ROe0\n",
      "To: C:\\Users\\ishan\\OneDrive\\Documents\\GitHub\\Topics-Practice\\two_way_anova.csv\n",
      "\n",
      "  0%|          | 0.00/1.54k [00:00<?, ?B/s]\n",
      "100%|##########| 1.54k/1.54k [00:00<?, ?B/s]\n"
     ]
    }
   ],
   "source": [
    "!gdown 1Vy0OPYInhYxuZzSn415DsguHWVH7ROe0"
   ]
  },
  {
   "cell_type": "code",
   "execution_count": 45,
   "id": "bceca0d5-f832-4bea-84d3-3d0235ac922a",
   "metadata": {},
   "outputs": [
    {
     "data": {
      "text/html": [
       "<div>\n",
       "<style scoped>\n",
       "    .dataframe tbody tr th:only-of-type {\n",
       "        vertical-align: middle;\n",
       "    }\n",
       "\n",
       "    .dataframe tbody tr th {\n",
       "        vertical-align: top;\n",
       "    }\n",
       "\n",
       "    .dataframe thead th {\n",
       "        text-align: right;\n",
       "    }\n",
       "</style>\n",
       "<table border=\"1\" class=\"dataframe\">\n",
       "  <thead>\n",
       "    <tr style=\"text-align: right;\">\n",
       "      <th></th>\n",
       "      <th>Flavour</th>\n",
       "      <th>Location</th>\n",
       "      <th>Sales</th>\n",
       "    </tr>\n",
       "  </thead>\n",
       "  <tbody>\n",
       "    <tr>\n",
       "      <th>0</th>\n",
       "      <td>Orange</td>\n",
       "      <td>West</td>\n",
       "      <td>141</td>\n",
       "    </tr>\n",
       "    <tr>\n",
       "      <th>1</th>\n",
       "      <td>Lemon</td>\n",
       "      <td>West</td>\n",
       "      <td>178</td>\n",
       "    </tr>\n",
       "    <tr>\n",
       "      <th>2</th>\n",
       "      <td>Orange</td>\n",
       "      <td>West</td>\n",
       "      <td>170</td>\n",
       "    </tr>\n",
       "    <tr>\n",
       "      <th>3</th>\n",
       "      <td>Orange</td>\n",
       "      <td>East</td>\n",
       "      <td>76</td>\n",
       "    </tr>\n",
       "    <tr>\n",
       "      <th>4</th>\n",
       "      <td>Lemon</td>\n",
       "      <td>East</td>\n",
       "      <td>170</td>\n",
       "    </tr>\n",
       "  </tbody>\n",
       "</table>\n",
       "</div>"
      ],
      "text/plain": [
       "  Flavour Location  Sales\n",
       "0  Orange     West    141\n",
       "1   Lemon     West    178\n",
       "2  Orange     West    170\n",
       "3  Orange     East     76\n",
       "4   Lemon     East    170"
      ]
     },
     "execution_count": 45,
     "metadata": {},
     "output_type": "execute_result"
    }
   ],
   "source": [
    "df=pd.read_csv('two_way_anova.csv')\n",
    "df.head()"
   ]
  },
  {
   "attachments": {
    "7e9d1fe9-492e-4a03-a33e-929608fc8e89.png": {
     "image/png": "[encoded data removed]"
    }
   },
   "cell_type": "markdown",
   "id": "8cd4729d-0c32-435c-9d02-a09cfd5c6abf",
   "metadata": {},
   "source": [
    "![image.png](attachment:7e9d1fe9-492e-4a03-a33e-929608fc8e89.png)"
   ]
  },
  {
   "cell_type": "code",
   "execution_count": 48,
   "id": "011da150-1477-42e2-ae57-e8f69fa7b050",
   "metadata": {},
   "outputs": [],
   "source": [
    "test = ols('Sales ~ C(Flavour) * C(Location)', data=df).fit()"
   ]
  },
  {
   "cell_type": "code",
   "execution_count": 49,
   "id": "d7d926da-ae54-4b96-b66c-cba16494772e",
   "metadata": {},
   "outputs": [
    {
     "data": {
      "text/html": [
       "<div>\n",
       "<style scoped>\n",
       "    .dataframe tbody tr th:only-of-type {\n",
       "        vertical-align: middle;\n",
       "    }\n",
       "\n",
       "    .dataframe tbody tr th {\n",
       "        vertical-align: top;\n",
       "    }\n",
       "\n",
       "    .dataframe thead th {\n",
       "        text-align: right;\n",
       "    }\n",
       "</style>\n",
       "<table border=\"1\" class=\"dataframe\">\n",
       "  <thead>\n",
       "    <tr style=\"text-align: right;\">\n",
       "      <th></th>\n",
       "      <th>sum_sq</th>\n",
       "      <th>df</th>\n",
       "      <th>F</th>\n",
       "      <th>PR(&gt;F)</th>\n",
       "    </tr>\n",
       "  </thead>\n",
       "  <tbody>\n",
       "    <tr>\n",
       "      <th>C(Flavour)</th>\n",
       "      <td>6919.558981</td>\n",
       "      <td>2.0</td>\n",
       "      <td>1.968465</td>\n",
       "      <td>0.145773</td>\n",
       "    </tr>\n",
       "    <tr>\n",
       "      <th>C(Location)</th>\n",
       "      <td>2059.273884</td>\n",
       "      <td>3.0</td>\n",
       "      <td>0.390546</td>\n",
       "      <td>0.760092</td>\n",
       "    </tr>\n",
       "    <tr>\n",
       "      <th>C(Flavour):C(Location)</th>\n",
       "      <td>11802.257765</td>\n",
       "      <td>6.0</td>\n",
       "      <td>1.119163</td>\n",
       "      <td>0.357804</td>\n",
       "    </tr>\n",
       "    <tr>\n",
       "      <th>Residual</th>\n",
       "      <td>154669.016331</td>\n",
       "      <td>88.0</td>\n",
       "      <td>NaN</td>\n",
       "      <td>NaN</td>\n",
       "    </tr>\n",
       "  </tbody>\n",
       "</table>\n",
       "</div>"
      ],
      "text/plain": [
       "                               sum_sq    df         F    PR(>F)\n",
       "C(Flavour)                6919.558981   2.0  1.968465  0.145773\n",
       "C(Location)               2059.273884   3.0  0.390546  0.760092\n",
       "C(Flavour):C(Location)   11802.257765   6.0  1.119163  0.357804\n",
       "Residual                154669.016331  88.0       NaN       NaN"
      ]
     },
     "execution_count": 49,
     "metadata": {},
     "output_type": "execute_result"
    }
   ],
   "source": [
    "# create a table for a 2-way ANOVA test\n",
    "# Pass the linear model 'test'\n",
    "# 'typ = 2' performs two-way ANOVA\n",
    "anova_table = sm.stats.anova_lm(test, typ = 2)\n",
    "anova_table"
   ]
  },
  {
   "cell_type": "markdown",
   "id": "5355a6f5-5c5a-4a5c-a137-d8bffaf2d77d",
   "metadata": {},
   "source": [
    "Brief explanation of each term represents:\n",
    "1. sum_sq (Sum of Squares): It measures the variation in the dependent variable that can be attributed to the effect of the independent\n",
    "variable or factor being considered.\n",
    "    - In Two-Way ANOVA, you have a sum of squares for each factor (e.g., Flavour, Location) and the interaction between them.\n",
    "2. df (Degrees of Freedom): It represents the number of values in the final calculation of a statistic that are free to vary.\n",
    "    - In ANOVA, it's associated with the factor being tested. For example, \"df\" for Flavour is the number of levels of Flavour minus 1.\n",
    "3. F (F-Statistic): It's a measure of the ratio of the variance between groups (explained variance) to the variance within groups (unexplained\n",
    "variance).\n",
    "    - A high F-value indicates a significant difference between groups, while a low F-value suggests that the groups are similar.\n",
    "4. PR(>F) (p-value): This is the probability associated with the F-statistic. It indicates the likelihood that the observed differences in group\n",
    "means occurred by chance.\n",
    "    - A low p-value (typically less than 0.05) suggests that the factor has a significant effect, while a high p-value suggests a lack of\n",
    "significance.\n",
    "5. Residual: This represents the variation in the data that is not accounted for by the factors (Flavour, Location, and their interaction).\n",
    "    - It is the unexplained or leftover variability after considering the effects of the specified factors."
   ]
  },
  {
   "cell_type": "markdown",
   "id": "e483dbce-8589-442f-a46e-50938d008820",
   "metadata": {},
   "source": [
    "The above table shows the summary of results from our Two-Way ANOVA analysis.\n",
    "1. Flavour:\n",
    "    - PR(>F) : The p-value is 0.145773, which is greater than the typical significance level of 0.05. As a result, you do not have enough evidence to reject the null hypothesis, suggesting that there is no significant effect of flavor on sales.\n",
    "2. Location:\n",
    "    - PR(>F) : The p-value is 0.760092, which is much greater than 0.05. Therefore, you do not have enough evidence to reject the null hypothesis, suggesting that there is no significant effect of location on sales.\n",
    "3. Flavour:Location (Interaction Effect):\n",
    "    - PR(>F) : The p-value is 0.357804, which is greater than 0.05. This suggests that there is no significant interaction in the effect between flavour and location on sales.\n",
    "<br>Overall, the data suggests that neither the choice of flavour, the location of sale, nor their interaction significantly affect the sales of the soft\n",
    "drinks."
   ]
  },
  {
   "cell_type": "code",
   "execution_count": null,
   "id": "11ffbd9a-7dd1-4087-a2e2-528300a99663",
   "metadata": {},
   "outputs": [],
   "source": []
  }
 ],
 "metadata": {
  "kernelspec": {
   "display_name": "Python 3 (ipykernel)",
   "language": "python",
   "name": "python3"
  },
  "language_info": {
   "codemirror_mode": {
    "name": "ipython",
    "version": 3
   },
   "file_extension": ".py",
   "mimetype": "text/x-python",
   "name": "python",
   "nbconvert_exporter": "python",
   "pygments_lexer": "ipython3",
   "version": "3.12.2"
  }
 },
 "nbformat": 4,
 "nbformat_minor": 5
}
