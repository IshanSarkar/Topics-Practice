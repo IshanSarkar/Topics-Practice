{
 "cells": [
  {
   "cell_type": "code",
   "execution_count": 1,
   "id": "c21d8d08-8be5-4c22-83da-822128ca1685",
   "metadata": {},
   "outputs": [],
   "source": [
    "import numpy as np\n",
    "import pandas as pd\n",
    "import seaborn as sns\n",
    "import matplotlib.pyplot as plt\n",
    "from scipy.stats import norm"
   ]
  },
  {
   "cell_type": "code",
   "execution_count": 2,
   "id": "bedc5723-bcbd-47ce-88d7-5f169215c932",
   "metadata": {},
   "outputs": [
    {
     "data": {
      "text/html": [
       "<div>\n",
       "<style scoped>\n",
       "    .dataframe tbody tr th:only-of-type {\n",
       "        vertical-align: middle;\n",
       "    }\n",
       "\n",
       "    .dataframe tbody tr th {\n",
       "        vertical-align: top;\n",
       "    }\n",
       "\n",
       "    .dataframe thead th {\n",
       "        text-align: right;\n",
       "    }\n",
       "</style>\n",
       "<table border=\"1\" class=\"dataframe\">\n",
       "  <thead>\n",
       "    <tr style=\"text-align: right;\">\n",
       "      <th></th>\n",
       "      <th>Gender</th>\n",
       "      <th>Height</th>\n",
       "      <th>Weight</th>\n",
       "    </tr>\n",
       "  </thead>\n",
       "  <tbody>\n",
       "    <tr>\n",
       "      <th>0</th>\n",
       "      <td>Male</td>\n",
       "      <td>73.847017</td>\n",
       "      <td>241.893563</td>\n",
       "    </tr>\n",
       "    <tr>\n",
       "      <th>1</th>\n",
       "      <td>Male</td>\n",
       "      <td>68.781904</td>\n",
       "      <td>162.310473</td>\n",
       "    </tr>\n",
       "    <tr>\n",
       "      <th>2</th>\n",
       "      <td>Male</td>\n",
       "      <td>74.110105</td>\n",
       "      <td>212.740856</td>\n",
       "    </tr>\n",
       "    <tr>\n",
       "      <th>3</th>\n",
       "      <td>Male</td>\n",
       "      <td>71.730978</td>\n",
       "      <td>220.042470</td>\n",
       "    </tr>\n",
       "    <tr>\n",
       "      <th>4</th>\n",
       "      <td>Male</td>\n",
       "      <td>69.881796</td>\n",
       "      <td>206.349801</td>\n",
       "    </tr>\n",
       "  </tbody>\n",
       "</table>\n",
       "</div>"
      ],
      "text/plain": [
       "  Gender     Height      Weight\n",
       "0   Male  73.847017  241.893563\n",
       "1   Male  68.781904  162.310473\n",
       "2   Male  74.110105  212.740856\n",
       "3   Male  71.730978  220.042470\n",
       "4   Male  69.881796  206.349801"
      ]
     },
     "execution_count": 2,
     "metadata": {},
     "output_type": "execute_result"
    }
   ],
   "source": [
    "df_hw = pd.read_csv('weight-height.csv')\n",
    "df_hw.head()"
   ]
  },
  {
   "cell_type": "code",
   "execution_count": 3,
   "id": "952aa5ac-c877-4a22-8ac0-e88c2d2aa900",
   "metadata": {},
   "outputs": [],
   "source": [
    "df_height = df_hw[\"Height\"]"
   ]
  },
  {
   "cell_type": "code",
   "execution_count": 4,
   "id": "791e749b-4592-4d3f-aff2-4568846fb423",
   "metadata": {},
   "outputs": [
    {
     "data": {
      "image/png": "[encoded data removed]",
      "text/plain": [
       "<Figure size 640x480 with 1 Axes>"
      ]
     },
     "metadata": {},
     "output_type": "display_data"
    }
   ],
   "source": [
    "sns.histplot(df_height);"
   ]
  },
  {
   "cell_type": "code",
   "execution_count": 5,
   "id": "26e1493f-500f-4c29-8567-ce426005599a",
   "metadata": {},
   "outputs": [
    {
     "data": {
      "text/plain": [
       "66.36755975482124"
      ]
     },
     "execution_count": 5,
     "metadata": {},
     "output_type": "execute_result"
    }
   ],
   "source": [
    "# mean of the entire population\n",
    "mu = df_height.mean()\n",
    "mu"
   ]
  },
  {
   "cell_type": "code",
   "execution_count": 6,
   "id": "f45713ac-5724-4f25-8066-53a6e1de3d94",
   "metadata": {},
   "outputs": [
    {
     "data": {
      "text/plain": [
       "3.8475281207732293"
      ]
     },
     "execution_count": 6,
     "metadata": {},
     "output_type": "execute_result"
    }
   ],
   "source": [
    "sigma = df_height.std()\n",
    "sigma"
   ]
  },
  {
   "cell_type": "markdown",
   "id": "b2d05857-980f-49f8-8a68-6705bdde7a0e",
   "metadata": {},
   "source": [
    "# Sample size = 5"
   ]
  },
  {
   "cell_type": "code",
   "execution_count": 7,
   "id": "5bd30ce3-09cb-42cb-afb2-bcebb8c85863",
   "metadata": {},
   "outputs": [
    {
     "data": {
      "text/plain": [
       "8526    65.349066\n",
       "1490    68.955280\n",
       "6476    60.015562\n",
       "8165    57.837269\n",
       "7176    59.141247\n",
       "Name: Height, dtype: float64"
      ]
     },
     "execution_count": 7,
     "metadata": {},
     "output_type": "execute_result"
    }
   ],
   "source": [
    "df_height.sample(5)"
   ]
  },
  {
   "cell_type": "code",
   "execution_count": 8,
   "id": "850224a2-2ab2-416a-85b2-ae0449bb42b4",
   "metadata": {},
   "outputs": [
    {
     "data": {
      "text/plain": [
       "67.64402955183846"
      ]
     },
     "execution_count": 8,
     "metadata": {},
     "output_type": "execute_result"
    }
   ],
   "source": [
    "np.mean(df_height.sample(5))"
   ]
  },
  {
   "cell_type": "code",
   "execution_count": 9,
   "id": "36b06fdb-0f41-42a8-8cdd-76fc364bdf19",
   "metadata": {},
   "outputs": [
    {
     "data": {
      "text/plain": [
       "65.92554827009681"
      ]
     },
     "execution_count": 9,
     "metadata": {},
     "output_type": "execute_result"
    }
   ],
   "source": [
    "np.mean(df_height.sample(5))"
   ]
  },
  {
   "cell_type": "markdown",
   "id": "39099f31-90d7-4263-b233-07f69114c4ca",
   "metadata": {},
   "source": [
    "We can notice that on running the above code, it is generating 5 different samples every time and the sample mean is also changing with that."
   ]
  },
  {
   "cell_type": "code",
   "execution_count": 10,
   "id": "1d3b16e7-8287-4519-a710-3cf8c97b0d88",
   "metadata": {},
   "outputs": [],
   "source": [
    "sample_5 = [np.mean(df_height.sample(5)) for i in range(10000) ]"
   ]
  },
  {
   "cell_type": "code",
   "execution_count": 11,
   "id": "2faf9b47-f884-4115-8c4b-e160364dbeaf",
   "metadata": {},
   "outputs": [
    {
     "data": {
      "image/png": "[encoded data removed]",
      "text/plain": [
       "<Figure size 640x480 with 1 Axes>"
      ]
     },
     "metadata": {},
     "output_type": "display_data"
    }
   ],
   "source": [
    "sns.histplot(sample_5, kde=True);"
   ]
  },
  {
   "cell_type": "code",
   "execution_count": 12,
   "id": "8c0baf53-21dd-4cea-8801-3ce4380e5bb6",
   "metadata": {},
   "outputs": [
    {
     "data": {
      "text/plain": [
       "66.37557360271089"
      ]
     },
     "execution_count": 12,
     "metadata": {},
     "output_type": "execute_result"
    }
   ],
   "source": [
    "np.mean(sample_5)"
   ]
  },
  {
   "cell_type": "code",
   "execution_count": 13,
   "id": "4e90e45a-590d-4a76-8a9e-55e4843cef32",
   "metadata": {},
   "outputs": [
    {
     "data": {
      "text/plain": [
       "1.7186300784707909"
      ]
     },
     "execution_count": 13,
     "metadata": {},
     "output_type": "execute_result"
    }
   ],
   "source": [
    "np.std(sample_5)"
   ]
  },
  {
   "cell_type": "markdown",
   "id": "8f1f6fec-2d95-479d-a317-fc2d0bebcf80",
   "metadata": {},
   "source": [
    "Observation\n",
    "- We can conclude that the distribution of those 10000 samples means is normally distributed and most of the values lies between 62 and 72.\n",
    "- There might be some cases where the samples contain only short peoples that is why we can see some values between 60 and 62\n",
    "- Similarly, there might be some cases where the samples contain only tall people that is why we can see some values between 70 and 72."
   ]
  },
  {
   "cell_type": "markdown",
   "id": "e8c200b7-db58-432c-8176-c9de82705f6c",
   "metadata": {},
   "source": [
    "# Sample size = 20"
   ]
  },
  {
   "cell_type": "code",
   "execution_count": 14,
   "id": "69494852-8f8b-4f96-b7d2-209b4e20bb9d",
   "metadata": {},
   "outputs": [
    {
     "data": {
      "image/png": "[encoded data removed]",
      "text/plain": [
       "<Figure size 640x480 with 1 Axes>"
      ]
     },
     "metadata": {},
     "output_type": "display_data"
    }
   ],
   "source": [
    "sample_20 = [np.mean(df_height.sample(20)) for i in range(10000)]\n",
    "sns.histplot(sample_20, kde=True);"
   ]
  },
  {
   "cell_type": "code",
   "execution_count": 15,
   "id": "ce0ecec8-93a5-45e3-83ab-7d1b98138b5e",
   "metadata": {},
   "outputs": [
    {
     "data": {
      "text/plain": [
       "(66.36567781840547, 0.8563748176565912)"
      ]
     },
     "execution_count": 15,
     "metadata": {},
     "output_type": "execute_result"
    }
   ],
   "source": [
    "np.mean(sample_20), np.std(sample_20)"
   ]
  },
  {
   "cell_type": "markdown",
   "id": "3c265743-de99-4805-8bb4-5a0992bea64f",
   "metadata": {},
   "source": [
    "Observation\n",
    "- We can clearly see that as we increase the number of samples from 5 to 20, the sample means come closer to the actual mean and the standard deviation becomes less.\n",
    "- Previously the majority of the values were between 62 and 72. Now the spread of the data has decreased and values lie between 64 and 69\n",
    "- So we can assert that by increasing the size of the sample, the variability or SD of the sample distributions decreases and the sample mean tends to be much closer to the population mean."
   ]
  },
  {
   "cell_type": "markdown",
   "id": "73d399ee-bc17-4254-aaf1-786c0b62ae42",
   "metadata": {},
   "source": [
    "# Comparison of Statistics"
   ]
  },
  {
   "cell_type": "code",
   "execution_count": 17,
   "id": "5a40add8-6e8e-489a-ae08-ef1ed3be5fd3",
   "metadata": {},
   "outputs": [],
   "source": [
    "# population mean\n",
    "mu = df_height.mean()\n",
    "# population SD\n",
    "sigma = df_height.std()\n",
    "# mean of sample distributions having sample size = 5\n",
    "mu_5 = np.mean(sample_5)\n",
    "# SD of sample distributions having sample size = 5\n",
    "sigma_5 = np.std(sample_5)\n",
    "# mean of sample distributions having sample size = 20\n",
    "mu_20 = np.mean(sample_20)\n",
    "# SD of sample distributions having sample size = 20\n",
    "sigma_20 = np.std(sample_20)"
   ]
  },
  {
   "cell_type": "code",
   "execution_count": 18,
   "id": "f68276f6-485e-4ca5-b8c4-3409cc2363ef",
   "metadata": {},
   "outputs": [
    {
     "name": "stdout",
     "output_type": "stream",
     "text": [
      "66.36755975482124 66.37557360271089 66.36567781840547\n",
      "3.8475281207732293 1.7186300784707909 0.8563748176565912\n"
     ]
    }
   ],
   "source": [
    "print(mu, mu_5, mu_20)\n",
    "print(sigma, sigma_5, sigma_20)"
   ]
  },
  {
   "cell_type": "markdown",
   "id": "a0091f8f-a133-4b3f-b96d-857d9a6f750a",
   "metadata": {},
   "source": [
    "Observation <br>\n",
    "Here, <br>\n",
    "Population Statistics:\n",
    "- mu = population mean\n",
    "- sigma = population standard deviation\n",
    "<br><br>Sample Statistics:\n",
    "- mu_5 = mean of sample means (from samples of size 5)\n",
    "- sigma_5 = standard deviation of the sample means (from samples of size 5)\n",
    "- mu_20 = mean of sample means (from samples of size 20)\n",
    "- sigma_20 = standard deviation of the sample means (from samples of size 20)\n",
    "<br><br>We can clearly observe that,\n",
    "- As we increase the sample size, the SD of sample means decreases.\n",
    "- The SD of sampling distribution ( ) is less than the population SD ( )."
   ]
  },
  {
   "cell_type": "code",
   "execution_count": null,
   "id": "bd7d6d09-d88c-41d5-90d0-4a0d79d575de",
   "metadata": {},
   "outputs": [],
   "source": []
  }
 ],
 "metadata": {
  "kernelspec": {
   "display_name": "Python 3 (ipykernel)",
   "language": "python",
   "name": "python3"
  },
  "language_info": {
   "codemirror_mode": {
    "name": "ipython",
    "version": 3
   },
   "file_extension": ".py",
   "mimetype": "text/x-python",
   "name": "python",
   "nbconvert_exporter": "python",
   "pygments_lexer": "ipython3",
   "version": "3.12.2"
  }
 },
 "nbformat": 4,
 "nbformat_minor": 5
}
