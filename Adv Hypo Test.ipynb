{
 "cells": [
  {
   "cell_type": "markdown",
   "id": "49bdb3a9-b3bf-4a11-887d-4610e38c4673",
   "metadata": {},
   "source": [
    "# Kolmogorov-Smirnov Test (KS)"
   ]
  },
  {
   "cell_type": "markdown",
   "id": "2ecf4528-e7e1-40e0-9508-9c9cc32b606f",
   "metadata": {},
   "source": [
    "- This test is used to determine whether two sets of data follow the same distribution or not."
   ]
  },
  {
   "cell_type": "code",
   "execution_count": 43,
   "id": "4374cfb3-9846-40f4-ae4c-c1733bb7dd84",
   "metadata": {},
   "outputs": [],
   "source": [
    "import numpy as np\n",
    "import pandas as pd\n",
    "import matplotlib.pyplot as plt\n",
    "import seaborn as sns\n",
    "from scipy.stats import kstest, ttest_ind"
   ]
  },
  {
   "cell_type": "markdown",
   "id": "3c81d65c-26f8-4592-a124-e75341cc41dd",
   "metadata": {},
   "source": [
    "Null Hypothesis (H0): The distribution of X is the same as the distribution of Y.\n",
    "<br>Alternative Hypothesis (Ha): The distribution of X is different from the distribution of Y"
   ]
  },
  {
   "cell_type": "code",
   "execution_count": 2,
   "id": "5c2ddf45-7cac-46d5-a1b6-4e0a634259ca",
   "metadata": {},
   "outputs": [],
   "source": [
    "# recovery times of patients who took medicine-1\n",
    "r1 = [8.82420842, 7.47774471, 7.55712098, 7.98131439, 6.82771606,\n",
    "7.48566433, 9.15385732, 5.84040502, 8.26124313, 8.4728876 ,\n",
    "6.82582186, 7.00490974, 8.43423058, 6.72099932, 6.97495982,\n",
    "5.93748053, 5.40707847, 6.16385557, 6.71421056, 4.42396183,\n",
    "6.87285228, 8.00313581, 6.69035041, 7.83622942, 8.70984957,\n",
    "5.56284584, 9.08093437, 4.98165193, 7.67769408, 6.04738478,\n",
    "7.64921582, 7.31051639, 6.74463303, 7.27356973, 8.16787232,\n",
    "6.90990965, 7.06439167, 6.62921957, 6.08283539, 6.2458137 ,\n",
    "8.65173634, 5.76080646, 6.20573219, 8.91561004, 6.22560201,\n",
    "5.67542104, 6.97412435, 8.31354697, 8.14172701, 8.26099345,\n",
    "7.87612791, 6.24835109, 9.95324783, 6.59504627, 6.17365145,\n",
    "6.05676895, 7.23030223, 7.71311809, 7.37163804, 5.69798738,\n",
    "5.71056902, 7.94556876, 7.47234105, 6.85346234, 4.77892053,\n",
    "6.92631063, 6.10681151, 7.06277198, 7.18023164, 7.78285327,\n",
    "7.85500885, 6.54349161, 8.25949958, 6.44289198, 7.16705977,\n",
    "6.03517015, 7.61274786, 7.032845 , 6.78161745, 7.07917968,\n",
    "6.21549342, 5.34267439, 6.73039933, 7.70562561, 8.15117049,\n",
    "6.72564324, 6.68220904, 8.50359274, 7.52912703, 7.34572493,\n",
    "5.95734283, 6.58259396, 6.49394335, 8.68069592, 8.60547125,\n",
    "6.8905056 , 7.72575925, 6.84801609, 7.96999724, 7.10420915]"
   ]
  },
  {
   "cell_type": "code",
   "execution_count": 3,
   "id": "f9b4b190-2e06-4667-b334-6a273be9f398",
   "metadata": {},
   "outputs": [],
   "source": [
    "# recovery times of patietnts who took medicine-2\n",
    "r2 = [ 9.56597358, 7.49291458, 8.73841824, 7.63523452, 4.12559277,\n",
    "7.3679259 , 9.87873565, 6.14516559, 8.19923821, 7.30169992,\n",
    "10.24606417, 6.83814477, 7.01611267, 6.15716049, 8.29590714,\n",
    "12.3333305 , 8.22144016, 6.06830071, 3.75820649, 6.69220157,\n",
    "10.08721618, 9.70580422, 7.31050006, 11.40145721, 5.64818498,\n",
    "7.38914449, 8.43740074, 6.3451435 , 7.05694361, 8.1997151 ,\n",
    "9.03059061, 7.76904679, 6.92375578, 5.78318543, 8.99027781,\n",
    "7.56186529, 5.27095372, 8.32896688, 11.52935757, 7.08119961,\n",
    "9.48825066, 9.14072759, 7.30357663, 8.62183754, 10.40999814,\n",
    "8.70096763, 7.04645384, 6.378799 , 10.5098363 , 7.36078888,\n",
    "7.33403615, 8.07396248, 6.18309499, 7.24668404, 9.03430611,\n",
    "8.99016584, 6.78606416, 8.436418 , 6.85877947, 10.10405772,\n",
    "6.74943076, 7.57812376, 7.12920671, 9.38065269, 9.57139966,\n",
    "6.4484012 , 6.93877043, 9.22141667, 8.34815638, 7.73980671,\n",
    "7.17840767, 9.27913457, 6.49963224, 9.92287292, 7.63978639,\n",
    "9.53931977, 9.02602273, 6.79374185, 8.59715131, 8.37747338,\n",
    "8.78161815, 6.78716383, 8.28473394, 8.20283798, 12.50518811,\n",
    "10.19772574, 8.93758457, 8.9540311 , 8.28927558, 6.28935098,\n",
    "7.69447559, 9.66777701, 10.33898342, 8.71199578, 5.12781581,\n",
    "9.70954569, 9.13685031, 7.28989718, 8.0868909 , 7.42937556,\n",
    "7.31356749, 9.92345816, 8.60211814, 9.33228465, 8.14132658,\n",
    "6.17871495, 10.28358242, 7.31898597, 7.95085527, 6.20331719,\n",
    "9.19119762, 6.98600628, 7.05314883, 10.57921482, 6.83637574,\n",
    "7.86199283, 8.23350975, 5.87625665, 7.78945364, 8.83612492]"
   ]
  },
  {
   "cell_type": "code",
   "execution_count": 6,
   "id": "87928b5b-7df7-40c5-b076-88c83dd9ad81",
   "metadata": {},
   "outputs": [
    {
     "data": {
      "text/plain": [
       "(100, 120)"
      ]
     },
     "execution_count": 6,
     "metadata": {},
     "output_type": "execute_result"
    }
   ],
   "source": [
    "d1 = np.array(r1)\n",
    "d2 = np.array(r2)\n",
    "n1 = len(d1)\n",
    "n2 = len(d2)\n",
    "n1, n2"
   ]
  },
  {
   "cell_type": "code",
   "execution_count": 8,
   "id": "9ffe7250-b034-4f88-bff5-e5090f4a00f0",
   "metadata": {},
   "outputs": [
    {
     "data": {
      "text/plain": [
       "(1.516338798228849e-05, True)"
      ]
     },
     "execution_count": 8,
     "metadata": {},
     "output_type": "execute_result"
    }
   ],
   "source": [
    "ksstat, pval = stats.kstest(d1, d2)\n",
    "pval, pval<0.01"
   ]
  },
  {
   "cell_type": "code",
   "execution_count": 13,
   "id": "3d91870c-0a12-4512-a8a2-ad082dfe000e",
   "metadata": {},
   "outputs": [
    {
     "data": {
      "image/png": "[encoded data removed]",
      "text/plain": [
       "<Figure size 640x480 with 1 Axes>"
      ]
     },
     "metadata": {},
     "output_type": "display_data"
    }
   ],
   "source": [
    "plt.grid()\n",
    "plt.hist(d1, bins=100, cumulative=True, label='CDF', density=True, histtype='step')\n",
    "plt.hist(d2, bins=100, cumulative=True, label='CDF', density=True, histtype='step');"
   ]
  },
  {
   "cell_type": "markdown",
   "id": "cd2cb9a4-fdcf-4c8d-8476-834c8c9c6b23",
   "metadata": {},
   "source": [
    "# A/B Testing\n",
    "Used to compare two versions of a product or service to determine which one performs better"
   ]
  },
  {
   "cell_type": "markdown",
   "id": "8f7f2445-820a-49e3-a25c-1e1da6233c00",
   "metadata": {},
   "source": [
    "1. Treatment Group: New feature exp group\n",
    "2. Control Group: Default/No new Feature group"
   ]
  },
  {
   "cell_type": "markdown",
   "id": "5755b7c1-dfb9-495b-8786-bda9d16a4770",
   "metadata": {},
   "source": [
    "Example: Let's say you are a data scientist at YouTube and you may want to analyze user watch time based on the number of ads in the ad break."
   ]
  },
  {
   "cell_type": "markdown",
   "id": "d0a9806e-8f80-48ff-ba0f-1635f293fec9",
   "metadata": {},
   "source": [
    "Null Hypothesis ( ): Mean Watch Time of Users given 2 ads = Mean Watch Time of Users given 1 ad per ad break\n",
    "<br>Alternative Hypothesis ( ): Mean Watch Time of Users given 2 ads <> Mean Watch Time of Users given 1 ad per ad break"
   ]
  },
  {
   "cell_type": "code",
   "execution_count": 16,
   "id": "ce9d81d1-0ad7-4004-8eee-9fef1b347a1d",
   "metadata": {},
   "outputs": [
    {
     "name": "stderr",
     "output_type": "stream",
     "text": [
      "Downloading...\n",
      "From: https://drive.google.com/uc?id=1CS513bBqabMfrUhVcqm_nhlgrQheMNZ1\n",
      "To: C:\\Users\\ishan\\OneDrive\\Documents\\GitHub\\Topics-Practice\\ab_test_data.csv\n",
      "\n",
      "  0%|          | 0.00/884k [00:00<?, ?B/s]\n",
      " 59%|#####9    | 524k/884k [00:00<00:00, 3.18MB/s]\n",
      "100%|##########| 884k/884k [00:00<00:00, 4.12MB/s]\n"
     ]
    }
   ],
   "source": [
    "!gdown 1CS513bBqabMfrUhVcqm_nhlgrQheMNZ1"
   ]
  },
  {
   "cell_type": "code",
   "execution_count": 20,
   "id": "fb48c733-74c9-4fe0-a97e-149d292b82b0",
   "metadata": {},
   "outputs": [
    {
     "data": {
      "text/html": [
       "<div>\n",
       "<style scoped>\n",
       "    .dataframe tbody tr th:only-of-type {\n",
       "        vertical-align: middle;\n",
       "    }\n",
       "\n",
       "    .dataframe tbody tr th {\n",
       "        vertical-align: top;\n",
       "    }\n",
       "\n",
       "    .dataframe thead th {\n",
       "        text-align: right;\n",
       "    }\n",
       "</style>\n",
       "<table border=\"1\" class=\"dataframe\">\n",
       "  <thead>\n",
       "    <tr style=\"text-align: right;\">\n",
       "      <th></th>\n",
       "      <th>date</th>\n",
       "      <th>customer_id</th>\n",
       "      <th>premium</th>\n",
       "      <th>watch_time_hrs</th>\n",
       "      <th>customer_segmnt</th>\n",
       "    </tr>\n",
       "  </thead>\n",
       "  <tbody>\n",
       "    <tr>\n",
       "      <th>0</th>\n",
       "      <td>2018-09-11</td>\n",
       "      <td>402</td>\n",
       "      <td>0</td>\n",
       "      <td>7.173618</td>\n",
       "      <td>control</td>\n",
       "    </tr>\n",
       "    <tr>\n",
       "      <th>1</th>\n",
       "      <td>2018-02-28</td>\n",
       "      <td>227</td>\n",
       "      <td>0</td>\n",
       "      <td>0.836170</td>\n",
       "      <td>control</td>\n",
       "    </tr>\n",
       "    <tr>\n",
       "      <th>2</th>\n",
       "      <td>2018-10-18</td>\n",
       "      <td>812</td>\n",
       "      <td>1</td>\n",
       "      <td>4.402078</td>\n",
       "      <td>treatment</td>\n",
       "    </tr>\n",
       "    <tr>\n",
       "      <th>3</th>\n",
       "      <td>2018-05-22</td>\n",
       "      <td>43</td>\n",
       "      <td>0</td>\n",
       "      <td>3.982454</td>\n",
       "      <td>control</td>\n",
       "    </tr>\n",
       "    <tr>\n",
       "      <th>4</th>\n",
       "      <td>2018-07-18</td>\n",
       "      <td>307</td>\n",
       "      <td>0</td>\n",
       "      <td>7.513302</td>\n",
       "      <td>control</td>\n",
       "    </tr>\n",
       "    <tr>\n",
       "      <th>5</th>\n",
       "      <td>2018-09-10</td>\n",
       "      <td>238</td>\n",
       "      <td>0</td>\n",
       "      <td>1.456961</td>\n",
       "      <td>control</td>\n",
       "    </tr>\n",
       "    <tr>\n",
       "      <th>6</th>\n",
       "      <td>2018-02-21</td>\n",
       "      <td>691</td>\n",
       "      <td>1</td>\n",
       "      <td>3.800375</td>\n",
       "      <td>treatment</td>\n",
       "    </tr>\n",
       "    <tr>\n",
       "      <th>7</th>\n",
       "      <td>2018-04-27</td>\n",
       "      <td>199</td>\n",
       "      <td>0</td>\n",
       "      <td>4.574446</td>\n",
       "      <td>control</td>\n",
       "    </tr>\n",
       "    <tr>\n",
       "      <th>8</th>\n",
       "      <td>2018-05-28</td>\n",
       "      <td>105</td>\n",
       "      <td>0</td>\n",
       "      <td>3.425942</td>\n",
       "      <td>control</td>\n",
       "    </tr>\n",
       "    <tr>\n",
       "      <th>9</th>\n",
       "      <td>2018-09-24</td>\n",
       "      <td>604</td>\n",
       "      <td>0</td>\n",
       "      <td>3.959896</td>\n",
       "      <td>treatment</td>\n",
       "    </tr>\n",
       "  </tbody>\n",
       "</table>\n",
       "</div>"
      ],
      "text/plain": [
       "         date  customer_id  premium  watch_time_hrs customer_segmnt\n",
       "0  2018-09-11          402        0        7.173618         control\n",
       "1  2018-02-28          227        0        0.836170         control\n",
       "2  2018-10-18          812        1        4.402078       treatment\n",
       "3  2018-05-22           43        0        3.982454         control\n",
       "4  2018-07-18          307        0        7.513302         control\n",
       "5  2018-09-10          238        0        1.456961         control\n",
       "6  2018-02-21          691        1        3.800375       treatment\n",
       "7  2018-04-27          199        0        4.574446         control\n",
       "8  2018-05-28          105        0        3.425942         control\n",
       "9  2018-09-24          604        0        3.959896       treatment"
      ]
     },
     "execution_count": 20,
     "metadata": {},
     "output_type": "execute_result"
    }
   ],
   "source": [
    "ab_test_data = pd.read_csv(\"ab_test_data.csv\")\n",
    "ab_test_data.head(10)"
   ]
  },
  {
   "cell_type": "code",
   "execution_count": 35,
   "id": "47ab1f18-6cd7-48d0-950a-0e279bb949bc",
   "metadata": {},
   "outputs": [
    {
     "data": {
      "text/plain": [
       "(8459, 2012, 1514, 7975)"
      ]
     },
     "execution_count": 35,
     "metadata": {},
     "output_type": "execute_result"
    }
   ],
   "source": [
    "ab_test_data[(ab_test_data[\"premium\"] == 0) & (ab_test_data[\"customer_segmnt\"] == \"control\")].shape[0], ab_test_data[(ab_test_data[\"premium\"] == 1) & (ab_test_data[\"customer_segmnt\"] == \"treatment\")].shape[0], ab_test_data[(ab_test_data[\"premium\"] == 1) & (ab_test_data[\"customer_segmnt\"] == \"control\")].shape[0], ab_test_data[(ab_test_data[\"premium\"] == 0) & (ab_test_data[\"customer_segmnt\"] == \"treatment\")].shape[0]"
   ]
  },
  {
   "cell_type": "code",
   "execution_count": 36,
   "id": "0d758b04-fe75-4350-9860-81c3573a8b7e",
   "metadata": {},
   "outputs": [
    {
     "data": {
      "text/plain": [
       "customer_segmnt\n",
       "treatment    9987\n",
       "control      9973\n",
       "Name: count, dtype: int64"
      ]
     },
     "execution_count": 36,
     "metadata": {},
     "output_type": "execute_result"
    }
   ],
   "source": [
    "ab_test_data['customer_segmnt'].value_counts()"
   ]
  },
  {
   "cell_type": "code",
   "execution_count": 39,
   "id": "2b25637a-920c-4df8-aa97-c0b5280932c2",
   "metadata": {},
   "outputs": [
    {
     "data": {
      "image/png": "[encoded data removed]",
      "text/plain": [
       "<Figure size 640x480 with 1 Axes>"
      ]
     },
     "metadata": {},
     "output_type": "display_data"
    }
   ],
   "source": [
    "sns.histplot(ab_test_data['watch_time_hrs'], bins=100);"
   ]
  },
  {
   "cell_type": "code",
   "execution_count": 40,
   "id": "94030b48-b6a0-4944-b289-90fa49387763",
   "metadata": {},
   "outputs": [
    {
     "data": {
      "text/plain": [
       "customer_segmnt\n",
       "control      3.609960\n",
       "treatment    3.054294\n",
       "Name: watch_time_hrs, dtype: float64"
      ]
     },
     "execution_count": 40,
     "metadata": {},
     "output_type": "execute_result"
    }
   ],
   "source": [
    "ab_test_data.groupby(\"customer_segmnt\")[\"watch_time_hrs\"].mean()"
   ]
  },
  {
   "cell_type": "markdown",
   "id": "707286cc-9f87-43d3-917a-065a3cd39b1f",
   "metadata": {},
   "source": [
    "Watch time of treatment is less but still cant give answer whether there is a significant diff is there or not"
   ]
  },
  {
   "cell_type": "code",
   "execution_count": 41,
   "id": "8712ead6-42b3-4eb1-8d32-97f4a0511f5c",
   "metadata": {},
   "outputs": [],
   "source": [
    "ab_test_control_data = ab_test_data[ab_test_data[\"customer_segmnt\"] == \"control\"]\n",
    "ab_test_treatment_data = ab_test_data[ab_test_data[\"customer_segmnt\"] == \"treatment\"]"
   ]
  },
  {
   "cell_type": "code",
   "execution_count": 44,
   "id": "91c5a34b-0663-4219-a488-dba8c0485d8b",
   "metadata": {},
   "outputs": [
    {
     "data": {
      "text/plain": [
       "TtestResult(statistic=15.96034913022092, pvalue=5.438408586231319e-57, df=19958.0)"
      ]
     },
     "execution_count": 44,
     "metadata": {},
     "output_type": "execute_result"
    }
   ],
   "source": [
    "ttest_ind(ab_test_control_data[\"watch_time_hrs\"], ab_test_treatment_data[\"watch_time_hrs\"])"
   ]
  },
  {
   "cell_type": "markdown",
   "id": "d17eba7f-582f-4620-b081-799e6e1e49dd",
   "metadata": {},
   "source": [
    "pval is less, so significant difference is there and so recommendation is to not roll out 2 ads per break"
   ]
  },
  {
   "cell_type": "markdown",
   "id": "9d62e254-9bb9-4fb5-a3c5-78d0e541c10b",
   "metadata": {},
   "source": [
    "# Parametric vs Non-parametric"
   ]
  },
  {
   "cell_type": "markdown",
   "id": "fd7b4155-3a88-4555-a4a6-6cfdac229a52",
   "metadata": {},
   "source": [
    "**Parametric Hypothesis Testing:**\n",
    "<br>**Assumptions:**\n",
    "- Parametric tests make specific assumptions about the population distribution from which the data is drawn.\n",
    "- Common assumptions include normality (data follows a normal distribution) and variance is constant across groups or conditions.\n",
    "- Parametric tests are typically used when the data reasonably follows the assumed distribution and other assumptions are met.\n",
    "- Parametric tests tend to be more powerful (i.e., better at detecting true effects) than non-parametric tests when the assumptions are met.\n",
    "- This is especially true when the sample size is large.\n",
    "\n",
    "**Non-Parametric Hypothesis Testing:**\n",
    "<br>**Assumptions:**\n",
    "- Non-parametric tests make fewer or no assumptions about the population distribution.\n",
    "- They are distribution-free or rely on fewer assumptions, such as independence of observations.\n",
    "- Non-parametric tests are useful when the assumptions for parametric tests are violated.\n",
    "- They are also suitable for data types that don't fit well with parametric assumptions, such as ordinal or skewed data.\n",
    "- Non-parametric tests are generally less powerful than parametric tests when data conforms to parametric assumptions.\n",
    "- However, they can be more robust and appropriate when dealing with non-normally distributed data."
   ]
  },
  {
   "cell_type": "code",
   "execution_count": null,
   "id": "7f2871de-6d95-4d97-9466-69a21fad2588",
   "metadata": {},
   "outputs": [],
   "source": []
  }
 ],
 "metadata": {
  "kernelspec": {
   "display_name": "Python 3 (ipykernel)",
   "language": "python",
   "name": "python3"
  },
  "language_info": {
   "codemirror_mode": {
    "name": "ipython",
    "version": 3
   },
   "file_extension": ".py",
   "mimetype": "text/x-python",
   "name": "python",
   "nbconvert_exporter": "python",
   "pygments_lexer": "ipython3",
   "version": "3.12.2"
  }
 },
 "nbformat": 4,
 "nbformat_minor": 5
}
