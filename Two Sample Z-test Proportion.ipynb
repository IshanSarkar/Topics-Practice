{
 "cells": [
  {
   "cell_type": "markdown",
   "id": "2e6c3810-4f2b-4dc6-8691-4910b8c3a099",
   "metadata": {},
   "source": [
    "# Two Sample Z-test Proportion"
   ]
  },
  {
   "cell_type": "code",
   "execution_count": 7,
   "id": "e60f451e-cc2a-425d-90d7-3070f23de24a",
   "metadata": {},
   "outputs": [],
   "source": [
    "import numpy as np\n",
    "from scipy.stats import norm\n",
    "import statsmodels.api as sm"
   ]
  },
  {
   "cell_type": "markdown",
   "id": "f16f8a81-847c-467b-b255-fa33dc9f3073",
   "metadata": {},
   "source": [
    "Used to compare the proportions of two independent groups to determine if there is a significant difference between them."
   ]
  },
  {
   "cell_type": "markdown",
   "id": "27afdaa1-9c77-4a82-90cc-60cb10f4d67a",
   "metadata": {},
   "source": [
    "H0: Proportion is same <br>\n",
    "Ha: Proportion is different"
   ]
  },
  {
   "cell_type": "markdown",
   "id": "bbabff1b-199e-4dae-9fb7-fdf5796d2896",
   "metadata": {},
   "source": [
    "- You are the manager of an e-commerce website, and you have recently implemented a new web page in hopes of increasing sales.\n",
    "- To evaluate the effectiveness of the new page, you collected data on the conversion rates for both the old and new web pages. The conversionrate is defi ned as the proportion of visitors who make a purchase.\n",
    "    - For the old web page (Web Page A), you had 1000 visitors, resulting in 50 conversions.\n",
    "    - For the new web page (Web Page B), you had 500 visitors, resulting in 30 conversions.\n",
    "- Now, you want to determine if there is a statistically signifi cant difference in the conversion rates between the old and new web pages."
   ]
  },
  {
   "cell_type": "code",
   "execution_count": 5,
   "id": "2596ab9a-7a10-4144-8316-150331d29fda",
   "metadata": {},
   "outputs": [
    {
     "data": {
      "text/plain": [
       "(-0.8125338562826986, 0.4164853677823288)"
      ]
     },
     "execution_count": 5,
     "metadata": {},
     "output_type": "execute_result"
    }
   ],
   "source": [
    "# Theoratically\n",
    "x1=50\n",
    "n1=1000\n",
    "x2=30\n",
    "n2=500\n",
    "p1=x1/n1\n",
    "p2=x2/n2\n",
    "p=(x1+x2)/(n1+n2)\n",
    "\n",
    "z=(p1-p2)/np.sqrt(p*(1-p)*((1/n1)+(1/n2)))\n",
    "pval=2*(1-norm.cdf(abs(z))) #two tailed test\n",
    "z, pval"
   ]
  },
  {
   "cell_type": "code",
   "execution_count": 6,
   "id": "4a19def6-fcfd-4510-b165-ed3a13002335",
   "metadata": {},
   "outputs": [
    {
     "name": "stdout",
     "output_type": "stream",
     "text": [
      "Fail to reject the null hypothesis, proportions is same\n"
     ]
    }
   ],
   "source": [
    "alpha = 0.05 # Significance level\n",
    "if pval < alpha:\n",
    "    print(\"Reject the null hypothesis, proportions are different\")\n",
    "else:\n",
    "    print(\"Fail to reject the null hypothesis, proportions is same\")"
   ]
  },
  {
   "cell_type": "code",
   "execution_count": 8,
   "id": "923b4566-62ca-4332-b333-fad850e8c95a",
   "metadata": {},
   "outputs": [],
   "source": [
    "#If we have data\n",
    "\n",
    "# Define the data\n",
    "conversions = np.array([50, 30]) # Number of conversions for Web Page A and Web Page B\n",
    "visits = np.array([1000, 500]) # Number of visits for Web Page A and Web Page B"
   ]
  },
  {
   "cell_type": "code",
   "execution_count": 9,
   "id": "ef9c8906-28b5-4653-9e1f-76642a43d5e7",
   "metadata": {},
   "outputs": [
    {
     "data": {
      "text/plain": [
       "(-0.8125338562826986, 0.4164853677823287)"
      ]
     },
     "execution_count": 9,
     "metadata": {},
     "output_type": "execute_result"
    }
   ],
   "source": [
    "# Perform the Z-proportions test\n",
    "z_stat, p_value = sm.stats.proportions_ztest(conversions, visits, alternative='two-sided')\n",
    "z_stat, p_value"
   ]
  },
  {
   "cell_type": "code",
   "execution_count": 10,
   "id": "13280ff8-5fd8-4c96-8224-3529bdef170a",
   "metadata": {},
   "outputs": [
    {
     "name": "stdout",
     "output_type": "stream",
     "text": [
      "Fail to reject the null hypothesis, proportions is same\n"
     ]
    }
   ],
   "source": [
    "alpha = 0.05 # Significance level\n",
    "if p_value < alpha:\n",
    "    print(\"Reject the null hypothesis, proportions are different\")\n",
    "else:\n",
    "    print(\"Fail to reject the null hypothesis, proportions is same\")"
   ]
  },
  {
   "cell_type": "code",
   "execution_count": null,
   "id": "3a1d2d56-557b-4241-b125-62eb707e35e5",
   "metadata": {},
   "outputs": [],
   "source": []
  }
 ],
 "metadata": {
  "kernelspec": {
   "display_name": "Python 3 (ipykernel)",
   "language": "python",
   "name": "python3"
  },
  "language_info": {
   "codemirror_mode": {
    "name": "ipython",
    "version": 3
   },
   "file_extension": ".py",
   "mimetype": "text/x-python",
   "name": "python",
   "nbconvert_exporter": "python",
   "pygments_lexer": "ipython3",
   "version": "3.12.0"
  }
 },
 "nbformat": 4,
 "nbformat_minor": 5
}
