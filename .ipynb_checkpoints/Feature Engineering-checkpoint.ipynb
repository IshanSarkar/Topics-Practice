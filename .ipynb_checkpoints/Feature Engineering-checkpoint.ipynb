{
 "cells": [
  {
   "cell_type": "markdown",
   "id": "2ed6bac0-c260-48ae-8abf-ca76d1ee0693",
   "metadata": {},
   "source": [
    "# Feature Engineering"
   ]
  },
  {
   "cell_type": "markdown",
   "id": "31bd32cb-2432-4a15-86cc-36487fe93fb0",
   "metadata": {},
   "source": [
    "When we create a new column/Feature based on existing data/other columns via calculation"
   ]
  },
  {
   "cell_type": "markdown",
   "id": "cb316284-b587-42e1-a142-2fd95155529b",
   "metadata": {},
   "source": [
    "Exp: <br>\n",
    "Here we'll have features like Gender, Married, Income, etc and based on these features we have to predict our target column which is Loan Status."
   ]
  },
  {
   "cell_type": "code",
   "execution_count": 144,
   "id": "010a8852-89f7-4415-9f31-8e0f7741d88b",
   "metadata": {},
   "outputs": [],
   "source": [
    "import numpy as np\n",
    "import pandas as pd\n",
    "import matplotlib.pyplot as plt\n",
    "import seaborn as sns\n",
    "from scipy.stats import ttest_ind, chi2_contingency, zscore, shapiro\n",
    "from sklearn.impute import SimpleImputer\n",
    "from sklearn.preprocessing import LabelEncoder, StandardScaler, MinMaxScaler\n",
    "from category_encoders import TargetEncoder"
   ]
  },
  {
   "cell_type": "code",
   "execution_count": 2,
   "id": "6dac1b44-bd9a-421b-bd0f-ecdbcebf9f5f",
   "metadata": {},
   "outputs": [
    {
     "name": "stderr",
     "output_type": "stream",
     "text": [
      "Downloading...\n",
      "From: https://drive.google.com/uc?id=15B0YXLJhx41faA2rVyifWMjlmpuFqAxc\n",
      "To: C:\\Users\\ishan\\OneDrive\\Documents\\GitHub\\Topics-Practice\\loan.csv\n",
      "\n",
      "  0%|          | 0.00/38.0k [00:00<?, ?B/s]\n",
      "100%|##########| 38.0k/38.0k [00:00<00:00, 1.74MB/s]\n"
     ]
    }
   ],
   "source": [
    "!gdown 15B0YXLJhx41faA2rVyifWMjlmpuFqAxc"
   ]
  },
  {
   "cell_type": "code",
   "execution_count": 3,
   "id": "25bddd67-f936-4c72-b7e4-2df704bdcfa9",
   "metadata": {},
   "outputs": [
    {
     "data": {
      "text/plain": [
       "(614, 13)"
      ]
     },
     "execution_count": 3,
     "metadata": {},
     "output_type": "execute_result"
    }
   ],
   "source": [
    "data = pd.read_csv('loan.csv')\n",
    "data.shape"
   ]
  },
  {
   "cell_type": "code",
   "execution_count": 4,
   "id": "8e9ef10e-fd4e-4915-af41-7ba707cde851",
   "metadata": {},
   "outputs": [
    {
     "data": {
      "text/html": [
       "<div>\n",
       "<style scoped>\n",
       "    .dataframe tbody tr th:only-of-type {\n",
       "        vertical-align: middle;\n",
       "    }\n",
       "\n",
       "    .dataframe tbody tr th {\n",
       "        vertical-align: top;\n",
       "    }\n",
       "\n",
       "    .dataframe thead th {\n",
       "        text-align: right;\n",
       "    }\n",
       "</style>\n",
       "<table border=\"1\" class=\"dataframe\">\n",
       "  <thead>\n",
       "    <tr style=\"text-align: right;\">\n",
       "      <th></th>\n",
       "      <th>Loan_ID</th>\n",
       "      <th>Gender</th>\n",
       "      <th>Married</th>\n",
       "      <th>Dependents</th>\n",
       "      <th>Education</th>\n",
       "      <th>Self_Employed</th>\n",
       "      <th>ApplicantIncome</th>\n",
       "      <th>CoapplicantIncome</th>\n",
       "      <th>LoanAmount</th>\n",
       "      <th>Loan_Amount_Term</th>\n",
       "      <th>Credit_History</th>\n",
       "      <th>Property_Area</th>\n",
       "      <th>Loan_Status</th>\n",
       "    </tr>\n",
       "  </thead>\n",
       "  <tbody>\n",
       "    <tr>\n",
       "      <th>0</th>\n",
       "      <td>LP001002</td>\n",
       "      <td>Male</td>\n",
       "      <td>No</td>\n",
       "      <td>0</td>\n",
       "      <td>Graduate</td>\n",
       "      <td>No</td>\n",
       "      <td>5849</td>\n",
       "      <td>0.0</td>\n",
       "      <td>NaN</td>\n",
       "      <td>360.0</td>\n",
       "      <td>1.0</td>\n",
       "      <td>Urban</td>\n",
       "      <td>Y</td>\n",
       "    </tr>\n",
       "    <tr>\n",
       "      <th>1</th>\n",
       "      <td>LP001003</td>\n",
       "      <td>Male</td>\n",
       "      <td>Yes</td>\n",
       "      <td>1</td>\n",
       "      <td>Graduate</td>\n",
       "      <td>No</td>\n",
       "      <td>4583</td>\n",
       "      <td>1508.0</td>\n",
       "      <td>128.0</td>\n",
       "      <td>360.0</td>\n",
       "      <td>1.0</td>\n",
       "      <td>Rural</td>\n",
       "      <td>N</td>\n",
       "    </tr>\n",
       "    <tr>\n",
       "      <th>2</th>\n",
       "      <td>LP001005</td>\n",
       "      <td>Male</td>\n",
       "      <td>Yes</td>\n",
       "      <td>0</td>\n",
       "      <td>Graduate</td>\n",
       "      <td>Yes</td>\n",
       "      <td>3000</td>\n",
       "      <td>0.0</td>\n",
       "      <td>66.0</td>\n",
       "      <td>360.0</td>\n",
       "      <td>1.0</td>\n",
       "      <td>Urban</td>\n",
       "      <td>Y</td>\n",
       "    </tr>\n",
       "    <tr>\n",
       "      <th>3</th>\n",
       "      <td>LP001006</td>\n",
       "      <td>Male</td>\n",
       "      <td>Yes</td>\n",
       "      <td>0</td>\n",
       "      <td>Not Graduate</td>\n",
       "      <td>No</td>\n",
       "      <td>2583</td>\n",
       "      <td>2358.0</td>\n",
       "      <td>120.0</td>\n",
       "      <td>360.0</td>\n",
       "      <td>1.0</td>\n",
       "      <td>Urban</td>\n",
       "      <td>Y</td>\n",
       "    </tr>\n",
       "    <tr>\n",
       "      <th>4</th>\n",
       "      <td>LP001008</td>\n",
       "      <td>Male</td>\n",
       "      <td>No</td>\n",
       "      <td>0</td>\n",
       "      <td>Graduate</td>\n",
       "      <td>No</td>\n",
       "      <td>6000</td>\n",
       "      <td>0.0</td>\n",
       "      <td>141.0</td>\n",
       "      <td>360.0</td>\n",
       "      <td>1.0</td>\n",
       "      <td>Urban</td>\n",
       "      <td>Y</td>\n",
       "    </tr>\n",
       "  </tbody>\n",
       "</table>\n",
       "</div>"
      ],
      "text/plain": [
       "    Loan_ID Gender Married Dependents     Education Self_Employed  \\\n",
       "0  LP001002   Male      No          0      Graduate            No   \n",
       "1  LP001003   Male     Yes          1      Graduate            No   \n",
       "2  LP001005   Male     Yes          0      Graduate           Yes   \n",
       "3  LP001006   Male     Yes          0  Not Graduate            No   \n",
       "4  LP001008   Male      No          0      Graduate            No   \n",
       "\n",
       "   ApplicantIncome  CoapplicantIncome  LoanAmount  Loan_Amount_Term  \\\n",
       "0             5849                0.0         NaN             360.0   \n",
       "1             4583             1508.0       128.0             360.0   \n",
       "2             3000                0.0        66.0             360.0   \n",
       "3             2583             2358.0       120.0             360.0   \n",
       "4             6000                0.0       141.0             360.0   \n",
       "\n",
       "   Credit_History Property_Area Loan_Status  \n",
       "0             1.0         Urban           Y  \n",
       "1             1.0         Rural           N  \n",
       "2             1.0         Urban           Y  \n",
       "3             1.0         Urban           Y  \n",
       "4             1.0         Urban           Y  "
      ]
     },
     "execution_count": 4,
     "metadata": {},
     "output_type": "execute_result"
    }
   ],
   "source": [
    "data.head()"
   ]
  },
  {
   "cell_type": "markdown",
   "id": "16363e9e-f3bd-4f25-8dd1-216cda17cbfe",
   "metadata": {},
   "source": [
    "Here, <br>\n",
    "Target: Loan_Status <br>\n",
    "Remaining columns: Features <br>\n",
    "Based on features --> Predict target <br>"
   ]
  },
  {
   "cell_type": "code",
   "execution_count": 5,
   "id": "1fd0d1f6-4ccf-4c89-a8fd-44480b66b40f",
   "metadata": {},
   "outputs": [
    {
     "data": {
      "text/plain": [
       "Loan_ID               object\n",
       "Gender                object\n",
       "Married               object\n",
       "Dependents            object\n",
       "Education             object\n",
       "Self_Employed         object\n",
       "ApplicantIncome        int64\n",
       "CoapplicantIncome    float64\n",
       "LoanAmount           float64\n",
       "Loan_Amount_Term     float64\n",
       "Credit_History       float64\n",
       "Property_Area         object\n",
       "Loan_Status           object\n",
       "dtype: object"
      ]
     },
     "execution_count": 5,
     "metadata": {},
     "output_type": "execute_result"
    }
   ],
   "source": [
    "data.dtypes"
   ]
  },
  {
   "cell_type": "code",
   "execution_count": 6,
   "id": "c0710f3e-f33a-44d9-8b8d-dfe8708492ba",
   "metadata": {},
   "outputs": [
    {
     "data": {
      "text/plain": [
       "Dependents\n",
       "0     345\n",
       "1     102\n",
       "2     101\n",
       "3+     51\n",
       "Name: count, dtype: int64"
      ]
     },
     "execution_count": 6,
     "metadata": {},
     "output_type": "execute_result"
    }
   ],
   "source": [
    "data[\"Dependents\"].value_counts()"
   ]
  },
  {
   "cell_type": "code",
   "execution_count": 7,
   "id": "c700e2ae-e362-41ff-bcca-83b521759da8",
   "metadata": {},
   "outputs": [
    {
     "data": {
      "text/html": [
       "<div>\n",
       "<style scoped>\n",
       "    .dataframe tbody tr th:only-of-type {\n",
       "        vertical-align: middle;\n",
       "    }\n",
       "\n",
       "    .dataframe tbody tr th {\n",
       "        vertical-align: top;\n",
       "    }\n",
       "\n",
       "    .dataframe thead th {\n",
       "        text-align: right;\n",
       "    }\n",
       "</style>\n",
       "<table border=\"1\" class=\"dataframe\">\n",
       "  <thead>\n",
       "    <tr style=\"text-align: right;\">\n",
       "      <th></th>\n",
       "      <th>ApplicantIncome</th>\n",
       "      <th>CoapplicantIncome</th>\n",
       "      <th>LoanAmount</th>\n",
       "      <th>Loan_Amount_Term</th>\n",
       "      <th>Credit_History</th>\n",
       "    </tr>\n",
       "  </thead>\n",
       "  <tbody>\n",
       "    <tr>\n",
       "      <th>count</th>\n",
       "      <td>614.000000</td>\n",
       "      <td>614.000000</td>\n",
       "      <td>592.000000</td>\n",
       "      <td>600.00000</td>\n",
       "      <td>564.000000</td>\n",
       "    </tr>\n",
       "    <tr>\n",
       "      <th>mean</th>\n",
       "      <td>5403.459283</td>\n",
       "      <td>1621.245798</td>\n",
       "      <td>146.412162</td>\n",
       "      <td>342.00000</td>\n",
       "      <td>0.842199</td>\n",
       "    </tr>\n",
       "    <tr>\n",
       "      <th>std</th>\n",
       "      <td>6109.041673</td>\n",
       "      <td>2926.248369</td>\n",
       "      <td>85.587325</td>\n",
       "      <td>65.12041</td>\n",
       "      <td>0.364878</td>\n",
       "    </tr>\n",
       "    <tr>\n",
       "      <th>min</th>\n",
       "      <td>150.000000</td>\n",
       "      <td>0.000000</td>\n",
       "      <td>9.000000</td>\n",
       "      <td>12.00000</td>\n",
       "      <td>0.000000</td>\n",
       "    </tr>\n",
       "    <tr>\n",
       "      <th>25%</th>\n",
       "      <td>2877.500000</td>\n",
       "      <td>0.000000</td>\n",
       "      <td>100.000000</td>\n",
       "      <td>360.00000</td>\n",
       "      <td>1.000000</td>\n",
       "    </tr>\n",
       "    <tr>\n",
       "      <th>50%</th>\n",
       "      <td>3812.500000</td>\n",
       "      <td>1188.500000</td>\n",
       "      <td>128.000000</td>\n",
       "      <td>360.00000</td>\n",
       "      <td>1.000000</td>\n",
       "    </tr>\n",
       "    <tr>\n",
       "      <th>75%</th>\n",
       "      <td>5795.000000</td>\n",
       "      <td>2297.250000</td>\n",
       "      <td>168.000000</td>\n",
       "      <td>360.00000</td>\n",
       "      <td>1.000000</td>\n",
       "    </tr>\n",
       "    <tr>\n",
       "      <th>max</th>\n",
       "      <td>81000.000000</td>\n",
       "      <td>41667.000000</td>\n",
       "      <td>700.000000</td>\n",
       "      <td>480.00000</td>\n",
       "      <td>1.000000</td>\n",
       "    </tr>\n",
       "  </tbody>\n",
       "</table>\n",
       "</div>"
      ],
      "text/plain": [
       "       ApplicantIncome  CoapplicantIncome  LoanAmount  Loan_Amount_Term  \\\n",
       "count       614.000000         614.000000  592.000000         600.00000   \n",
       "mean       5403.459283        1621.245798  146.412162         342.00000   \n",
       "std        6109.041673        2926.248369   85.587325          65.12041   \n",
       "min         150.000000           0.000000    9.000000          12.00000   \n",
       "25%        2877.500000           0.000000  100.000000         360.00000   \n",
       "50%        3812.500000        1188.500000  128.000000         360.00000   \n",
       "75%        5795.000000        2297.250000  168.000000         360.00000   \n",
       "max       81000.000000       41667.000000  700.000000         480.00000   \n",
       "\n",
       "       Credit_History  \n",
       "count      564.000000  \n",
       "mean         0.842199  \n",
       "std          0.364878  \n",
       "min          0.000000  \n",
       "25%          1.000000  \n",
       "50%          1.000000  \n",
       "75%          1.000000  \n",
       "max          1.000000  "
      ]
     },
     "execution_count": 7,
     "metadata": {},
     "output_type": "execute_result"
    }
   ],
   "source": [
    "data = data.drop('Loan_ID',axis = 1)\n",
    "data.describe()"
   ]
  },
  {
   "cell_type": "markdown",
   "id": "67ad647d-0569-4cad-bbc0-f1c0b809f8d1",
   "metadata": {},
   "source": [
    "- The income varies significantly, with the lowest income being \\$150, and the highest being \\\\$81,000.\n",
    "- The majority of applicants have incomes below \\$6,000 (75th percentile).\n",
    "- Co-applicant incomes range from \\$0 to \\\\$41,667.\n",
    "- A significant portion of coapplicants has no income (25th percentile).\n",
    "- The mean loan amount requested is approximately \\$146, indicating that, on average, applicants seek loans of this amount.\n",
    "- The majority of loan terms are for 360 months (30 years).\n",
    "- The minimum loan term is 12 months, and the maximum is 480 months."
   ]
  },
  {
   "cell_type": "code",
   "execution_count": 8,
   "id": "e4eec511-c3ae-4f11-b5b6-111a7b15abd3",
   "metadata": {},
   "outputs": [
    {
     "data": {
      "text/html": [
       "<div>\n",
       "<style scoped>\n",
       "    .dataframe tbody tr th:only-of-type {\n",
       "        vertical-align: middle;\n",
       "    }\n",
       "\n",
       "    .dataframe tbody tr th {\n",
       "        vertical-align: top;\n",
       "    }\n",
       "\n",
       "    .dataframe thead th {\n",
       "        text-align: right;\n",
       "    }\n",
       "</style>\n",
       "<table border=\"1\" class=\"dataframe\">\n",
       "  <thead>\n",
       "    <tr style=\"text-align: right;\">\n",
       "      <th></th>\n",
       "      <th>Gender</th>\n",
       "      <th>Married</th>\n",
       "      <th>Dependents</th>\n",
       "      <th>Education</th>\n",
       "      <th>Self_Employed</th>\n",
       "      <th>Property_Area</th>\n",
       "      <th>Loan_Status</th>\n",
       "    </tr>\n",
       "  </thead>\n",
       "  <tbody>\n",
       "    <tr>\n",
       "      <th>count</th>\n",
       "      <td>601</td>\n",
       "      <td>611</td>\n",
       "      <td>599</td>\n",
       "      <td>614</td>\n",
       "      <td>582</td>\n",
       "      <td>614</td>\n",
       "      <td>614</td>\n",
       "    </tr>\n",
       "    <tr>\n",
       "      <th>unique</th>\n",
       "      <td>2</td>\n",
       "      <td>2</td>\n",
       "      <td>4</td>\n",
       "      <td>2</td>\n",
       "      <td>2</td>\n",
       "      <td>3</td>\n",
       "      <td>2</td>\n",
       "    </tr>\n",
       "    <tr>\n",
       "      <th>top</th>\n",
       "      <td>Male</td>\n",
       "      <td>Yes</td>\n",
       "      <td>0</td>\n",
       "      <td>Graduate</td>\n",
       "      <td>No</td>\n",
       "      <td>Semiurban</td>\n",
       "      <td>Y</td>\n",
       "    </tr>\n",
       "    <tr>\n",
       "      <th>freq</th>\n",
       "      <td>489</td>\n",
       "      <td>398</td>\n",
       "      <td>345</td>\n",
       "      <td>480</td>\n",
       "      <td>500</td>\n",
       "      <td>233</td>\n",
       "      <td>422</td>\n",
       "    </tr>\n",
       "  </tbody>\n",
       "</table>\n",
       "</div>"
      ],
      "text/plain": [
       "       Gender Married Dependents Education Self_Employed Property_Area  \\\n",
       "count     601     611        599       614           582           614   \n",
       "unique      2       2          4         2             2             3   \n",
       "top      Male     Yes          0  Graduate            No     Semiurban   \n",
       "freq      489     398        345       480           500           233   \n",
       "\n",
       "       Loan_Status  \n",
       "count          614  \n",
       "unique           2  \n",
       "top              Y  \n",
       "freq           422  "
      ]
     },
     "execution_count": 8,
     "metadata": {},
     "output_type": "execute_result"
    }
   ],
   "source": [
    "data.describe(include = ['object'])"
   ]
  },
  {
   "cell_type": "markdown",
   "id": "795168df-6222-4ccd-8349-2c6fe3b7cf79",
   "metadata": {},
   "source": [
    "- Male applicants significantly outnumber female applicants in the dataset.\n",
    "- A significant proportion of applicants are married (398 out of 611).\n",
    "- Married applicants are prevalent in the dataset.\n",
    "- A substantial portion of applicants has no dependents.\n",
    "- Graduates make up a significant portion of the applicant pool.\n",
    "- Non-self-employed individuals dominate the dataset.\n",
    "- A significant number of applicants are from semiurban areas.\n",
    "- The majority of applicants have their loans approved."
   ]
  },
  {
   "cell_type": "code",
   "execution_count": 9,
   "id": "7bd47f9f-b27e-4dcc-9b3c-4f96b9f6f9e6",
   "metadata": {},
   "outputs": [
    {
     "data": {
      "text/plain": [
       "Gender               13\n",
       "Married               3\n",
       "Dependents           15\n",
       "Education             0\n",
       "Self_Employed        32\n",
       "ApplicantIncome       0\n",
       "CoapplicantIncome     0\n",
       "LoanAmount           22\n",
       "Loan_Amount_Term     14\n",
       "Credit_History       50\n",
       "Property_Area         0\n",
       "Loan_Status           0\n",
       "dtype: int64"
      ]
     },
     "execution_count": 9,
     "metadata": {},
     "output_type": "execute_result"
    }
   ],
   "source": [
    "data.isna().sum()"
   ]
  },
  {
   "cell_type": "code",
   "execution_count": 10,
   "id": "d9187b23-e618-4d4d-a3eb-c953ef1bfcfe",
   "metadata": {},
   "outputs": [
    {
     "data": {
      "text/plain": [
       "['Gender',\n",
       " 'Married',\n",
       " 'Dependents',\n",
       " 'Education',\n",
       " 'Self_Employed',\n",
       " 'Property_Area',\n",
       " 'Loan_Status']"
      ]
     },
     "execution_count": 10,
     "metadata": {},
     "output_type": "execute_result"
    }
   ],
   "source": [
    "cat_cols = data.dtypes =='object'\n",
    "cat_cols = list(cat_cols[cat_cols].index)\n",
    "cat_cols"
   ]
  },
  {
   "cell_type": "code",
   "execution_count": 11,
   "id": "8ffcabb5-83d2-4bae-93fa-b59aeed47b96",
   "metadata": {},
   "outputs": [
    {
     "data": {
      "text/plain": [
       "['ApplicantIncome',\n",
       " 'CoapplicantIncome',\n",
       " 'LoanAmount',\n",
       " 'Loan_Amount_Term',\n",
       " 'Credit_History']"
      ]
     },
     "execution_count": 11,
     "metadata": {},
     "output_type": "execute_result"
    }
   ],
   "source": [
    "num_cols = data.dtypes !='object'\n",
    "num_cols = list(num_cols[num_cols].index)\n",
    "num_cols"
   ]
  },
  {
   "cell_type": "markdown",
   "id": "509bd697-f794-474d-a5d6-0eb9dd641488",
   "metadata": {},
   "source": [
    "#  Skewness"
   ]
  },
  {
   "cell_type": "code",
   "execution_count": 14,
   "id": "2ffdbd49-0fb7-47ac-8fef-38a1e2b3d1e5",
   "metadata": {},
   "outputs": [
    {
     "data": {
      "image/png": "[encoded data removed]",
      "text/plain": [
       "<Figure size 2500x1000 with 9 Axes>"
      ]
     },
     "metadata": {},
     "output_type": "display_data"
    }
   ],
   "source": [
    "plt.rcParams[\"figure.figsize\"] = [25,10]\n",
    "data.plot(kind = 'density', subplots = True, layout = (3,3), sharex = False);"
   ]
  },
  {
   "cell_type": "markdown",
   "id": "f0c788f3-2982-40e0-a51a-b777489c6789",
   "metadata": {},
   "source": [
    "What is Skewness:\n",
    "- Symmetrical Data (No Skewness): If a distribution is perfectly balanced, with data evenly spread on both sides of the center, it's like a hill with equal slopes on both sides. We call this \"symmetrical\" or \"no skewness.\"\n",
    "- Positive Skew (Right Skew): When most of the data is on the left side (lower values) and a long tail extends to the right (higher values), it's like a hill that's steeper on the left and has a long, gentle slope on the right.\n",
    "- Negative Skew (Left Skew): When most of the data is on the right side (higher values) and a long tail extends to the left (lower values), it's like a hill that's steeper on the right and has a long, gentle slope on the left."
   ]
  },
  {
   "cell_type": "code",
   "execution_count": 16,
   "id": "08e880ca-43c2-4144-9b87-fbee9a9c6322",
   "metadata": {},
   "outputs": [
    {
     "name": "stdout",
     "output_type": "stream",
     "text": [
      "ApplicantIncome      6.539513\n",
      "CoapplicantIncome    7.491531\n",
      "LoanAmount           2.677552\n",
      "Loan_Amount_Term    -2.362414\n",
      "Credit_History      -1.882361\n",
      "dtype: float64\n"
     ]
    }
   ],
   "source": [
    "print(data[num_cols].skew())"
   ]
  },
  {
   "cell_type": "markdown",
   "id": "4c3bf364-dcd6-4a77-9c21-84cd3e7e6619",
   "metadata": {},
   "source": [
    "1. Applicant Income and Coapplicant Income:\n",
    "    - These two features have positive skewness. Many applicants and co-applicants have lower incomes, but a few have really high incomes.\n",
    "2. Loan Amount:\n",
    "    - Loan amount also has positive skewness. Most loans are smaller, but there are a few that are much larger.\n",
    "3. Loan Amount Term:\n",
    "    - This feature has negative skewness. It indicates that most loan terms are longer (possibly a standard term), but there might be a few shorter-term loans.\n",
    "4. Credit History:\n",
    "    - Credit history has negative skewness, suggesting that most applicants have a positive credit history (1), but there might be a few with a negative credit history (0)."
   ]
  },
  {
   "cell_type": "markdown",
   "id": "b4a3548b-f862-4bb8-99f7-b1ad36c753cd",
   "metadata": {},
   "source": [
    "# Kurtosis\n",
    "A measure of how peaked or how heavily tailed the data is"
   ]
  },
  {
   "cell_type": "markdown",
   "id": "007f0507-e0cc-4ac7-ae4e-acdb57ec2528",
   "metadata": {},
   "source": [
    "- Leptokurtic (Pointy/+ve): If a graph is \"leptokurtic,\" it means it's pointier in the middle with long sides. This happens when there are extreme values, making the data bunch up in the middle.\n",
    "- Mesokurtic (Normal): A \"mesokurtic\" graph is like a normal, balanced curve. It's not too pointy or too flat.\n",
    "- Platykurtic (Flat/-ve): If a graph is \"platykurtic,\" it's flatter in the middle with a flattened peak. This occurs when the data is more spread out without many extreme values."
   ]
  },
  {
   "cell_type": "code",
   "execution_count": 18,
   "id": "add9bdc7-e94d-4c1f-8780-585977ad66c9",
   "metadata": {},
   "outputs": [
    {
     "data": {
      "text/plain": [
       "ApplicantIncome      60.540676\n",
       "CoapplicantIncome    84.956384\n",
       "LoanAmount           10.401533\n",
       "Loan_Amount_Term      6.673474\n",
       "Credit_History        1.548763\n",
       "dtype: float64"
      ]
     },
     "execution_count": 18,
     "metadata": {},
     "output_type": "execute_result"
    }
   ],
   "source": [
    "data[num_cols].kurt()"
   ]
  },
  {
   "cell_type": "markdown",
   "id": "880f2542-6bca-4368-92b3-a2e83793058f",
   "metadata": {},
   "source": [
    "1. Applicant and Coapplicant: Very high positive kurtosis means these distributions have heavy tails with some extreme values—indicating a few individuals with much higher incomes than the rest.\n",
    "2. Loan Amount: Positive kurtosis suggests heavy tails with some significantly higher values than the center.\n",
    "3. Loan Amount Term: Positive kurtosis implies a concentration of data around the mean but with some values noticeably different.\n",
    "4. Credit History: Positive kurtosis suggests a distribution with heavy tails, indicating a few applicants with a very different credit history."
   ]
  },
  {
   "cell_type": "markdown",
   "id": "e43e6b95-bf14-4324-b722-d7104c607b63",
   "metadata": {},
   "source": [
    "#  Univariate Analysis"
   ]
  },
  {
   "cell_type": "code",
   "execution_count": 22,
   "id": "bf4bb174-55e9-4713-8a36-82fe244c9b04",
   "metadata": {},
   "outputs": [
    {
     "data": {
      "text/plain": [
       "Loan_Status\n",
       "Y    422\n",
       "N    192\n",
       "Name: count, dtype: int64"
      ]
     },
     "execution_count": 22,
     "metadata": {},
     "output_type": "execute_result"
    }
   ],
   "source": [
    "data['Loan_Status'].value_counts()"
   ]
  },
  {
   "cell_type": "code",
   "execution_count": 21,
   "id": "26b55ec9-c3ae-4d75-8a7f-f9294b6464c6",
   "metadata": {},
   "outputs": [
    {
     "data": {
      "text/plain": [
       "<Axes: xlabel='Loan_Status', ylabel='count'>"
      ]
     },
     "execution_count": 21,
     "metadata": {},
     "output_type": "execute_result"
    },
    {
     "data": {
      "image/png": "[encoded data removed]",
      "text/plain": [
       "<Figure size 600x400 with 1 Axes>"
      ]
     },
     "metadata": {},
     "output_type": "display_data"
    }
   ],
   "source": [
    "target = 'Loan_Status'\n",
    "plt.rcParams[\"figure.figsize\"] = [6,4]\n",
    "sns.countplot(data=data, x='Loan_Status')"
   ]
  },
  {
   "cell_type": "code",
   "execution_count": 23,
   "id": "b549b691-f4c2-4ed6-a76b-18049e308bff",
   "metadata": {},
   "outputs": [
    {
     "data": {
      "image/png": "[encoded data removed]",
      "text/plain": [
       "<Figure size 1600x500 with 2 Axes>"
      ]
     },
     "metadata": {},
     "output_type": "display_data"
    }
   ],
   "source": [
    "plt.subplot(121)\n",
    "sns.histplot(data[\"ApplicantIncome\"], kde=True)\n",
    "plt.subplot(122)\n",
    "data[\"ApplicantIncome\"].plot.box(figsize=(16,5))\n",
    "plt.show()"
   ]
  },
  {
   "cell_type": "markdown",
   "id": "97bad5a4-adaa-4aa2-a1e9-98f6ec633b31",
   "metadata": {},
   "source": [
    "- Histogram is telling us that data is right skewed means there are some people who are earning far more than most of the people.\n",
    "- It can be inferred that most of the data in the distribution of applicant income is towards the left which means it is not normally distributed.\n",
    "- The boxplot confirms the presence of a lot of outliers/extreme values. This can be attributed to the income disparity in the society."
   ]
  },
  {
   "cell_type": "code",
   "execution_count": 24,
   "id": "d80c6bb6-a4b3-4d84-bb7e-0adf67bf0812",
   "metadata": {},
   "outputs": [
    {
     "data": {
      "text/plain": [
       "Loan_Status\n",
       "N    5446.078125\n",
       "Y    5384.068720\n",
       "Name: ApplicantIncome, dtype: float64"
      ]
     },
     "execution_count": 24,
     "metadata": {},
     "output_type": "execute_result"
    }
   ],
   "source": [
    "data.groupby(\"Loan_Status\")['ApplicantIncome'].mean()"
   ]
  },
  {
   "cell_type": "code",
   "execution_count": 27,
   "id": "4a14e946-3d33-4aa2-bac8-b2b2e6c019d4",
   "metadata": {},
   "outputs": [
    {
     "data": {
      "text/plain": [
       "TtestResult(statistic=-0.11650844828724542, pvalue=0.907287812130518, df=612.0)"
      ]
     },
     "execution_count": 27,
     "metadata": {},
     "output_type": "execute_result"
    }
   ],
   "source": [
    "# H0: Income and Loan status are independent\n",
    "# Ha: Dependent\n",
    "a = data[data[\"Loan_Status\"]==\"Y\"][\"ApplicantIncome\"]\n",
    "b = data[data[\"Loan_Status\"]==\"N\"][\"ApplicantIncome\"]\n",
    "ttest_ind(a, b)"
   ]
  },
  {
   "cell_type": "markdown",
   "id": "69f63ff7-f1b2-4e11-aeed-966f001feab6",
   "metadata": {},
   "source": [
    "p-value is very high --> Loan status and income are independent to each other"
   ]
  },
  {
   "cell_type": "markdown",
   "id": "a3655343-752b-4068-8677-e29b020b762b",
   "metadata": {},
   "source": [
    "# Binning"
   ]
  },
  {
   "cell_type": "markdown",
   "id": "1139a20e-ee7b-4402-a30a-9bcbcc13cfaf",
   "metadata": {},
   "source": [
    "Binning is like sorting and organizing information into groups. We do this to make it easier to understand and analyze."
   ]
  },
  {
   "cell_type": "code",
   "execution_count": 28,
   "id": "cd9340bd-9c9c-4bf4-8e94-c7f2afe1482c",
   "metadata": {},
   "outputs": [],
   "source": [
    "bins=[0,2500,4000,6000, 8000, 10000, 20000, 40000, 81000]\n",
    "group=['Low', 'Average', 'Medium', 'H1', 'H2', 'H3', 'H4', 'Very High']"
   ]
  },
  {
   "cell_type": "code",
   "execution_count": 29,
   "id": "91d5f1b0-f2a2-48b9-9562-50d00babb08e",
   "metadata": {},
   "outputs": [
    {
     "data": {
      "text/html": [
       "<div>\n",
       "<style scoped>\n",
       "    .dataframe tbody tr th:only-of-type {\n",
       "        vertical-align: middle;\n",
       "    }\n",
       "\n",
       "    .dataframe tbody tr th {\n",
       "        vertical-align: top;\n",
       "    }\n",
       "\n",
       "    .dataframe thead th {\n",
       "        text-align: right;\n",
       "    }\n",
       "</style>\n",
       "<table border=\"1\" class=\"dataframe\">\n",
       "  <thead>\n",
       "    <tr style=\"text-align: right;\">\n",
       "      <th></th>\n",
       "      <th>Gender</th>\n",
       "      <th>Married</th>\n",
       "      <th>Dependents</th>\n",
       "      <th>Education</th>\n",
       "      <th>Self_Employed</th>\n",
       "      <th>ApplicantIncome</th>\n",
       "      <th>CoapplicantIncome</th>\n",
       "      <th>LoanAmount</th>\n",
       "      <th>Loan_Amount_Term</th>\n",
       "      <th>Credit_History</th>\n",
       "      <th>Property_Area</th>\n",
       "      <th>Loan_Status</th>\n",
       "      <th>Income_bin</th>\n",
       "    </tr>\n",
       "  </thead>\n",
       "  <tbody>\n",
       "    <tr>\n",
       "      <th>0</th>\n",
       "      <td>Male</td>\n",
       "      <td>No</td>\n",
       "      <td>0</td>\n",
       "      <td>Graduate</td>\n",
       "      <td>No</td>\n",
       "      <td>5849</td>\n",
       "      <td>0.0</td>\n",
       "      <td>NaN</td>\n",
       "      <td>360.0</td>\n",
       "      <td>1.0</td>\n",
       "      <td>Urban</td>\n",
       "      <td>Y</td>\n",
       "      <td>Medium</td>\n",
       "    </tr>\n",
       "    <tr>\n",
       "      <th>1</th>\n",
       "      <td>Male</td>\n",
       "      <td>Yes</td>\n",
       "      <td>1</td>\n",
       "      <td>Graduate</td>\n",
       "      <td>No</td>\n",
       "      <td>4583</td>\n",
       "      <td>1508.0</td>\n",
       "      <td>128.0</td>\n",
       "      <td>360.0</td>\n",
       "      <td>1.0</td>\n",
       "      <td>Rural</td>\n",
       "      <td>N</td>\n",
       "      <td>Medium</td>\n",
       "    </tr>\n",
       "    <tr>\n",
       "      <th>2</th>\n",
       "      <td>Male</td>\n",
       "      <td>Yes</td>\n",
       "      <td>0</td>\n",
       "      <td>Graduate</td>\n",
       "      <td>Yes</td>\n",
       "      <td>3000</td>\n",
       "      <td>0.0</td>\n",
       "      <td>66.0</td>\n",
       "      <td>360.0</td>\n",
       "      <td>1.0</td>\n",
       "      <td>Urban</td>\n",
       "      <td>Y</td>\n",
       "      <td>Average</td>\n",
       "    </tr>\n",
       "    <tr>\n",
       "      <th>3</th>\n",
       "      <td>Male</td>\n",
       "      <td>Yes</td>\n",
       "      <td>0</td>\n",
       "      <td>Not Graduate</td>\n",
       "      <td>No</td>\n",
       "      <td>2583</td>\n",
       "      <td>2358.0</td>\n",
       "      <td>120.0</td>\n",
       "      <td>360.0</td>\n",
       "      <td>1.0</td>\n",
       "      <td>Urban</td>\n",
       "      <td>Y</td>\n",
       "      <td>Average</td>\n",
       "    </tr>\n",
       "    <tr>\n",
       "      <th>4</th>\n",
       "      <td>Male</td>\n",
       "      <td>No</td>\n",
       "      <td>0</td>\n",
       "      <td>Graduate</td>\n",
       "      <td>No</td>\n",
       "      <td>6000</td>\n",
       "      <td>0.0</td>\n",
       "      <td>141.0</td>\n",
       "      <td>360.0</td>\n",
       "      <td>1.0</td>\n",
       "      <td>Urban</td>\n",
       "      <td>Y</td>\n",
       "      <td>Medium</td>\n",
       "    </tr>\n",
       "  </tbody>\n",
       "</table>\n",
       "</div>"
      ],
      "text/plain": [
       "  Gender Married Dependents     Education Self_Employed  ApplicantIncome  \\\n",
       "0   Male      No          0      Graduate            No             5849   \n",
       "1   Male     Yes          1      Graduate            No             4583   \n",
       "2   Male     Yes          0      Graduate           Yes             3000   \n",
       "3   Male     Yes          0  Not Graduate            No             2583   \n",
       "4   Male      No          0      Graduate            No             6000   \n",
       "\n",
       "   CoapplicantIncome  LoanAmount  Loan_Amount_Term  Credit_History  \\\n",
       "0                0.0         NaN             360.0             1.0   \n",
       "1             1508.0       128.0             360.0             1.0   \n",
       "2                0.0        66.0             360.0             1.0   \n",
       "3             2358.0       120.0             360.0             1.0   \n",
       "4                0.0       141.0             360.0             1.0   \n",
       "\n",
       "  Property_Area Loan_Status Income_bin  \n",
       "0         Urban           Y     Medium  \n",
       "1         Rural           N     Medium  \n",
       "2         Urban           Y    Average  \n",
       "3         Urban           Y    Average  \n",
       "4         Urban           Y     Medium  "
      ]
     },
     "execution_count": 29,
     "metadata": {},
     "output_type": "execute_result"
    }
   ],
   "source": [
    "data['Income_bin']= pd.cut(data['ApplicantIncome'],bins,labels=group)\n",
    "data.head()"
   ]
  },
  {
   "cell_type": "code",
   "execution_count": 30,
   "id": "f42204fd-a859-4574-bc57-5ceb8194af34",
   "metadata": {},
   "outputs": [
    {
     "data": {
      "text/html": [
       "<div>\n",
       "<style scoped>\n",
       "    .dataframe tbody tr th:only-of-type {\n",
       "        vertical-align: middle;\n",
       "    }\n",
       "\n",
       "    .dataframe tbody tr th {\n",
       "        vertical-align: top;\n",
       "    }\n",
       "\n",
       "    .dataframe thead th {\n",
       "        text-align: right;\n",
       "    }\n",
       "</style>\n",
       "<table border=\"1\" class=\"dataframe\">\n",
       "  <thead>\n",
       "    <tr style=\"text-align: right;\">\n",
       "      <th>Loan_Status</th>\n",
       "      <th>N</th>\n",
       "      <th>Y</th>\n",
       "    </tr>\n",
       "    <tr>\n",
       "      <th>Income_bin</th>\n",
       "      <th></th>\n",
       "      <th></th>\n",
       "    </tr>\n",
       "  </thead>\n",
       "  <tbody>\n",
       "    <tr>\n",
       "      <th>Low</th>\n",
       "      <td>34</td>\n",
       "      <td>74</td>\n",
       "    </tr>\n",
       "    <tr>\n",
       "      <th>Average</th>\n",
       "      <td>67</td>\n",
       "      <td>159</td>\n",
       "    </tr>\n",
       "    <tr>\n",
       "      <th>Medium</th>\n",
       "      <td>45</td>\n",
       "      <td>98</td>\n",
       "    </tr>\n",
       "    <tr>\n",
       "      <th>H1</th>\n",
       "      <td>20</td>\n",
       "      <td>34</td>\n",
       "    </tr>\n",
       "    <tr>\n",
       "      <th>H2</th>\n",
       "      <td>9</td>\n",
       "      <td>22</td>\n",
       "    </tr>\n",
       "    <tr>\n",
       "      <th>H3</th>\n",
       "      <td>13</td>\n",
       "      <td>27</td>\n",
       "    </tr>\n",
       "    <tr>\n",
       "      <th>H4</th>\n",
       "      <td>3</td>\n",
       "      <td>6</td>\n",
       "    </tr>\n",
       "    <tr>\n",
       "      <th>Very High</th>\n",
       "      <td>1</td>\n",
       "      <td>2</td>\n",
       "    </tr>\n",
       "  </tbody>\n",
       "</table>\n",
       "</div>"
      ],
      "text/plain": [
       "Loan_Status   N    Y\n",
       "Income_bin          \n",
       "Low          34   74\n",
       "Average      67  159\n",
       "Medium       45   98\n",
       "H1           20   34\n",
       "H2            9   22\n",
       "H3           13   27\n",
       "H4            3    6\n",
       "Very High     1    2"
      ]
     },
     "execution_count": 30,
     "metadata": {},
     "output_type": "execute_result"
    }
   ],
   "source": [
    "pd.crosstab(data[\"Income_bin\"],data[\"Loan_Status\"])"
   ]
  },
  {
   "cell_type": "code",
   "execution_count": 31,
   "id": "cf403291-5f0b-481c-ad32-47a907c99181",
   "metadata": {},
   "outputs": [
    {
     "data": {
      "image/png": "[encoded data removed]",
      "text/plain": [
       "<Figure size 400x400 with 1 Axes>"
      ]
     },
     "metadata": {},
     "output_type": "display_data"
    }
   ],
   "source": [
    "Income_bin = pd.crosstab(data[\"Income_bin\"],data[\"Loan_Status\"], normalize=\"index\")\n",
    "Income_bin.plot(kind=\"bar\",figsize=(4,4))\n",
    "plt.xlabel(\"ApplicantIncome\")\n",
    "plt.ylabel(\"Percentage\")\n",
    "plt.show()"
   ]
  },
  {
   "cell_type": "markdown",
   "id": "d1396985-dcc8-4bcd-8df3-1092bf24ea95",
   "metadata": {},
   "source": [
    "We can see that all the bins have almost the same acceptance rate and now we can say that this is more significant."
   ]
  },
  {
   "cell_type": "code",
   "execution_count": 33,
   "id": "c16273c4-470e-49cf-9b1a-688165977962",
   "metadata": {},
   "outputs": [
    {
     "data": {
      "text/plain": [
       "array([[ 34,  74],\n",
       "       [ 67, 159],\n",
       "       [ 45,  98],\n",
       "       [ 20,  34],\n",
       "       [  9,  22],\n",
       "       [ 13,  27],\n",
       "       [  3,   6],\n",
       "       [  1,   2]], dtype=int64)"
      ]
     },
     "execution_count": 33,
     "metadata": {},
     "output_type": "execute_result"
    }
   ],
   "source": [
    "val = pd.crosstab(index=data[\"Income_bin\"], columns=data[\"Loan_Status\"]).values\n",
    "val"
   ]
  },
  {
   "cell_type": "code",
   "execution_count": 34,
   "id": "755f9fb0-7e74-4fcb-a00e-68622cb2a881",
   "metadata": {},
   "outputs": [
    {
     "data": {
      "text/plain": [
       "Chi2ContingencyResult(statistic=1.2420001711303135, pvalue=0.9899274842922701, dof=7, expected_freq=array([[ 33.77198697,  74.22801303],\n",
       "       [ 70.67100977, 155.32899023],\n",
       "       [ 44.71661238,  98.28338762],\n",
       "       [ 16.88599349,  37.11400651],\n",
       "       [  9.69381107,  21.30618893],\n",
       "       [ 12.50814332,  27.49185668],\n",
       "       [  2.81433225,   6.18566775],\n",
       "       [  0.93811075,   2.06188925]]))"
      ]
     },
     "execution_count": 34,
     "metadata": {},
     "output_type": "execute_result"
    }
   ],
   "source": [
    "# H0: Loan status and Income are independent\n",
    "chi2_contingency(val) # chi_stat, p_value, df, expected_values"
   ]
  },
  {
   "cell_type": "markdown",
   "id": "68f2b1b4-11f3-4750-8579-9d62b687ac5b",
   "metadata": {},
   "source": [
    "Why are we doing this all?\n",
    "<br>To find the feature which is most related to the target so that going forward we can use that feature to predict the target.\n",
    "<br>If I find completely unrelated columns it's useless for me like Loan ID"
   ]
  },
  {
   "cell_type": "code",
   "execution_count": 35,
   "id": "2414b333-9f57-4dfc-b227-08ca4f640986",
   "metadata": {},
   "outputs": [
    {
     "data": {
      "text/html": [
       "<div>\n",
       "<style scoped>\n",
       "    .dataframe tbody tr th:only-of-type {\n",
       "        vertical-align: middle;\n",
       "    }\n",
       "\n",
       "    .dataframe tbody tr th {\n",
       "        vertical-align: top;\n",
       "    }\n",
       "\n",
       "    .dataframe thead th {\n",
       "        text-align: right;\n",
       "    }\n",
       "</style>\n",
       "<table border=\"1\" class=\"dataframe\">\n",
       "  <thead>\n",
       "    <tr style=\"text-align: right;\">\n",
       "      <th></th>\n",
       "      <th>Gender</th>\n",
       "      <th>Married</th>\n",
       "      <th>Dependents</th>\n",
       "      <th>Education</th>\n",
       "      <th>Self_Employed</th>\n",
       "      <th>ApplicantIncome</th>\n",
       "      <th>CoapplicantIncome</th>\n",
       "      <th>LoanAmount</th>\n",
       "      <th>Loan_Amount_Term</th>\n",
       "      <th>Credit_History</th>\n",
       "      <th>Property_Area</th>\n",
       "      <th>Loan_Status</th>\n",
       "      <th>Income_bin</th>\n",
       "      <th>TotalIncome</th>\n",
       "    </tr>\n",
       "  </thead>\n",
       "  <tbody>\n",
       "    <tr>\n",
       "      <th>0</th>\n",
       "      <td>Male</td>\n",
       "      <td>No</td>\n",
       "      <td>0</td>\n",
       "      <td>Graduate</td>\n",
       "      <td>No</td>\n",
       "      <td>5849</td>\n",
       "      <td>0.0</td>\n",
       "      <td>NaN</td>\n",
       "      <td>360.0</td>\n",
       "      <td>1.0</td>\n",
       "      <td>Urban</td>\n",
       "      <td>Y</td>\n",
       "      <td>Medium</td>\n",
       "      <td>5849.0</td>\n",
       "    </tr>\n",
       "    <tr>\n",
       "      <th>1</th>\n",
       "      <td>Male</td>\n",
       "      <td>Yes</td>\n",
       "      <td>1</td>\n",
       "      <td>Graduate</td>\n",
       "      <td>No</td>\n",
       "      <td>4583</td>\n",
       "      <td>1508.0</td>\n",
       "      <td>128.0</td>\n",
       "      <td>360.0</td>\n",
       "      <td>1.0</td>\n",
       "      <td>Rural</td>\n",
       "      <td>N</td>\n",
       "      <td>Medium</td>\n",
       "      <td>6091.0</td>\n",
       "    </tr>\n",
       "    <tr>\n",
       "      <th>2</th>\n",
       "      <td>Male</td>\n",
       "      <td>Yes</td>\n",
       "      <td>0</td>\n",
       "      <td>Graduate</td>\n",
       "      <td>Yes</td>\n",
       "      <td>3000</td>\n",
       "      <td>0.0</td>\n",
       "      <td>66.0</td>\n",
       "      <td>360.0</td>\n",
       "      <td>1.0</td>\n",
       "      <td>Urban</td>\n",
       "      <td>Y</td>\n",
       "      <td>Average</td>\n",
       "      <td>3000.0</td>\n",
       "    </tr>\n",
       "    <tr>\n",
       "      <th>3</th>\n",
       "      <td>Male</td>\n",
       "      <td>Yes</td>\n",
       "      <td>0</td>\n",
       "      <td>Not Graduate</td>\n",
       "      <td>No</td>\n",
       "      <td>2583</td>\n",
       "      <td>2358.0</td>\n",
       "      <td>120.0</td>\n",
       "      <td>360.0</td>\n",
       "      <td>1.0</td>\n",
       "      <td>Urban</td>\n",
       "      <td>Y</td>\n",
       "      <td>Average</td>\n",
       "      <td>4941.0</td>\n",
       "    </tr>\n",
       "    <tr>\n",
       "      <th>4</th>\n",
       "      <td>Male</td>\n",
       "      <td>No</td>\n",
       "      <td>0</td>\n",
       "      <td>Graduate</td>\n",
       "      <td>No</td>\n",
       "      <td>6000</td>\n",
       "      <td>0.0</td>\n",
       "      <td>141.0</td>\n",
       "      <td>360.0</td>\n",
       "      <td>1.0</td>\n",
       "      <td>Urban</td>\n",
       "      <td>Y</td>\n",
       "      <td>Medium</td>\n",
       "      <td>6000.0</td>\n",
       "    </tr>\n",
       "  </tbody>\n",
       "</table>\n",
       "</div>"
      ],
      "text/plain": [
       "  Gender Married Dependents     Education Self_Employed  ApplicantIncome  \\\n",
       "0   Male      No          0      Graduate            No             5849   \n",
       "1   Male     Yes          1      Graduate            No             4583   \n",
       "2   Male     Yes          0      Graduate           Yes             3000   \n",
       "3   Male     Yes          0  Not Graduate            No             2583   \n",
       "4   Male      No          0      Graduate            No             6000   \n",
       "\n",
       "   CoapplicantIncome  LoanAmount  Loan_Amount_Term  Credit_History  \\\n",
       "0                0.0         NaN             360.0             1.0   \n",
       "1             1508.0       128.0             360.0             1.0   \n",
       "2                0.0        66.0             360.0             1.0   \n",
       "3             2358.0       120.0             360.0             1.0   \n",
       "4                0.0       141.0             360.0             1.0   \n",
       "\n",
       "  Property_Area Loan_Status Income_bin  TotalIncome  \n",
       "0         Urban           Y     Medium       5849.0  \n",
       "1         Rural           N     Medium       6091.0  \n",
       "2         Urban           Y    Average       3000.0  \n",
       "3         Urban           Y    Average       4941.0  \n",
       "4         Urban           Y     Medium       6000.0  "
      ]
     },
     "execution_count": 35,
     "metadata": {},
     "output_type": "execute_result"
    }
   ],
   "source": [
    "data[\"TotalIncome\"] = data[\"ApplicantIncome\"] + data[\"CoapplicantIncome\"]\n",
    "data.head()"
   ]
  },
  {
   "cell_type": "code",
   "execution_count": 36,
   "id": "60a920e6-b4dd-4c80-9630-ace1c3a1087b",
   "metadata": {},
   "outputs": [],
   "source": [
    "bins = [0,3000,5000,8000,81000]\n",
    "group = ['Low','Average','High','Very High']\n",
    "data[\"TotalIncome_bin\"] = pd.cut(data[\"TotalIncome\"],bins,labels=group)"
   ]
  },
  {
   "cell_type": "code",
   "execution_count": 37,
   "id": "9d01b65d-3eb5-428e-8314-b29b36de2c8a",
   "metadata": {},
   "outputs": [
    {
     "data": {
      "text/plain": [
       "<Axes: xlabel='TotalIncome_bin'>"
      ]
     },
     "execution_count": 37,
     "metadata": {},
     "output_type": "execute_result"
    },
    {
     "data": {
      "image/png": "[encoded data removed]",
      "text/plain": [
       "<Figure size 400x400 with 1 Axes>"
      ]
     },
     "metadata": {},
     "output_type": "display_data"
    }
   ],
   "source": [
    "vals_n = pd.crosstab(data[\"TotalIncome_bin\"], data[\"Loan_Status\"], normalize=\"index\")\n",
    "vals_n.plot(kind=\"bar\",figsize=(4,4))"
   ]
  },
  {
   "cell_type": "code",
   "execution_count": 38,
   "id": "12c681b3-af31-44d5-ba75-396fd21bf5b9",
   "metadata": {},
   "outputs": [
    {
     "data": {
      "text/html": [
       "<div>\n",
       "<style scoped>\n",
       "    .dataframe tbody tr th:only-of-type {\n",
       "        vertical-align: middle;\n",
       "    }\n",
       "\n",
       "    .dataframe tbody tr th {\n",
       "        vertical-align: top;\n",
       "    }\n",
       "\n",
       "    .dataframe thead th {\n",
       "        text-align: right;\n",
       "    }\n",
       "</style>\n",
       "<table border=\"1\" class=\"dataframe\">\n",
       "  <thead>\n",
       "    <tr style=\"text-align: right;\">\n",
       "      <th>Loan_Status</th>\n",
       "      <th>N</th>\n",
       "      <th>Y</th>\n",
       "    </tr>\n",
       "    <tr>\n",
       "      <th>TotalIncome_bin</th>\n",
       "      <th></th>\n",
       "      <th></th>\n",
       "    </tr>\n",
       "  </thead>\n",
       "  <tbody>\n",
       "    <tr>\n",
       "      <th>Low</th>\n",
       "      <td>20</td>\n",
       "      <td>27</td>\n",
       "    </tr>\n",
       "    <tr>\n",
       "      <th>Average</th>\n",
       "      <td>69</td>\n",
       "      <td>154</td>\n",
       "    </tr>\n",
       "    <tr>\n",
       "      <th>High</th>\n",
       "      <td>61</td>\n",
       "      <td>151</td>\n",
       "    </tr>\n",
       "    <tr>\n",
       "      <th>Very High</th>\n",
       "      <td>42</td>\n",
       "      <td>90</td>\n",
       "    </tr>\n",
       "  </tbody>\n",
       "</table>\n",
       "</div>"
      ],
      "text/plain": [
       "Loan_Status       N    Y\n",
       "TotalIncome_bin         \n",
       "Low              20   27\n",
       "Average          69  154\n",
       "High             61  151\n",
       "Very High        42   90"
      ]
     },
     "execution_count": 38,
     "metadata": {},
     "output_type": "execute_result"
    }
   ],
   "source": [
    "vals = pd.crosstab(data[\"TotalIncome_bin\"], data[\"Loan_Status\"])\n",
    "vals"
   ]
  },
  {
   "cell_type": "code",
   "execution_count": 39,
   "id": "44a93f2a-0501-4b83-afde-eec58c686ef8",
   "metadata": {},
   "outputs": [
    {
     "data": {
      "text/plain": [
       "Chi2ContingencyResult(statistic=3.428480885250809, pvalue=0.3301570564076713, dof=3, expected_freq=array([[ 14.6970684 ,  32.3029316 ],\n",
       "       [ 69.73289902, 153.26710098],\n",
       "       [ 66.29315961, 145.70684039],\n",
       "       [ 41.27687296,  90.72312704]]))"
      ]
     },
     "execution_count": 39,
     "metadata": {},
     "output_type": "execute_result"
    }
   ],
   "source": [
    "chi2_contingency(vals) # chi_stat, p-value, dof, expected"
   ]
  },
  {
   "cell_type": "markdown",
   "id": "2c500f10-8dec-44d1-b8f0-6caed6d3b941",
   "metadata": {},
   "source": [
    "The P-value is slightly low here but significantly it is still high so despite doing total_income we can find income and loan_status unrelated to each other"
   ]
  },
  {
   "cell_type": "markdown",
   "id": "67b94dd9-9293-4537-b1ba-cfc4d531e8c7",
   "metadata": {},
   "source": [
    "#  Creating new features"
   ]
  },
  {
   "cell_type": "code",
   "execution_count": 40,
   "id": "7c1024f1-94c3-412d-a4f7-d6af10cbb180",
   "metadata": {},
   "outputs": [
    {
     "data": {
      "text/plain": [
       "Loan_Amount_Term\n",
       "360.0    512\n",
       "180.0     44\n",
       "480.0     15\n",
       "300.0     13\n",
       "240.0      4\n",
       "84.0       4\n",
       "120.0      3\n",
       "60.0       2\n",
       "36.0       2\n",
       "12.0       1\n",
       "Name: count, dtype: int64"
      ]
     },
     "execution_count": 40,
     "metadata": {},
     "output_type": "execute_result"
    }
   ],
   "source": [
    "data['Loan_Amount_Term'].value_counts()"
   ]
  },
  {
   "cell_type": "code",
   "execution_count": 41,
   "id": "dda26f06-8057-4495-8542-4ac828908ba9",
   "metadata": {},
   "outputs": [],
   "source": [
    "data['Loan_Amount_Term'] = (data['Loan_Amount_Term']/12).astype('float')"
   ]
  },
  {
   "cell_type": "code",
   "execution_count": 42,
   "id": "153ed77d-8bb8-4c37-8b0a-7bfdd45204fe",
   "metadata": {},
   "outputs": [
    {
     "data": {
      "image/png": "[encoded data removed]",
      "text/plain": [
       "<Figure size 600x400 with 1 Axes>"
      ]
     },
     "metadata": {},
     "output_type": "display_data"
    }
   ],
   "source": [
    "sns.countplot(x='Loan_Amount_Term', data=data)\n",
    "plt.xlabel(\"Term in years\")\n",
    "plt.show()"
   ]
  },
  {
   "cell_type": "code",
   "execution_count": 43,
   "id": "3866fb06-8abc-457e-afec-513ecf927bec",
   "metadata": {},
   "outputs": [
    {
     "data": {
      "image/png": "[encoded data removed]",
      "text/plain": [
       "<Figure size 1600x500 with 2 Axes>"
      ]
     },
     "metadata": {},
     "output_type": "display_data"
    }
   ],
   "source": [
    "plt.figure(figsize=(16,5))\n",
    "plt.subplot(121)\n",
    "sns.histplot(data['LoanAmount']);\n",
    "plt.subplot(122)\n",
    "sns.boxplot(data=data, x='Loan_Status', y = 'LoanAmount')\n",
    "plt.show()"
   ]
  },
  {
   "cell_type": "code",
   "execution_count": 44,
   "id": "9a7ec11c-7436-44d5-9afd-55852e91bcab",
   "metadata": {},
   "outputs": [],
   "source": [
    "data['Loan_Amount_per_year'] = data['LoanAmount']/data['Loan_Amount_Term']"
   ]
  },
  {
   "cell_type": "code",
   "execution_count": 45,
   "id": "5fee5de7-c2c5-403c-a452-ac543c912997",
   "metadata": {},
   "outputs": [],
   "source": [
    "data['EMI'] = data['Loan_Amount_per_year']*1000/12 # Crude approximation without interest"
   ]
  },
  {
   "cell_type": "code",
   "execution_count": 46,
   "id": "f99e1c2e-b5b1-402a-899c-c7f48aa27773",
   "metadata": {},
   "outputs": [],
   "source": [
    "data['Able_to_pay_EMI'] = (data['TotalIncome']* 0.3 > data['EMI']).astype('int')"
   ]
  },
  {
   "cell_type": "code",
   "execution_count": 47,
   "id": "a5cf9058-c106-4161-a7c8-df60e9b8dbd5",
   "metadata": {},
   "outputs": [
    {
     "data": {
      "image/png": "[encoded data removed]",
      "text/plain": [
       "<Figure size 600x400 with 1 Axes>"
      ]
     },
     "metadata": {},
     "output_type": "display_data"
    }
   ],
   "source": [
    "sns.countplot(x='Able_to_pay_EMI', data = data, hue = 'Loan_Status');"
   ]
  },
  {
   "cell_type": "markdown",
   "id": "c0eb43d9-4137-4b3b-bc7b-e593a6b38b74",
   "metadata": {},
   "source": [
    "Observation:\n",
    "- There is a 52% chance that you may get the loan approved if you cannot pay the EMI.\n",
    "- But there, is a 69% chance that you may get the loan approved if you can pay the EMI."
   ]
  },
  {
   "cell_type": "code",
   "execution_count": 48,
   "id": "cdb8816d-b98d-4c1e-83cb-43a26e68fb4f",
   "metadata": {},
   "outputs": [
    {
     "data": {
      "text/html": [
       "<div>\n",
       "<style scoped>\n",
       "    .dataframe tbody tr th:only-of-type {\n",
       "        vertical-align: middle;\n",
       "    }\n",
       "\n",
       "    .dataframe tbody tr th {\n",
       "        vertical-align: top;\n",
       "    }\n",
       "\n",
       "    .dataframe thead th {\n",
       "        text-align: right;\n",
       "    }\n",
       "</style>\n",
       "<table border=\"1\" class=\"dataframe\">\n",
       "  <thead>\n",
       "    <tr style=\"text-align: right;\">\n",
       "      <th>Loan_Status</th>\n",
       "      <th>N</th>\n",
       "      <th>Y</th>\n",
       "    </tr>\n",
       "    <tr>\n",
       "      <th>Able_to_pay_EMI</th>\n",
       "      <th></th>\n",
       "      <th></th>\n",
       "    </tr>\n",
       "  </thead>\n",
       "  <tbody>\n",
       "    <tr>\n",
       "      <th>0</th>\n",
       "      <td>19</td>\n",
       "      <td>21</td>\n",
       "    </tr>\n",
       "    <tr>\n",
       "      <th>1</th>\n",
       "      <td>173</td>\n",
       "      <td>401</td>\n",
       "    </tr>\n",
       "  </tbody>\n",
       "</table>\n",
       "</div>"
      ],
      "text/plain": [
       "Loan_Status        N    Y\n",
       "Able_to_pay_EMI          \n",
       "0                 19   21\n",
       "1                173  401"
      ]
     },
     "execution_count": 48,
     "metadata": {},
     "output_type": "execute_result"
    }
   ],
   "source": [
    "vals = pd.crosstab(data['Able_to_pay_EMI'], data['Loan_Status'])\n",
    "vals"
   ]
  },
  {
   "cell_type": "code",
   "execution_count": 49,
   "id": "974a2eff-b98c-4439-82bd-af825a7f2bd1",
   "metadata": {},
   "outputs": [
    {
     "data": {
      "text/plain": [
       "Chi2ContingencyResult(statistic=4.467271867611989, pvalue=0.03455011506195388, dof=1, expected_freq=array([[ 12.50814332,  27.49185668],\n",
       "       [179.49185668, 394.50814332]]))"
      ]
     },
     "execution_count": 49,
     "metadata": {},
     "output_type": "execute_result"
    }
   ],
   "source": [
    "chi2_contingency(pd.crosstab(data['Able_to_pay_EMI'], data['Loan_Status']))"
   ]
  },
  {
   "cell_type": "markdown",
   "id": "d621f0e8-0670-45e2-8fb0-1dfea0a8bbc9",
   "metadata": {},
   "source": [
    "- Here you can see a p-value of 0.03 which we can say has great significance.\n",
    "- We can say that Able_to_pay_EMI has very relate to Loan_Status.\n",
    "- You can see this is the art where from the Salary, and Loan term columns we created a new column \"Able_to_pay_EMI\" which has a high impact on the target."
   ]
  },
  {
   "cell_type": "code",
   "execution_count": 50,
   "id": "8aa75c5a-3e43-4026-91ec-8a9941d51fe8",
   "metadata": {},
   "outputs": [
    {
     "data": {
      "text/plain": [
       "Dependents\n",
       "0     345\n",
       "1     102\n",
       "2     101\n",
       "3+     51\n",
       "Name: count, dtype: int64"
      ]
     },
     "execution_count": 50,
     "metadata": {},
     "output_type": "execute_result"
    }
   ],
   "source": [
    "data[\"Dependents\"].value_counts()"
   ]
  },
  {
   "cell_type": "code",
   "execution_count": 51,
   "id": "0d6294a9-2373-4325-9b08-8a61da9708a0",
   "metadata": {},
   "outputs": [
    {
     "data": {
      "text/plain": [
       "Dependents\n",
       "0    345\n",
       "1    102\n",
       "2    101\n",
       "3     51\n",
       "Name: count, dtype: int64"
      ]
     },
     "execution_count": 51,
     "metadata": {},
     "output_type": "execute_result"
    }
   ],
   "source": [
    "# replacing 3+ with 3\n",
    "data['Dependents'].replace('3+',3,inplace=True)\n",
    "data[\"Dependents\"].value_counts()"
   ]
  },
  {
   "cell_type": "code",
   "execution_count": 52,
   "id": "f1a8dc93-1594-4c77-9bad-89636cd1fdc9",
   "metadata": {},
   "outputs": [
    {
     "data": {
      "text/plain": [
       "Credit_History\n",
       "1.0    475\n",
       "0.0     89\n",
       "Name: count, dtype: int64"
      ]
     },
     "execution_count": 52,
     "metadata": {},
     "output_type": "execute_result"
    }
   ],
   "source": [
    "data[\"Credit_History\"].value_counts()"
   ]
  },
  {
   "cell_type": "markdown",
   "id": "4cd79545-e1c6-4818-b75e-aa1dc39cf55f",
   "metadata": {},
   "source": [
    "#  Missing Values"
   ]
  },
  {
   "cell_type": "code",
   "execution_count": 53,
   "id": "4c0e8bb2-4818-4cbb-9cd7-8628ab1f465d",
   "metadata": {},
   "outputs": [
    {
     "data": {
      "text/html": [
       "<div>\n",
       "<style scoped>\n",
       "    .dataframe tbody tr th:only-of-type {\n",
       "        vertical-align: middle;\n",
       "    }\n",
       "\n",
       "    .dataframe tbody tr th {\n",
       "        vertical-align: top;\n",
       "    }\n",
       "\n",
       "    .dataframe thead th {\n",
       "        text-align: right;\n",
       "    }\n",
       "</style>\n",
       "<table border=\"1\" class=\"dataframe\">\n",
       "  <thead>\n",
       "    <tr style=\"text-align: right;\">\n",
       "      <th></th>\n",
       "      <th>Missing Value</th>\n",
       "      <th>Percentage</th>\n",
       "    </tr>\n",
       "  </thead>\n",
       "  <tbody>\n",
       "    <tr>\n",
       "      <th>Credit_History</th>\n",
       "      <td>50</td>\n",
       "      <td>8.143322</td>\n",
       "    </tr>\n",
       "    <tr>\n",
       "      <th>EMI</th>\n",
       "      <td>36</td>\n",
       "      <td>5.863192</td>\n",
       "    </tr>\n",
       "    <tr>\n",
       "      <th>Loan_Amount_per_year</th>\n",
       "      <td>36</td>\n",
       "      <td>5.863192</td>\n",
       "    </tr>\n",
       "    <tr>\n",
       "      <th>Self_Employed</th>\n",
       "      <td>32</td>\n",
       "      <td>5.211726</td>\n",
       "    </tr>\n",
       "    <tr>\n",
       "      <th>LoanAmount</th>\n",
       "      <td>22</td>\n",
       "      <td>3.583062</td>\n",
       "    </tr>\n",
       "    <tr>\n",
       "      <th>Dependents</th>\n",
       "      <td>15</td>\n",
       "      <td>2.442997</td>\n",
       "    </tr>\n",
       "    <tr>\n",
       "      <th>Loan_Amount_Term</th>\n",
       "      <td>14</td>\n",
       "      <td>2.280130</td>\n",
       "    </tr>\n",
       "    <tr>\n",
       "      <th>Gender</th>\n",
       "      <td>13</td>\n",
       "      <td>2.117264</td>\n",
       "    </tr>\n",
       "    <tr>\n",
       "      <th>Married</th>\n",
       "      <td>3</td>\n",
       "      <td>0.488599</td>\n",
       "    </tr>\n",
       "    <tr>\n",
       "      <th>CoapplicantIncome</th>\n",
       "      <td>0</td>\n",
       "      <td>0.000000</td>\n",
       "    </tr>\n",
       "    <tr>\n",
       "      <th>Property_Area</th>\n",
       "      <td>0</td>\n",
       "      <td>0.000000</td>\n",
       "    </tr>\n",
       "    <tr>\n",
       "      <th>Loan_Status</th>\n",
       "      <td>0</td>\n",
       "      <td>0.000000</td>\n",
       "    </tr>\n",
       "    <tr>\n",
       "      <th>Income_bin</th>\n",
       "      <td>0</td>\n",
       "      <td>0.000000</td>\n",
       "    </tr>\n",
       "    <tr>\n",
       "      <th>TotalIncome</th>\n",
       "      <td>0</td>\n",
       "      <td>0.000000</td>\n",
       "    </tr>\n",
       "    <tr>\n",
       "      <th>TotalIncome_bin</th>\n",
       "      <td>0</td>\n",
       "      <td>0.000000</td>\n",
       "    </tr>\n",
       "    <tr>\n",
       "      <th>ApplicantIncome</th>\n",
       "      <td>0</td>\n",
       "      <td>0.000000</td>\n",
       "    </tr>\n",
       "    <tr>\n",
       "      <th>Education</th>\n",
       "      <td>0</td>\n",
       "      <td>0.000000</td>\n",
       "    </tr>\n",
       "    <tr>\n",
       "      <th>Able_to_pay_EMI</th>\n",
       "      <td>0</td>\n",
       "      <td>0.000000</td>\n",
       "    </tr>\n",
       "  </tbody>\n",
       "</table>\n",
       "</div>"
      ],
      "text/plain": [
       "                      Missing Value  Percentage\n",
       "Credit_History                   50    8.143322\n",
       "EMI                              36    5.863192\n",
       "Loan_Amount_per_year             36    5.863192\n",
       "Self_Employed                    32    5.211726\n",
       "LoanAmount                       22    3.583062\n",
       "Dependents                       15    2.442997\n",
       "Loan_Amount_Term                 14    2.280130\n",
       "Gender                           13    2.117264\n",
       "Married                           3    0.488599\n",
       "CoapplicantIncome                 0    0.000000\n",
       "Property_Area                     0    0.000000\n",
       "Loan_Status                       0    0.000000\n",
       "Income_bin                        0    0.000000\n",
       "TotalIncome                       0    0.000000\n",
       "TotalIncome_bin                   0    0.000000\n",
       "ApplicantIncome                   0    0.000000\n",
       "Education                         0    0.000000\n",
       "Able_to_pay_EMI                   0    0.000000"
      ]
     },
     "execution_count": 53,
     "metadata": {},
     "output_type": "execute_result"
    }
   ],
   "source": [
    "missing_value = pd.DataFrame({\n",
    "'Missing Value': data.isnull().sum(),\n",
    "'Percentage': (data.isnull().sum() / len(data))*100\n",
    "})\n",
    "missing_value.sort_values(by='Percentage', ascending=False)"
   ]
  },
  {
   "cell_type": "markdown",
   "id": "efa115f5-ead5-4af9-98dd-e9f0457f1bb1",
   "metadata": {},
   "source": [
    "How To Handle Missing values?\n",
    "- If our variable is Numerical what types of imputation do we generally do to impute the missing values\n",
    "    1. Mean\n",
    "    2. Median\n",
    "    3. Mode\n",
    "    4. Constant value\n",
    "- If a variable is Categorical\n",
    "    1. Mode"
   ]
  },
  {
   "cell_type": "code",
   "execution_count": 54,
   "id": "69d36a84-3e0b-4e76-97c3-cab08e10016c",
   "metadata": {},
   "outputs": [
    {
     "data": {
      "text/plain": [
       "Credit_History\n",
       "1.0    475\n",
       "0.0     89\n",
       "Name: count, dtype: int64"
      ]
     },
     "execution_count": 54,
     "metadata": {},
     "output_type": "execute_result"
    }
   ],
   "source": [
    "data[\"Credit_History\"].value_counts()"
   ]
  },
  {
   "cell_type": "code",
   "execution_count": 55,
   "id": "8a858536-ae6a-4e4c-ac58-808fa026592c",
   "metadata": {},
   "outputs": [
    {
     "data": {
      "text/plain": [
       "50"
      ]
     },
     "execution_count": 55,
     "metadata": {},
     "output_type": "execute_result"
    }
   ],
   "source": [
    "data[\"Credit_History\"].isna().sum()"
   ]
  },
  {
   "cell_type": "code",
   "execution_count": 56,
   "id": "b6d6d155-2096-4778-aa96-89a11d662cd2",
   "metadata": {},
   "outputs": [
    {
     "data": {
      "text/plain": [
       "(614, 18)"
      ]
     },
     "execution_count": 56,
     "metadata": {},
     "output_type": "execute_result"
    }
   ],
   "source": [
    "data.shape"
   ]
  },
  {
   "cell_type": "code",
   "execution_count": 57,
   "id": "1a54abda-5f52-4b9f-b4cd-8723890c1ad4",
   "metadata": {},
   "outputs": [
    {
     "data": {
      "text/html": [
       "<div>\n",
       "<style scoped>\n",
       "    .dataframe tbody tr th:only-of-type {\n",
       "        vertical-align: middle;\n",
       "    }\n",
       "\n",
       "    .dataframe tbody tr th {\n",
       "        vertical-align: top;\n",
       "    }\n",
       "\n",
       "    .dataframe thead th {\n",
       "        text-align: right;\n",
       "    }\n",
       "</style>\n",
       "<table border=\"1\" class=\"dataframe\">\n",
       "  <thead>\n",
       "    <tr style=\"text-align: right;\">\n",
       "      <th>Loan_Status</th>\n",
       "      <th>N</th>\n",
       "      <th>Y</th>\n",
       "    </tr>\n",
       "    <tr>\n",
       "      <th>Credit_History</th>\n",
       "      <th></th>\n",
       "      <th></th>\n",
       "    </tr>\n",
       "  </thead>\n",
       "  <tbody>\n",
       "    <tr>\n",
       "      <th>0.0</th>\n",
       "      <td>82</td>\n",
       "      <td>7</td>\n",
       "    </tr>\n",
       "    <tr>\n",
       "      <th>1.0</th>\n",
       "      <td>97</td>\n",
       "      <td>378</td>\n",
       "    </tr>\n",
       "  </tbody>\n",
       "</table>\n",
       "</div>"
      ],
      "text/plain": [
       "Loan_Status      N    Y\n",
       "Credit_History         \n",
       "0.0             82    7\n",
       "1.0             97  378"
      ]
     },
     "execution_count": 57,
     "metadata": {},
     "output_type": "execute_result"
    }
   ],
   "source": [
    "pd.crosstab(data[\"Credit_History\"],data[\"Loan_Status\"])"
   ]
  },
  {
   "cell_type": "code",
   "execution_count": 58,
   "id": "c51035e8-fd9f-4d80-98bf-a2757b6b0fdc",
   "metadata": {},
   "outputs": [
    {
     "data": {
      "text/plain": [
       "Chi2ContingencyResult(statistic=174.63729658142535, pvalue=7.184759548750746e-40, dof=1, expected_freq=array([[ 28.2464539,  60.7535461],\n",
       "       [150.7535461, 324.2464539]]))"
      ]
     },
     "execution_count": 58,
     "metadata": {},
     "output_type": "execute_result"
    }
   ],
   "source": [
    "chi2_contingency(pd.crosstab(data['Credit_History'], data['Loan_Status']))"
   ]
  },
  {
   "cell_type": "markdown",
   "id": "951a61e1-2165-4ee1-b672-f0e4b4ba0897",
   "metadata": {},
   "source": [
    "It means we reject the null hypothesis means Credit history and Loan status are not independent. They both are dependent on each other"
   ]
  },
  {
   "cell_type": "code",
   "execution_count": 59,
   "id": "3cd84589-ad72-4bac-a43f-cd0b0c2c8128",
   "metadata": {},
   "outputs": [
    {
     "data": {
      "image/png": "[encoded data removed]",
      "text/plain": [
       "<Figure size 600x400 with 1 Axes>"
      ]
     },
     "metadata": {},
     "output_type": "display_data"
    }
   ],
   "source": [
    "sns.countplot(x= data[\"Credit_History\"],hue=data[\"Loan_Status\"]);"
   ]
  },
  {
   "cell_type": "code",
   "execution_count": 60,
   "id": "aada1940-b0f6-4368-aebf-26cd24525be1",
   "metadata": {},
   "outputs": [
    {
     "data": {
      "text/plain": [
       "Credit_History\n",
       "1.0    475\n",
       "0.0     89\n",
       "2.0     50\n",
       "Name: count, dtype: int64"
      ]
     },
     "execution_count": 60,
     "metadata": {},
     "output_type": "execute_result"
    }
   ],
   "source": [
    "data[\"Credit_History\"]=data[\"Credit_History\"].fillna(2)\n",
    "data[\"Credit_History\"].value_counts()"
   ]
  },
  {
   "cell_type": "code",
   "execution_count": 61,
   "id": "fcd7366b-9029-4d30-9544-a5e0007bae66",
   "metadata": {},
   "outputs": [
    {
     "data": {
      "text/plain": [
       "Self_Employed\n",
       "No     500\n",
       "Yes     82\n",
       "Name: count, dtype: int64"
      ]
     },
     "execution_count": 61,
     "metadata": {},
     "output_type": "execute_result"
    }
   ],
   "source": [
    "data[\"Self_Employed\"].value_counts()"
   ]
  },
  {
   "cell_type": "code",
   "execution_count": 62,
   "id": "a2a77d0b-af36-4a71-8cd7-9840c70f3dd2",
   "metadata": {},
   "outputs": [
    {
     "data": {
      "text/plain": [
       "32"
      ]
     },
     "execution_count": 62,
     "metadata": {},
     "output_type": "execute_result"
    }
   ],
   "source": [
    "data[\"Self_Employed\"].isna().sum()"
   ]
  },
  {
   "cell_type": "code",
   "execution_count": 63,
   "id": "0b3e16c2-e45a-495d-af50-05f4870364f5",
   "metadata": {},
   "outputs": [
    {
     "data": {
      "text/html": [
       "<div>\n",
       "<style scoped>\n",
       "    .dataframe tbody tr th:only-of-type {\n",
       "        vertical-align: middle;\n",
       "    }\n",
       "\n",
       "    .dataframe tbody tr th {\n",
       "        vertical-align: top;\n",
       "    }\n",
       "\n",
       "    .dataframe thead th {\n",
       "        text-align: right;\n",
       "    }\n",
       "</style>\n",
       "<table border=\"1\" class=\"dataframe\">\n",
       "  <thead>\n",
       "    <tr style=\"text-align: right;\">\n",
       "      <th>Loan_Status</th>\n",
       "      <th>N</th>\n",
       "      <th>Y</th>\n",
       "    </tr>\n",
       "    <tr>\n",
       "      <th>Self_Employed</th>\n",
       "      <th></th>\n",
       "      <th></th>\n",
       "    </tr>\n",
       "  </thead>\n",
       "  <tbody>\n",
       "    <tr>\n",
       "      <th>No</th>\n",
       "      <td>157</td>\n",
       "      <td>343</td>\n",
       "    </tr>\n",
       "    <tr>\n",
       "      <th>Yes</th>\n",
       "      <td>26</td>\n",
       "      <td>56</td>\n",
       "    </tr>\n",
       "  </tbody>\n",
       "</table>\n",
       "</div>"
      ],
      "text/plain": [
       "Loan_Status      N    Y\n",
       "Self_Employed          \n",
       "No             157  343\n",
       "Yes             26   56"
      ]
     },
     "execution_count": 63,
     "metadata": {},
     "output_type": "execute_result"
    }
   ],
   "source": [
    "pd.crosstab(data['Self_Employed'], data['Loan_Status'])"
   ]
  },
  {
   "cell_type": "code",
   "execution_count": 66,
   "id": "8f84361a-555d-48d6-9ab3-6c47f603fcd7",
   "metadata": {},
   "outputs": [
    {
     "data": {
      "text/plain": [
       "Chi2ContingencyResult(statistic=0.0, pvalue=1.0, dof=1, expected_freq=array([[157.21649485, 342.78350515],\n",
       "       [ 25.78350515,  56.21649485]]))"
      ]
     },
     "execution_count": 66,
     "metadata": {},
     "output_type": "execute_result"
    }
   ],
   "source": [
    "chi2_contingency(pd.crosstab(data['Self_Employed'], data['Loan_Status']))"
   ]
  },
  {
   "cell_type": "markdown",
   "id": "89ab9370-5cf8-46ec-adb2-1afd8d3ce1a8",
   "metadata": {},
   "source": [
    "There is something wrong here, the p-value is 1.0 which is very high means it is saying that we failed to reject the null hypothesis and these two columns are independent to each other\n",
    "<br>We can fill missing values with anything as it is independent so let's try to fill it with \"Other\" and check again"
   ]
  },
  {
   "cell_type": "code",
   "execution_count": 67,
   "id": "7f4be16a-84c8-49cf-b449-7ae18956169a",
   "metadata": {},
   "outputs": [
    {
     "data": {
      "text/plain": [
       "0"
      ]
     },
     "execution_count": 67,
     "metadata": {},
     "output_type": "execute_result"
    }
   ],
   "source": [
    "data[\"Self_Employed\"]=data[\"Self_Employed\"].fillna(\"Other\")\n",
    "data[\"Self_Employed\"].isna().sum()"
   ]
  },
  {
   "cell_type": "code",
   "execution_count": 68,
   "id": "044b08ff-5b25-446e-958e-3af910e47df1",
   "metadata": {},
   "outputs": [
    {
     "data": {
      "text/plain": [
       "Self_Employed\n",
       "No       500\n",
       "Yes       82\n",
       "Other     32\n",
       "Name: count, dtype: int64"
      ]
     },
     "execution_count": 68,
     "metadata": {},
     "output_type": "execute_result"
    }
   ],
   "source": [
    "data[\"Self_Employed\"].value_counts()"
   ]
  },
  {
   "cell_type": "code",
   "execution_count": 69,
   "id": "b4985de0-2fb0-466b-b634-62559e521c56",
   "metadata": {},
   "outputs": [
    {
     "data": {
      "text/plain": [
       "Chi2ContingencyResult(statistic=0.15849843135909122, pvalue=0.9238096679003514, dof=2, expected_freq=array([[156.35179153, 343.64820847],\n",
       "       [ 10.00651466,  21.99348534],\n",
       "       [ 25.64169381,  56.35830619]]))"
      ]
     },
     "execution_count": 69,
     "metadata": {},
     "output_type": "execute_result"
    }
   ],
   "source": [
    "chi2_contingency(pd.crosstab(data['Self_Employed'], data['Loan_Status']))"
   ]
  },
  {
   "cell_type": "markdown",
   "id": "188574a6-882d-47fe-a048-f305975cdeb5",
   "metadata": {},
   "source": [
    "- The P-value is still high, and we fail to reject the null hypothesis.\n",
    "- This is the one way of filling values using fillna()"
   ]
  },
  {
   "cell_type": "code",
   "execution_count": 73,
   "id": "f15cdeff-93cb-475e-9049-e7680bb4a925",
   "metadata": {},
   "outputs": [],
   "source": [
    "# set of columns\n",
    "num_missing = ['EMI', 'Loan_Amount_per_year', 'LoanAmount', 'Loan_Amount_Term']\n",
    "\n",
    "# instance of simple imputer class with a median strategy\n",
    "median_imputer = SimpleImputer(strategy = 'median')\n",
    "\n",
    "for col in num_missing:\n",
    "    data[col] = pd.DataFrame(median_imputer.fit_transform(pd.DataFrame(data[col])))\n",
    "\n",
    "cat_missing = ['Gender', 'Married','Dependents']\n",
    "freq_imputer = SimpleImputer(strategy = 'most_frequent') # mode\n",
    "for col in cat_missing:\n",
    "    data[col] = pd.DataFrame(freq_imputer.fit_transform(pd.DataFrame(data[col])))"
   ]
  },
  {
   "cell_type": "code",
   "execution_count": 74,
   "id": "77065db1-b356-4779-b4e8-0b133b6f8389",
   "metadata": {},
   "outputs": [
    {
     "data": {
      "text/plain": [
       "Gender                  0\n",
       "Married                 0\n",
       "Dependents              0\n",
       "Education               0\n",
       "Self_Employed           0\n",
       "ApplicantIncome         0\n",
       "CoapplicantIncome       0\n",
       "LoanAmount              0\n",
       "Loan_Amount_Term        0\n",
       "Credit_History          0\n",
       "Property_Area           0\n",
       "Loan_Status             0\n",
       "Income_bin              0\n",
       "TotalIncome             0\n",
       "TotalIncome_bin         0\n",
       "Loan_Amount_per_year    0\n",
       "EMI                     0\n",
       "Able_to_pay_EMI         0\n",
       "dtype: int64"
      ]
     },
     "execution_count": 74,
     "metadata": {},
     "output_type": "execute_result"
    }
   ],
   "source": [
    "data.isna().sum()"
   ]
  },
  {
   "cell_type": "markdown",
   "id": "93e8b88d-d155-4ce1-96d8-b40f4468ecba",
   "metadata": {},
   "source": [
    "# Outlier Treatment"
   ]
  },
  {
   "cell_type": "code",
   "execution_count": 75,
   "id": "ed16d0c3-138a-49d6-9867-157e43f2fd8a",
   "metadata": {},
   "outputs": [
    {
     "data": {
      "text/html": [
       "<div>\n",
       "<style scoped>\n",
       "    .dataframe tbody tr th:only-of-type {\n",
       "        vertical-align: middle;\n",
       "    }\n",
       "\n",
       "    .dataframe tbody tr th {\n",
       "        vertical-align: top;\n",
       "    }\n",
       "\n",
       "    .dataframe thead th {\n",
       "        text-align: right;\n",
       "    }\n",
       "</style>\n",
       "<table border=\"1\" class=\"dataframe\">\n",
       "  <thead>\n",
       "    <tr style=\"text-align: right;\">\n",
       "      <th></th>\n",
       "      <th>Gender</th>\n",
       "      <th>Married</th>\n",
       "      <th>Dependents</th>\n",
       "      <th>Education</th>\n",
       "      <th>Self_Employed</th>\n",
       "      <th>ApplicantIncome</th>\n",
       "      <th>CoapplicantIncome</th>\n",
       "      <th>LoanAmount</th>\n",
       "      <th>Loan_Amount_Term</th>\n",
       "      <th>Credit_History</th>\n",
       "      <th>Property_Area</th>\n",
       "      <th>Loan_Status</th>\n",
       "      <th>Income_bin</th>\n",
       "      <th>TotalIncome</th>\n",
       "      <th>TotalIncome_bin</th>\n",
       "      <th>Loan_Amount_per_year</th>\n",
       "      <th>EMI</th>\n",
       "      <th>Able_to_pay_EMI</th>\n",
       "    </tr>\n",
       "  </thead>\n",
       "  <tbody>\n",
       "    <tr>\n",
       "      <th>0</th>\n",
       "      <td>Male</td>\n",
       "      <td>No</td>\n",
       "      <td>0</td>\n",
       "      <td>Graduate</td>\n",
       "      <td>No</td>\n",
       "      <td>5849</td>\n",
       "      <td>0.0</td>\n",
       "      <td>128.0</td>\n",
       "      <td>30.0</td>\n",
       "      <td>1.0</td>\n",
       "      <td>Urban</td>\n",
       "      <td>Y</td>\n",
       "      <td>Medium</td>\n",
       "      <td>5849.0</td>\n",
       "      <td>High</td>\n",
       "      <td>4.383333</td>\n",
       "      <td>365.277778</td>\n",
       "      <td>0</td>\n",
       "    </tr>\n",
       "    <tr>\n",
       "      <th>1</th>\n",
       "      <td>Male</td>\n",
       "      <td>Yes</td>\n",
       "      <td>1</td>\n",
       "      <td>Graduate</td>\n",
       "      <td>No</td>\n",
       "      <td>4583</td>\n",
       "      <td>1508.0</td>\n",
       "      <td>128.0</td>\n",
       "      <td>30.0</td>\n",
       "      <td>1.0</td>\n",
       "      <td>Rural</td>\n",
       "      <td>N</td>\n",
       "      <td>Medium</td>\n",
       "      <td>6091.0</td>\n",
       "      <td>High</td>\n",
       "      <td>4.266667</td>\n",
       "      <td>355.555556</td>\n",
       "      <td>1</td>\n",
       "    </tr>\n",
       "    <tr>\n",
       "      <th>2</th>\n",
       "      <td>Male</td>\n",
       "      <td>Yes</td>\n",
       "      <td>0</td>\n",
       "      <td>Graduate</td>\n",
       "      <td>Yes</td>\n",
       "      <td>3000</td>\n",
       "      <td>0.0</td>\n",
       "      <td>66.0</td>\n",
       "      <td>30.0</td>\n",
       "      <td>1.0</td>\n",
       "      <td>Urban</td>\n",
       "      <td>Y</td>\n",
       "      <td>Average</td>\n",
       "      <td>3000.0</td>\n",
       "      <td>Low</td>\n",
       "      <td>2.200000</td>\n",
       "      <td>183.333333</td>\n",
       "      <td>1</td>\n",
       "    </tr>\n",
       "    <tr>\n",
       "      <th>3</th>\n",
       "      <td>Male</td>\n",
       "      <td>Yes</td>\n",
       "      <td>0</td>\n",
       "      <td>Not Graduate</td>\n",
       "      <td>No</td>\n",
       "      <td>2583</td>\n",
       "      <td>2358.0</td>\n",
       "      <td>120.0</td>\n",
       "      <td>30.0</td>\n",
       "      <td>1.0</td>\n",
       "      <td>Urban</td>\n",
       "      <td>Y</td>\n",
       "      <td>Average</td>\n",
       "      <td>4941.0</td>\n",
       "      <td>Average</td>\n",
       "      <td>4.000000</td>\n",
       "      <td>333.333333</td>\n",
       "      <td>1</td>\n",
       "    </tr>\n",
       "    <tr>\n",
       "      <th>4</th>\n",
       "      <td>Male</td>\n",
       "      <td>No</td>\n",
       "      <td>0</td>\n",
       "      <td>Graduate</td>\n",
       "      <td>No</td>\n",
       "      <td>6000</td>\n",
       "      <td>0.0</td>\n",
       "      <td>141.0</td>\n",
       "      <td>30.0</td>\n",
       "      <td>1.0</td>\n",
       "      <td>Urban</td>\n",
       "      <td>Y</td>\n",
       "      <td>Medium</td>\n",
       "      <td>6000.0</td>\n",
       "      <td>High</td>\n",
       "      <td>4.700000</td>\n",
       "      <td>391.666667</td>\n",
       "      <td>1</td>\n",
       "    </tr>\n",
       "  </tbody>\n",
       "</table>\n",
       "</div>"
      ],
      "text/plain": [
       "  Gender Married Dependents     Education Self_Employed  ApplicantIncome  \\\n",
       "0   Male      No          0      Graduate            No             5849   \n",
       "1   Male     Yes          1      Graduate            No             4583   \n",
       "2   Male     Yes          0      Graduate           Yes             3000   \n",
       "3   Male     Yes          0  Not Graduate            No             2583   \n",
       "4   Male      No          0      Graduate            No             6000   \n",
       "\n",
       "   CoapplicantIncome  LoanAmount  Loan_Amount_Term  Credit_History  \\\n",
       "0                0.0       128.0              30.0             1.0   \n",
       "1             1508.0       128.0              30.0             1.0   \n",
       "2                0.0        66.0              30.0             1.0   \n",
       "3             2358.0       120.0              30.0             1.0   \n",
       "4                0.0       141.0              30.0             1.0   \n",
       "\n",
       "  Property_Area Loan_Status Income_bin  TotalIncome TotalIncome_bin  \\\n",
       "0         Urban           Y     Medium       5849.0            High   \n",
       "1         Rural           N     Medium       6091.0            High   \n",
       "2         Urban           Y    Average       3000.0             Low   \n",
       "3         Urban           Y    Average       4941.0         Average   \n",
       "4         Urban           Y     Medium       6000.0            High   \n",
       "\n",
       "   Loan_Amount_per_year         EMI  Able_to_pay_EMI  \n",
       "0              4.383333  365.277778                0  \n",
       "1              4.266667  355.555556                1  \n",
       "2              2.200000  183.333333                1  \n",
       "3              4.000000  333.333333                1  \n",
       "4              4.700000  391.666667                1  "
      ]
     },
     "execution_count": 75,
     "metadata": {},
     "output_type": "execute_result"
    }
   ],
   "source": [
    "data.head()"
   ]
  },
  {
   "cell_type": "code",
   "execution_count": 76,
   "id": "b56fdb98-3b21-4e38-9a0a-67a027046faf",
   "metadata": {},
   "outputs": [
    {
     "name": "stdout",
     "output_type": "stream",
     "text": [
      "<class 'pandas.core.frame.DataFrame'>\n",
      "RangeIndex: 614 entries, 0 to 613\n",
      "Data columns (total 18 columns):\n",
      " #   Column                Non-Null Count  Dtype   \n",
      "---  ------                --------------  -----   \n",
      " 0   Gender                614 non-null    object  \n",
      " 1   Married               614 non-null    object  \n",
      " 2   Dependents            614 non-null    object  \n",
      " 3   Education             614 non-null    object  \n",
      " 4   Self_Employed         614 non-null    object  \n",
      " 5   ApplicantIncome       614 non-null    int64   \n",
      " 6   CoapplicantIncome     614 non-null    float64 \n",
      " 7   LoanAmount            614 non-null    float64 \n",
      " 8   Loan_Amount_Term      614 non-null    float64 \n",
      " 9   Credit_History        614 non-null    float64 \n",
      " 10  Property_Area         614 non-null    object  \n",
      " 11  Loan_Status           614 non-null    object  \n",
      " 12  Income_bin            614 non-null    category\n",
      " 13  TotalIncome           614 non-null    float64 \n",
      " 14  TotalIncome_bin       614 non-null    category\n",
      " 15  Loan_Amount_per_year  614 non-null    float64 \n",
      " 16  EMI                   614 non-null    float64 \n",
      " 17  Able_to_pay_EMI       614 non-null    int32   \n",
      "dtypes: category(2), float64(7), int32(1), int64(1), object(7)\n",
      "memory usage: 76.2+ KB\n"
     ]
    }
   ],
   "source": [
    "data.info()"
   ]
  },
  {
   "cell_type": "code",
   "execution_count": 77,
   "id": "7facd2af-fa70-4fac-9090-4df1796d14ca",
   "metadata": {},
   "outputs": [
    {
     "data": {
      "text/html": [
       "<div>\n",
       "<style scoped>\n",
       "    .dataframe tbody tr th:only-of-type {\n",
       "        vertical-align: middle;\n",
       "    }\n",
       "\n",
       "    .dataframe tbody tr th {\n",
       "        vertical-align: top;\n",
       "    }\n",
       "\n",
       "    .dataframe thead th {\n",
       "        text-align: right;\n",
       "    }\n",
       "</style>\n",
       "<table border=\"1\" class=\"dataframe\">\n",
       "  <thead>\n",
       "    <tr style=\"text-align: right;\">\n",
       "      <th></th>\n",
       "      <th>Gender</th>\n",
       "      <th>Married</th>\n",
       "      <th>Dependents</th>\n",
       "      <th>Education</th>\n",
       "      <th>Self_Employed</th>\n",
       "      <th>ApplicantIncome</th>\n",
       "      <th>CoapplicantIncome</th>\n",
       "      <th>LoanAmount</th>\n",
       "      <th>Loan_Amount_Term</th>\n",
       "      <th>Credit_History</th>\n",
       "      <th>Property_Area</th>\n",
       "      <th>Loan_Status</th>\n",
       "      <th>Income_bin</th>\n",
       "      <th>TotalIncome</th>\n",
       "      <th>TotalIncome_bin</th>\n",
       "      <th>Loan_Amount_per_year</th>\n",
       "      <th>EMI</th>\n",
       "      <th>Able_to_pay_EMI</th>\n",
       "    </tr>\n",
       "  </thead>\n",
       "  <tbody>\n",
       "    <tr>\n",
       "      <th>0</th>\n",
       "      <td>Male</td>\n",
       "      <td>No</td>\n",
       "      <td>0</td>\n",
       "      <td>Graduate</td>\n",
       "      <td>No</td>\n",
       "      <td>5849</td>\n",
       "      <td>0.0</td>\n",
       "      <td>128.0</td>\n",
       "      <td>30.0</td>\n",
       "      <td>1.0</td>\n",
       "      <td>Urban</td>\n",
       "      <td>Y</td>\n",
       "      <td>Medium</td>\n",
       "      <td>5849.0</td>\n",
       "      <td>High</td>\n",
       "      <td>4.383333</td>\n",
       "      <td>365.277778</td>\n",
       "      <td>0</td>\n",
       "    </tr>\n",
       "    <tr>\n",
       "      <th>1</th>\n",
       "      <td>Male</td>\n",
       "      <td>Yes</td>\n",
       "      <td>1</td>\n",
       "      <td>Graduate</td>\n",
       "      <td>No</td>\n",
       "      <td>4583</td>\n",
       "      <td>1508.0</td>\n",
       "      <td>128.0</td>\n",
       "      <td>30.0</td>\n",
       "      <td>1.0</td>\n",
       "      <td>Rural</td>\n",
       "      <td>N</td>\n",
       "      <td>Medium</td>\n",
       "      <td>6091.0</td>\n",
       "      <td>High</td>\n",
       "      <td>4.266667</td>\n",
       "      <td>355.555556</td>\n",
       "      <td>1</td>\n",
       "    </tr>\n",
       "    <tr>\n",
       "      <th>2</th>\n",
       "      <td>Male</td>\n",
       "      <td>Yes</td>\n",
       "      <td>0</td>\n",
       "      <td>Graduate</td>\n",
       "      <td>Yes</td>\n",
       "      <td>3000</td>\n",
       "      <td>0.0</td>\n",
       "      <td>66.0</td>\n",
       "      <td>30.0</td>\n",
       "      <td>1.0</td>\n",
       "      <td>Urban</td>\n",
       "      <td>Y</td>\n",
       "      <td>Average</td>\n",
       "      <td>3000.0</td>\n",
       "      <td>Low</td>\n",
       "      <td>2.200000</td>\n",
       "      <td>183.333333</td>\n",
       "      <td>1</td>\n",
       "    </tr>\n",
       "    <tr>\n",
       "      <th>3</th>\n",
       "      <td>Male</td>\n",
       "      <td>Yes</td>\n",
       "      <td>0</td>\n",
       "      <td>Not Graduate</td>\n",
       "      <td>No</td>\n",
       "      <td>2583</td>\n",
       "      <td>2358.0</td>\n",
       "      <td>120.0</td>\n",
       "      <td>30.0</td>\n",
       "      <td>1.0</td>\n",
       "      <td>Urban</td>\n",
       "      <td>Y</td>\n",
       "      <td>Average</td>\n",
       "      <td>4941.0</td>\n",
       "      <td>Average</td>\n",
       "      <td>4.000000</td>\n",
       "      <td>333.333333</td>\n",
       "      <td>1</td>\n",
       "    </tr>\n",
       "    <tr>\n",
       "      <th>4</th>\n",
       "      <td>Male</td>\n",
       "      <td>No</td>\n",
       "      <td>0</td>\n",
       "      <td>Graduate</td>\n",
       "      <td>No</td>\n",
       "      <td>6000</td>\n",
       "      <td>0.0</td>\n",
       "      <td>141.0</td>\n",
       "      <td>30.0</td>\n",
       "      <td>1.0</td>\n",
       "      <td>Urban</td>\n",
       "      <td>Y</td>\n",
       "      <td>Medium</td>\n",
       "      <td>6000.0</td>\n",
       "      <td>High</td>\n",
       "      <td>4.700000</td>\n",
       "      <td>391.666667</td>\n",
       "      <td>1</td>\n",
       "    </tr>\n",
       "  </tbody>\n",
       "</table>\n",
       "</div>"
      ],
      "text/plain": [
       "  Gender Married Dependents     Education Self_Employed  ApplicantIncome  \\\n",
       "0   Male      No          0      Graduate            No             5849   \n",
       "1   Male     Yes          1      Graduate            No             4583   \n",
       "2   Male     Yes          0      Graduate           Yes             3000   \n",
       "3   Male     Yes          0  Not Graduate            No             2583   \n",
       "4   Male      No          0      Graduate            No             6000   \n",
       "\n",
       "   CoapplicantIncome  LoanAmount  Loan_Amount_Term  Credit_History  \\\n",
       "0                0.0       128.0              30.0             1.0   \n",
       "1             1508.0       128.0              30.0             1.0   \n",
       "2                0.0        66.0              30.0             1.0   \n",
       "3             2358.0       120.0              30.0             1.0   \n",
       "4                0.0       141.0              30.0             1.0   \n",
       "\n",
       "  Property_Area Loan_Status Income_bin  TotalIncome TotalIncome_bin  \\\n",
       "0         Urban           Y     Medium       5849.0            High   \n",
       "1         Rural           N     Medium       6091.0            High   \n",
       "2         Urban           Y    Average       3000.0             Low   \n",
       "3         Urban           Y    Average       4941.0         Average   \n",
       "4         Urban           Y     Medium       6000.0            High   \n",
       "\n",
       "   Loan_Amount_per_year         EMI  Able_to_pay_EMI  \n",
       "0              4.383333  365.277778                0  \n",
       "1              4.266667  355.555556                1  \n",
       "2              2.200000  183.333333                1  \n",
       "3              4.000000  333.333333                1  \n",
       "4              4.700000  391.666667                1  "
      ]
     },
     "execution_count": 77,
     "metadata": {},
     "output_type": "execute_result"
    }
   ],
   "source": [
    "# Change the data type of a specific column from category to object\n",
    "data['Income_bin'] = data['Income_bin'].astype('object')\n",
    "data['TotalIncome_bin'] = data['TotalIncome_bin'].astype('object')\n",
    "data.head()"
   ]
  },
  {
   "cell_type": "code",
   "execution_count": 79,
   "id": "48314ef0-29e3-4d1a-a91b-5a8f78bdc644",
   "metadata": {},
   "outputs": [
    {
     "data": {
      "text/plain": [
       "Index(['ApplicantIncome', 'CoapplicantIncome', 'LoanAmount',\n",
       "       'Loan_Amount_Term', 'Credit_History', 'TotalIncome',\n",
       "       'Loan_Amount_per_year', 'EMI', 'Able_to_pay_EMI'],\n",
       "      dtype='object')"
      ]
     },
     "execution_count": 79,
     "metadata": {},
     "output_type": "execute_result"
    }
   ],
   "source": [
    "# filter the numeric variables from the data\n",
    "df_num = data.select_dtypes(include = np.number)\n",
    "df_num.columns"
   ]
  },
  {
   "cell_type": "code",
   "execution_count": 80,
   "id": "e6bafa8d-da12-4c8e-9358-f1a6d4e89112",
   "metadata": {},
   "outputs": [
    {
     "data": {
      "text/html": [
       "<div>\n",
       "<style scoped>\n",
       "    .dataframe tbody tr th:only-of-type {\n",
       "        vertical-align: middle;\n",
       "    }\n",
       "\n",
       "    .dataframe tbody tr th {\n",
       "        vertical-align: top;\n",
       "    }\n",
       "\n",
       "    .dataframe thead th {\n",
       "        text-align: right;\n",
       "    }\n",
       "</style>\n",
       "<table border=\"1\" class=\"dataframe\">\n",
       "  <thead>\n",
       "    <tr style=\"text-align: right;\">\n",
       "      <th></th>\n",
       "      <th>ApplicantIncome</th>\n",
       "      <th>CoapplicantIncome</th>\n",
       "      <th>LoanAmount</th>\n",
       "      <th>Loan_Amount_Term</th>\n",
       "      <th>TotalIncome</th>\n",
       "      <th>Loan_Amount_per_year</th>\n",
       "      <th>EMI</th>\n",
       "    </tr>\n",
       "  </thead>\n",
       "  <tbody>\n",
       "    <tr>\n",
       "      <th>0</th>\n",
       "      <td>5849</td>\n",
       "      <td>0.0</td>\n",
       "      <td>128.0</td>\n",
       "      <td>30.0</td>\n",
       "      <td>5849.0</td>\n",
       "      <td>4.383333</td>\n",
       "      <td>365.277778</td>\n",
       "    </tr>\n",
       "    <tr>\n",
       "      <th>1</th>\n",
       "      <td>4583</td>\n",
       "      <td>1508.0</td>\n",
       "      <td>128.0</td>\n",
       "      <td>30.0</td>\n",
       "      <td>6091.0</td>\n",
       "      <td>4.266667</td>\n",
       "      <td>355.555556</td>\n",
       "    </tr>\n",
       "    <tr>\n",
       "      <th>2</th>\n",
       "      <td>3000</td>\n",
       "      <td>0.0</td>\n",
       "      <td>66.0</td>\n",
       "      <td>30.0</td>\n",
       "      <td>3000.0</td>\n",
       "      <td>2.200000</td>\n",
       "      <td>183.333333</td>\n",
       "    </tr>\n",
       "    <tr>\n",
       "      <th>3</th>\n",
       "      <td>2583</td>\n",
       "      <td>2358.0</td>\n",
       "      <td>120.0</td>\n",
       "      <td>30.0</td>\n",
       "      <td>4941.0</td>\n",
       "      <td>4.000000</td>\n",
       "      <td>333.333333</td>\n",
       "    </tr>\n",
       "    <tr>\n",
       "      <th>4</th>\n",
       "      <td>6000</td>\n",
       "      <td>0.0</td>\n",
       "      <td>141.0</td>\n",
       "      <td>30.0</td>\n",
       "      <td>6000.0</td>\n",
       "      <td>4.700000</td>\n",
       "      <td>391.666667</td>\n",
       "    </tr>\n",
       "  </tbody>\n",
       "</table>\n",
       "</div>"
      ],
      "text/plain": [
       "   ApplicantIncome  CoapplicantIncome  LoanAmount  Loan_Amount_Term  \\\n",
       "0             5849                0.0       128.0              30.0   \n",
       "1             4583             1508.0       128.0              30.0   \n",
       "2             3000                0.0        66.0              30.0   \n",
       "3             2583             2358.0       120.0              30.0   \n",
       "4             6000                0.0       141.0              30.0   \n",
       "\n",
       "   TotalIncome  Loan_Amount_per_year         EMI  \n",
       "0       5849.0              4.383333  365.277778  \n",
       "1       6091.0              4.266667  355.555556  \n",
       "2       3000.0              2.200000  183.333333  \n",
       "3       4941.0              4.000000  333.333333  \n",
       "4       6000.0              4.700000  391.666667  "
      ]
     },
     "execution_count": 80,
     "metadata": {},
     "output_type": "execute_result"
    }
   ],
   "source": [
    "df_num.drop(['Credit_History','Able_to_pay_EMI'],axis=1,inplace=True)\n",
    "df_num.head()"
   ]
  },
  {
   "cell_type": "code",
   "execution_count": 82,
   "id": "5b0f4ec2-dc45-41ed-b196-45e646d086d5",
   "metadata": {},
   "outputs": [
    {
     "data": {
      "image/png": "[encoded data removed]",
      "text/plain": [
       "<Figure size 600x400 with 1 Axes>"
      ]
     },
     "metadata": {},
     "output_type": "display_data"
    },
    {
     "data": {
      "image/png": "[encoded data removed]",
      "text/plain": [
       "<Figure size 600x400 with 1 Axes>"
      ]
     },
     "metadata": {},
     "output_type": "display_data"
    },
    {
     "data": {
      "image/png": "[encoded data removed]",
      "text/plain": [
       "<Figure size 600x400 with 1 Axes>"
      ]
     },
     "metadata": {},
     "output_type": "display_data"
    },
    {
     "data": {
      "image/png": "[encoded data removed]",
      "text/plain": [
       "<Figure size 600x400 with 1 Axes>"
      ]
     },
     "metadata": {},
     "output_type": "display_data"
    },
    {
     "data": {
      "image/png": "[encoded data removed]",
      "text/plain": [
       "<Figure size 600x400 with 1 Axes>"
      ]
     },
     "metadata": {},
     "output_type": "display_data"
    },
    {
     "data": {
      "image/png": "[encoded data removed]",
      "text/plain": [
       "<Figure size 600x400 with 1 Axes>"
      ]
     },
     "metadata": {},
     "output_type": "display_data"
    },
    {
     "data": {
      "image/png": "[encoded data removed]",
      "text/plain": [
       "<Figure size 600x400 with 1 Axes>"
      ]
     },
     "metadata": {},
     "output_type": "display_data"
    }
   ],
   "source": [
    "for col in enumerate(df_num):\n",
    "    sns.boxplot(x=col[1],data=df_num)\n",
    "    plt.show()"
   ]
  },
  {
   "cell_type": "markdown",
   "id": "22fa56b0-f878-4849-a224-249967579ddb",
   "metadata": {},
   "source": [
    "There are two methods with which we can treat the outliers:\n",
    "1. IQR (Interquartile Range) Method:\n",
    "    - Calculate the IQR (the difference between the 75th and 25th percentiles) and remove values outside a specified range (e.g., 1.5 times IQR).\n",
    "2. Z-Score or Standard Score:\n",
    "    - Identify and remove data points with z-scores beyond a certain threshold (e.g., ±3)."
   ]
  },
  {
   "cell_type": "code",
   "execution_count": 83,
   "id": "d9776772-6ffa-479c-ba88-2cac51c6b17a",
   "metadata": {},
   "outputs": [
    {
     "name": "stdout",
     "output_type": "stream",
     "text": [
      "ApplicantIncome         2917.500000\n",
      "CoapplicantIncome       2297.250000\n",
      "LoanAmount                64.500000\n",
      "Loan_Amount_Term           0.000000\n",
      "TotalIncome             3355.750000\n",
      "Loan_Amount_per_year       2.500000\n",
      "EMI                      208.333333\n",
      "dtype: float64\n"
     ]
    }
   ],
   "source": [
    "# obtain the first quartile\n",
    "Q1 = df_num.quantile(0.25)\n",
    "# obtain the third quartile\n",
    "Q3 = df_num.quantile(0.75)\n",
    "# obtain the IQR\n",
    "IQR = Q3 - Q1\n",
    "# print the IQR\n",
    "print(IQR)"
   ]
  },
  {
   "cell_type": "code",
   "execution_count": 84,
   "id": "eae8e770-ed52-4a4a-8d32-02e66c39b12c",
   "metadata": {},
   "outputs": [
    {
     "data": {
      "text/plain": [
       "(614, 18)"
      ]
     },
     "execution_count": 84,
     "metadata": {},
     "output_type": "execute_result"
    }
   ],
   "source": [
    "data.shape\n"
   ]
  },
  {
   "cell_type": "code",
   "execution_count": 96,
   "id": "15d08972-9c27-40f7-8535-995b9842150b",
   "metadata": {},
   "outputs": [],
   "source": [
    "#df_iqr=data[~((data<(Q1-1.5*IQR))|(data>(Q3 + 1.5*IQR))).any(axis=1)]\n",
    "#df_iqr.head()"
   ]
  },
  {
   "cell_type": "markdown",
   "id": "87670302-de1b-48de-b584-418c359bb3dc",
   "metadata": {},
   "source": [
    "Explanation of code:\n",
    "- (data < (Q1 - 1.5 * IQR)) checks for values below the lower bound (Q1 - 1.5 * IQR).\n",
    "- (data > (Q3 + 1.5 * IQR)) checks for values above the upper bound (Q3 + 1.5 * IQR).\n",
    "- ~((data < (Q1 - 1.5 * IQR)) | (data > (Q3 + 1.5 * IQR))) :\n",
    "    - The ~ operator negates this condition, selecting rows where none of the values are below the lower bound or above the upper bound.\n",
    "    - In other words, it selects rows that are within the lower and upper range defined by the interquartile range (IQR) method. \n",
    "- any(axis=1) :\n",
    "    - The any(axis=1) checks if any True value exists along the rows. If a row has at least one True value (indicating it's an outlier), the negation will make it False, and vice versa."
   ]
  },
  {
   "cell_type": "code",
   "execution_count": 94,
   "id": "3f084257-d823-4f3e-807c-9a0c57c93b77",
   "metadata": {},
   "outputs": [],
   "source": [
    "# Align the DataFrame with the quartile values\n",
    "df_aligned = df_num.align(Q1 - 1.5 * IQR, axis=1, copy=False)[0]\n",
    "df_aligned = df_aligned.align(Q3 + 1.5 * IQR, axis=1, copy=False)[0]\n",
    "\n",
    "# Perform the operation\n",
    "# Obtain the DataFrame with quartile values\n",
    "df_q1_minus_1_5_iqr = df_num < (Q1 - 1.5 * IQR)\n",
    "df_q3_plus_1_5_iqr = df_num > (Q3 + 1.5 * IQR)\n",
    "\n",
    "# Perform the operation\n",
    "df_iqr = df_num[~(df_q1_minus_1_5_iqr | df_q3_plus_1_5_iqr).any(axis=1)]"
   ]
  },
  {
   "cell_type": "raw",
   "id": "b995d295-22fd-483f-8740-ab82231794c2",
   "metadata": {},
   "source": [
    "df_iqr.head()"
   ]
  },
  {
   "cell_type": "code",
   "execution_count": 95,
   "id": "32696035-f50a-4704-96d6-454b7759b227",
   "metadata": {},
   "outputs": [
    {
     "data": {
      "text/html": [
       "<div>\n",
       "<style scoped>\n",
       "    .dataframe tbody tr th:only-of-type {\n",
       "        vertical-align: middle;\n",
       "    }\n",
       "\n",
       "    .dataframe tbody tr th {\n",
       "        vertical-align: top;\n",
       "    }\n",
       "\n",
       "    .dataframe thead th {\n",
       "        text-align: right;\n",
       "    }\n",
       "</style>\n",
       "<table border=\"1\" class=\"dataframe\">\n",
       "  <thead>\n",
       "    <tr style=\"text-align: right;\">\n",
       "      <th></th>\n",
       "      <th>ApplicantIncome</th>\n",
       "      <th>CoapplicantIncome</th>\n",
       "      <th>LoanAmount</th>\n",
       "      <th>Loan_Amount_Term</th>\n",
       "      <th>TotalIncome</th>\n",
       "      <th>Loan_Amount_per_year</th>\n",
       "      <th>EMI</th>\n",
       "    </tr>\n",
       "  </thead>\n",
       "  <tbody>\n",
       "    <tr>\n",
       "      <th>0</th>\n",
       "      <td>5849</td>\n",
       "      <td>0.0</td>\n",
       "      <td>128.0</td>\n",
       "      <td>30.0</td>\n",
       "      <td>5849.0</td>\n",
       "      <td>4.383333</td>\n",
       "      <td>365.277778</td>\n",
       "    </tr>\n",
       "    <tr>\n",
       "      <th>1</th>\n",
       "      <td>4583</td>\n",
       "      <td>1508.0</td>\n",
       "      <td>128.0</td>\n",
       "      <td>30.0</td>\n",
       "      <td>6091.0</td>\n",
       "      <td>4.266667</td>\n",
       "      <td>355.555556</td>\n",
       "    </tr>\n",
       "    <tr>\n",
       "      <th>2</th>\n",
       "      <td>3000</td>\n",
       "      <td>0.0</td>\n",
       "      <td>66.0</td>\n",
       "      <td>30.0</td>\n",
       "      <td>3000.0</td>\n",
       "      <td>2.200000</td>\n",
       "      <td>183.333333</td>\n",
       "    </tr>\n",
       "    <tr>\n",
       "      <th>3</th>\n",
       "      <td>2583</td>\n",
       "      <td>2358.0</td>\n",
       "      <td>120.0</td>\n",
       "      <td>30.0</td>\n",
       "      <td>4941.0</td>\n",
       "      <td>4.000000</td>\n",
       "      <td>333.333333</td>\n",
       "    </tr>\n",
       "    <tr>\n",
       "      <th>4</th>\n",
       "      <td>6000</td>\n",
       "      <td>0.0</td>\n",
       "      <td>141.0</td>\n",
       "      <td>30.0</td>\n",
       "      <td>6000.0</td>\n",
       "      <td>4.700000</td>\n",
       "      <td>391.666667</td>\n",
       "    </tr>\n",
       "  </tbody>\n",
       "</table>\n",
       "</div>"
      ],
      "text/plain": [
       "   ApplicantIncome  CoapplicantIncome  LoanAmount  Loan_Amount_Term  \\\n",
       "0             5849                0.0       128.0              30.0   \n",
       "1             4583             1508.0       128.0              30.0   \n",
       "2             3000                0.0        66.0              30.0   \n",
       "3             2583             2358.0       120.0              30.0   \n",
       "4             6000                0.0       141.0              30.0   \n",
       "\n",
       "   TotalIncome  Loan_Amount_per_year         EMI  \n",
       "0       5849.0              4.383333  365.277778  \n",
       "1       6091.0              4.266667  355.555556  \n",
       "2       3000.0              2.200000  183.333333  \n",
       "3       4941.0              4.000000  333.333333  \n",
       "4       6000.0              4.700000  391.666667  "
      ]
     },
     "execution_count": 95,
     "metadata": {},
     "output_type": "execute_result"
    }
   ],
   "source": [
    "df_iqr.head()"
   ]
  },
  {
   "cell_type": "code",
   "execution_count": 97,
   "id": "f6e00e6f-02a1-4a45-8ec8-895ccf4d9bbd",
   "metadata": {},
   "outputs": [
    {
     "data": {
      "text/plain": [
       "(458, 7)"
      ]
     },
     "execution_count": 97,
     "metadata": {},
     "output_type": "execute_result"
    }
   ],
   "source": [
    "df_iqr.shape"
   ]
  },
  {
   "cell_type": "code",
   "execution_count": 99,
   "id": "d5f3d1bd-86e2-4194-8dcf-9aa831dca463",
   "metadata": {},
   "outputs": [
    {
     "data": {
      "text/plain": [
       "0     -0.211241\n",
       "1     -0.211241\n",
       "2     -0.948996\n",
       "3     -0.306435\n",
       "4     -0.056551\n",
       "         ...   \n",
       "609   -0.889500\n",
       "610   -1.258378\n",
       "611    1.276168\n",
       "612    0.490816\n",
       "613   -0.151745\n",
       "Name: LoanAmount, Length: 614, dtype: float64"
      ]
     },
     "execution_count": 99,
     "metadata": {},
     "output_type": "execute_result"
    }
   ],
   "source": [
    "# z-scores are defined for each observation in a variable\n",
    "# compute the z-scores using the method zscore from the scipy library\n",
    "z_scores_LoanAmount = zscore(df_num[\"LoanAmount\"])\n",
    "# display the z-scores\n",
    "z_scores_LoanAmount"
   ]
  },
  {
   "cell_type": "code",
   "execution_count": 100,
   "id": "0de4ccae-b85c-4963-9740-7e6133f98c00",
   "metadata": {},
   "outputs": [
    {
     "data": {
      "text/plain": [
       "(array([], dtype=int64),)"
      ]
     },
     "execution_count": 100,
     "metadata": {},
     "output_type": "execute_result"
    }
   ],
   "source": [
    "# print the rows where the z-score is less than -3\n",
    "row_index_less = np.where(z_scores_LoanAmount < -3)\n",
    "row_index_less"
   ]
  },
  {
   "cell_type": "code",
   "execution_count": 101,
   "id": "ae3d72b9-cc3f-4186-92eb-d5d242737f69",
   "metadata": {},
   "outputs": [
    {
     "data": {
      "text/plain": [
       "(array([130, 155, 171, 177, 278, 308, 333, 369, 432, 487, 506, 523, 525,\n",
       "        561, 604], dtype=int64),)"
      ]
     },
     "execution_count": 101,
     "metadata": {},
     "output_type": "execute_result"
    }
   ],
   "source": [
    "row_index_more = np.where(z_scores_LoanAmount > 3)\n",
    "row_index_more"
   ]
  },
  {
   "cell_type": "code",
   "execution_count": 102,
   "id": "212f0d06-82bf-49e8-9427-b0cbb8c2cf7b",
   "metadata": {},
   "outputs": [
    {
     "data": {
      "text/plain": [
       "15"
      ]
     },
     "execution_count": 102,
     "metadata": {},
     "output_type": "execute_result"
    }
   ],
   "source": [
    "# count of outliers in the variable representing LoanAmount\n",
    "len(row_index_less[0]) + len(row_index_more[0])"
   ]
  },
  {
   "cell_type": "code",
   "execution_count": 103,
   "id": "3ebbf9b9-3b1f-4271-844b-b8c8c76f0e6b",
   "metadata": {},
   "outputs": [],
   "source": [
    "# Filter out the outlier values\n",
    "# ~: Select all rows which do not satisfy the condition\n",
    "df_LoanAmount_zscore = data[\"LoanAmount\"][~(( z_scores_LoanAmount < -3) |(z_scores_LoanAmount > 3))]"
   ]
  },
  {
   "cell_type": "markdown",
   "id": "aaf792a1-f12b-4656-b37c-661a608df200",
   "metadata": {},
   "source": [
    "Explanation of code.\n",
    "- (z_scores_LoanAmount < -3) | (z_scores_LoanAmount > 3) identifies Z-scores that are below -3 or above 3, indicating potential outliers.\n",
    "- We are using ~ to negate this condition as we only want those rows with z scores within this range.\n",
    "- Then we are creating a new Series (df_LoanAmount_zscore) containing values from the LoanAmount column having z scores within this range"
   ]
  },
  {
   "cell_type": "code",
   "execution_count": 104,
   "id": "2a7cf1a9-902d-471f-bd3e-eab1c7b08a60",
   "metadata": {},
   "outputs": [
    {
     "data": {
      "text/plain": [
       "(599,)"
      ]
     },
     "execution_count": 104,
     "metadata": {},
     "output_type": "execute_result"
    }
   ],
   "source": [
    "# check the shape\n",
    "df_LoanAmount_zscore.shape"
   ]
  },
  {
   "cell_type": "code",
   "execution_count": 105,
   "id": "269777b4-2aa7-4400-a27f-34ae2e9829e2",
   "metadata": {},
   "outputs": [
    {
     "data": {
      "text/plain": [
       "(614, 18)"
      ]
     },
     "execution_count": 105,
     "metadata": {},
     "output_type": "execute_result"
    }
   ],
   "source": [
    "data.shape"
   ]
  },
  {
   "cell_type": "code",
   "execution_count": 107,
   "id": "b9b1d1fb-c166-40dc-adeb-1f34e8d3f30f",
   "metadata": {},
   "outputs": [
    {
     "data": {
      "text/plain": [
       "(541, 18)"
      ]
     },
     "execution_count": 107,
     "metadata": {},
     "output_type": "execute_result"
    }
   ],
   "source": [
    "z_score_threshold = 3 # You can adjust this threshold as needed\n",
    "# Calculate z-scores for all numerical columns\n",
    "z_scores = np.abs(zscore(data.select_dtypes(include=[np.number])))\n",
    "# Remove rows with any z-score exceeding the threshold\n",
    "data_no_outliers = data[(z_scores < z_score_threshold).all(axis=1)]\n",
    "data_no_outliers.shape"
   ]
  },
  {
   "cell_type": "markdown",
   "id": "bec08a52-4b87-4606-a3bf-592bf34da8d7",
   "metadata": {},
   "source": [
    "How to decide which method to use for outlier treatment?\n",
    "<br>Consider the nature of your data and your analysis goals.\n",
    "- The Z-Score method is ideal when your data approximates a normal distribution and is symmetric.\n",
    "    - It quantifies data points in terms of standard deviations from the mean, making it effective for large datasets.\n",
    "- On the other hand, the IQR (Interquartile Range) method is best when your data doesn't follow a normal distribution or is skewed.\n",
    "    - It defines a central range based on percentiles and is less sensitive to outliers, making it a robust choice, particularly for smaller datasets."
   ]
  },
  {
   "cell_type": "markdown",
   "id": "679fc02e-ad6e-4ab9-b817-9b649113c6e1",
   "metadata": {},
   "source": [
    "# Categorical to Numerical"
   ]
  },
  {
   "cell_type": "code",
   "execution_count": 110,
   "id": "aece86a8-f421-45f7-ad17-865696dc5536",
   "metadata": {},
   "outputs": [
    {
     "data": {
      "text/html": [
       "<div>\n",
       "<style scoped>\n",
       "    .dataframe tbody tr th:only-of-type {\n",
       "        vertical-align: middle;\n",
       "    }\n",
       "\n",
       "    .dataframe tbody tr th {\n",
       "        vertical-align: top;\n",
       "    }\n",
       "\n",
       "    .dataframe thead th {\n",
       "        text-align: right;\n",
       "    }\n",
       "</style>\n",
       "<table border=\"1\" class=\"dataframe\">\n",
       "  <thead>\n",
       "    <tr style=\"text-align: right;\">\n",
       "      <th></th>\n",
       "      <th>ApplicantIncome</th>\n",
       "      <th>CoapplicantIncome</th>\n",
       "      <th>LoanAmount</th>\n",
       "      <th>Loan_Amount_Term</th>\n",
       "      <th>TotalIncome</th>\n",
       "      <th>Loan_Amount_per_year</th>\n",
       "      <th>EMI</th>\n",
       "    </tr>\n",
       "  </thead>\n",
       "  <tbody>\n",
       "    <tr>\n",
       "      <th>0</th>\n",
       "      <td>5849</td>\n",
       "      <td>0.0</td>\n",
       "      <td>128.0</td>\n",
       "      <td>30.0</td>\n",
       "      <td>5849.0</td>\n",
       "      <td>4.383333</td>\n",
       "      <td>365.277778</td>\n",
       "    </tr>\n",
       "    <tr>\n",
       "      <th>1</th>\n",
       "      <td>4583</td>\n",
       "      <td>1508.0</td>\n",
       "      <td>128.0</td>\n",
       "      <td>30.0</td>\n",
       "      <td>6091.0</td>\n",
       "      <td>4.266667</td>\n",
       "      <td>355.555556</td>\n",
       "    </tr>\n",
       "    <tr>\n",
       "      <th>2</th>\n",
       "      <td>3000</td>\n",
       "      <td>0.0</td>\n",
       "      <td>66.0</td>\n",
       "      <td>30.0</td>\n",
       "      <td>3000.0</td>\n",
       "      <td>2.200000</td>\n",
       "      <td>183.333333</td>\n",
       "    </tr>\n",
       "    <tr>\n",
       "      <th>3</th>\n",
       "      <td>2583</td>\n",
       "      <td>2358.0</td>\n",
       "      <td>120.0</td>\n",
       "      <td>30.0</td>\n",
       "      <td>4941.0</td>\n",
       "      <td>4.000000</td>\n",
       "      <td>333.333333</td>\n",
       "    </tr>\n",
       "    <tr>\n",
       "      <th>4</th>\n",
       "      <td>6000</td>\n",
       "      <td>0.0</td>\n",
       "      <td>141.0</td>\n",
       "      <td>30.0</td>\n",
       "      <td>6000.0</td>\n",
       "      <td>4.700000</td>\n",
       "      <td>391.666667</td>\n",
       "    </tr>\n",
       "  </tbody>\n",
       "</table>\n",
       "</div>"
      ],
      "text/plain": [
       "   ApplicantIncome  CoapplicantIncome  LoanAmount  Loan_Amount_Term  \\\n",
       "0             5849                0.0       128.0              30.0   \n",
       "1             4583             1508.0       128.0              30.0   \n",
       "2             3000                0.0        66.0              30.0   \n",
       "3             2583             2358.0       120.0              30.0   \n",
       "4             6000                0.0       141.0              30.0   \n",
       "\n",
       "   TotalIncome  Loan_Amount_per_year         EMI  \n",
       "0       5849.0              4.383333  365.277778  \n",
       "1       6091.0              4.266667  355.555556  \n",
       "2       3000.0              2.200000  183.333333  \n",
       "3       4941.0              4.000000  333.333333  \n",
       "4       6000.0              4.700000  391.666667  "
      ]
     },
     "execution_count": 110,
     "metadata": {},
     "output_type": "execute_result"
    }
   ],
   "source": [
    "num=df_iqr\n",
    "num.head()"
   ]
  },
  {
   "cell_type": "code",
   "execution_count": 114,
   "id": "1db6cc50-f661-4faa-af04-1da13ce542d0",
   "metadata": {},
   "outputs": [
    {
     "data": {
      "text/html": [
       "<div>\n",
       "<style scoped>\n",
       "    .dataframe tbody tr th:only-of-type {\n",
       "        vertical-align: middle;\n",
       "    }\n",
       "\n",
       "    .dataframe tbody tr th {\n",
       "        vertical-align: top;\n",
       "    }\n",
       "\n",
       "    .dataframe thead th {\n",
       "        text-align: right;\n",
       "    }\n",
       "</style>\n",
       "<table border=\"1\" class=\"dataframe\">\n",
       "  <thead>\n",
       "    <tr style=\"text-align: right;\">\n",
       "      <th></th>\n",
       "      <th>Gender</th>\n",
       "      <th>Married</th>\n",
       "      <th>Dependents</th>\n",
       "      <th>Education</th>\n",
       "      <th>Self_Employed</th>\n",
       "      <th>Property_Area</th>\n",
       "      <th>Income_bin</th>\n",
       "      <th>TotalIncome_bin</th>\n",
       "      <th>Able_to_pay_EMI</th>\n",
       "      <th>Credit_History</th>\n",
       "    </tr>\n",
       "  </thead>\n",
       "  <tbody>\n",
       "    <tr>\n",
       "      <th>0</th>\n",
       "      <td>Male</td>\n",
       "      <td>No</td>\n",
       "      <td>0</td>\n",
       "      <td>Graduate</td>\n",
       "      <td>No</td>\n",
       "      <td>Urban</td>\n",
       "      <td>Medium</td>\n",
       "      <td>High</td>\n",
       "      <td>0</td>\n",
       "      <td>1.0</td>\n",
       "    </tr>\n",
       "    <tr>\n",
       "      <th>1</th>\n",
       "      <td>Male</td>\n",
       "      <td>Yes</td>\n",
       "      <td>1</td>\n",
       "      <td>Graduate</td>\n",
       "      <td>No</td>\n",
       "      <td>Rural</td>\n",
       "      <td>Medium</td>\n",
       "      <td>High</td>\n",
       "      <td>1</td>\n",
       "      <td>1.0</td>\n",
       "    </tr>\n",
       "    <tr>\n",
       "      <th>2</th>\n",
       "      <td>Male</td>\n",
       "      <td>Yes</td>\n",
       "      <td>0</td>\n",
       "      <td>Graduate</td>\n",
       "      <td>Yes</td>\n",
       "      <td>Urban</td>\n",
       "      <td>Average</td>\n",
       "      <td>Low</td>\n",
       "      <td>1</td>\n",
       "      <td>1.0</td>\n",
       "    </tr>\n",
       "    <tr>\n",
       "      <th>3</th>\n",
       "      <td>Male</td>\n",
       "      <td>Yes</td>\n",
       "      <td>0</td>\n",
       "      <td>Not Graduate</td>\n",
       "      <td>No</td>\n",
       "      <td>Urban</td>\n",
       "      <td>Average</td>\n",
       "      <td>Average</td>\n",
       "      <td>1</td>\n",
       "      <td>1.0</td>\n",
       "    </tr>\n",
       "    <tr>\n",
       "      <th>4</th>\n",
       "      <td>Male</td>\n",
       "      <td>No</td>\n",
       "      <td>0</td>\n",
       "      <td>Graduate</td>\n",
       "      <td>No</td>\n",
       "      <td>Urban</td>\n",
       "      <td>Medium</td>\n",
       "      <td>High</td>\n",
       "      <td>1</td>\n",
       "      <td>1.0</td>\n",
       "    </tr>\n",
       "  </tbody>\n",
       "</table>\n",
       "</div>"
      ],
      "text/plain": [
       "  Gender Married Dependents     Education Self_Employed Property_Area  \\\n",
       "0   Male      No          0      Graduate            No         Urban   \n",
       "1   Male     Yes          1      Graduate            No         Rural   \n",
       "2   Male     Yes          0      Graduate           Yes         Urban   \n",
       "3   Male     Yes          0  Not Graduate            No         Urban   \n",
       "4   Male      No          0      Graduate            No         Urban   \n",
       "\n",
       "  Income_bin TotalIncome_bin  Able_to_pay_EMI  Credit_History  \n",
       "0     Medium            High                0             1.0  \n",
       "1     Medium            High                1             1.0  \n",
       "2    Average             Low                1             1.0  \n",
       "3    Average         Average                1             1.0  \n",
       "4     Medium            High                1             1.0  "
      ]
     },
     "execution_count": 114,
     "metadata": {},
     "output_type": "execute_result"
    }
   ],
   "source": [
    "cat = data.select_dtypes(include=['object'])\n",
    "cat.drop('Loan_Status',axis=1,inplace=True)\n",
    "cat['Able_to_pay_EMI'] = data['Able_to_pay_EMI']\n",
    "cat['Credit_History'] = data['Credit_History']\n",
    "cat.head()"
   ]
  },
  {
   "cell_type": "code",
   "execution_count": 116,
   "id": "42dec644-8059-4226-82c2-c980724a9f14",
   "metadata": {},
   "outputs": [
    {
     "data": {
      "text/plain": [
       "0    Y\n",
       "1    N\n",
       "2    Y\n",
       "3    Y\n",
       "4    Y\n",
       "Name: Loan_Status, dtype: object"
      ]
     },
     "execution_count": 116,
     "metadata": {},
     "output_type": "execute_result"
    }
   ],
   "source": [
    "## Target Column\n",
    "Target = data['Loan_Status']\n",
    "Target.head()"
   ]
  },
  {
   "cell_type": "markdown",
   "id": "e779e54d-a24a-4d89-a6d8-9ac9dd72e62f",
   "metadata": {},
   "source": [
    "**Coversion can be done by 3 methods:**\n",
    "1. One Hot Encoding\n",
    "2. Lable Encoding\n",
    "3. Target Encoding"
   ]
  },
  {
   "attachments": {
    "01763a2e-c147-45f4-9863-debc29ebe82a.png": {
     "image/png": "[encoded data removed]"
    }
   },
   "cell_type": "markdown",
   "id": "a09c5858-a492-48f2-b9fb-02b5aea7d64b",
   "metadata": {},
   "source": [
    "![image.png](attachment:01763a2e-c147-45f4-9863-debc29ebe82a.png)"
   ]
  },
  {
   "attachments": {
    "fe3e6f49-ab3d-49b9-a238-85bd671d9270.png": {
     "image/png": "[encoded data removed]"
    }
   },
   "cell_type": "markdown",
   "id": "bc6d78bb-8d99-4e0e-80cf-3f9f55e5b70e",
   "metadata": {},
   "source": [
    "![image.png](attachment:fe3e6f49-ab3d-49b9-a238-85bd671d9270.png)"
   ]
  },
  {
   "attachments": {
    "bf9cc159-87df-423d-a49d-8fa0cce3bd30.png": {
     "image/png": "[encoded data removed]"
    }
   },
   "cell_type": "markdown",
   "id": "928539de-05a9-4d38-9754-bff09b76d01a",
   "metadata": {},
   "source": [
    "![image.png](attachment:bf9cc159-87df-423d-a49d-8fa0cce3bd30.png)"
   ]
  },
  {
   "cell_type": "code",
   "execution_count": 117,
   "id": "48b71a44-84ef-412a-82ea-ed2711472ee8",
   "metadata": {},
   "outputs": [
    {
     "data": {
      "text/plain": [
       "Index(['Gender', 'Married', 'Dependents', 'Education', 'Self_Employed',\n",
       "       'Property_Area', 'Income_bin', 'TotalIncome_bin', 'Able_to_pay_EMI',\n",
       "       'Credit_History'],\n",
       "      dtype='object')"
      ]
     },
     "execution_count": 117,
     "metadata": {},
     "output_type": "execute_result"
    }
   ],
   "source": [
    "cat.columns"
   ]
  },
  {
   "cell_type": "code",
   "execution_count": 118,
   "id": "980340dc-5dcd-464b-89cf-ae51e21e3e81",
   "metadata": {},
   "outputs": [
    {
     "data": {
      "text/plain": [
       "Loan_Status\n",
       "Y    422\n",
       "N    192\n",
       "Name: count, dtype: int64"
      ]
     },
     "execution_count": 118,
     "metadata": {},
     "output_type": "execute_result"
    }
   ],
   "source": [
    "Target.value_counts()"
   ]
  },
  {
   "cell_type": "code",
   "execution_count": 123,
   "id": "9387885a-e6a1-4a37-a6e8-b79c179dfd5b",
   "metadata": {},
   "outputs": [
    {
     "data": {
      "text/plain": [
       "Loan_Status\n",
       "1    422\n",
       "0    192\n",
       "Name: count, dtype: int64"
      ]
     },
     "execution_count": 123,
     "metadata": {},
     "output_type": "execute_result"
    }
   ],
   "source": [
    "col='Loan_Status'\n",
    "label_encoder=LabelEncoder()\n",
    "data[col]=label_encoder.fit_transform(data[col])\n",
    "data[col].value_counts()"
   ]
  },
  {
   "cell_type": "code",
   "execution_count": 124,
   "id": "6eccd87d-3f29-4551-936a-54e5c3e010a0",
   "metadata": {},
   "outputs": [],
   "source": [
    "col=\"Gender\"\n",
    "data[col]=label_encoder.fit_transform(data[col])\n",
    "col=\"Married\"\n",
    "data[col]=label_encoder.fit_transform(data[col])\n",
    "col=\"Education\"\n",
    "data[col]=label_encoder.fit_transform(data[col])"
   ]
  },
  {
   "cell_type": "code",
   "execution_count": 125,
   "id": "d95ef262-e864-4c2f-a20c-84af7359e3a2",
   "metadata": {},
   "outputs": [
    {
     "data": {
      "text/plain": [
       "Property_Area\n",
       "Semiurban    233\n",
       "Urban        202\n",
       "Rural        179\n",
       "Name: count, dtype: int64"
      ]
     },
     "execution_count": 125,
     "metadata": {},
     "output_type": "execute_result"
    }
   ],
   "source": [
    "col=\"Property_Area\"\n",
    "data[col].value_counts()"
   ]
  },
  {
   "cell_type": "code",
   "execution_count": 129,
   "id": "b92fe755-fe9f-482a-8ac0-ade6546a2e6c",
   "metadata": {},
   "outputs": [
    {
     "data": {
      "text/html": [
       "<div>\n",
       "<style scoped>\n",
       "    .dataframe tbody tr th:only-of-type {\n",
       "        vertical-align: middle;\n",
       "    }\n",
       "\n",
       "    .dataframe tbody tr th {\n",
       "        vertical-align: top;\n",
       "    }\n",
       "\n",
       "    .dataframe thead th {\n",
       "        text-align: right;\n",
       "    }\n",
       "</style>\n",
       "<table border=\"1\" class=\"dataframe\">\n",
       "  <thead>\n",
       "    <tr style=\"text-align: right;\">\n",
       "      <th>Loan_Status</th>\n",
       "      <th>0</th>\n",
       "      <th>1</th>\n",
       "    </tr>\n",
       "    <tr>\n",
       "      <th>Property_Area</th>\n",
       "      <th></th>\n",
       "      <th></th>\n",
       "    </tr>\n",
       "  </thead>\n",
       "  <tbody>\n",
       "    <tr>\n",
       "      <th>Rural</th>\n",
       "      <td>69</td>\n",
       "      <td>110</td>\n",
       "    </tr>\n",
       "    <tr>\n",
       "      <th>Semiurban</th>\n",
       "      <td>54</td>\n",
       "      <td>179</td>\n",
       "    </tr>\n",
       "    <tr>\n",
       "      <th>Urban</th>\n",
       "      <td>69</td>\n",
       "      <td>133</td>\n",
       "    </tr>\n",
       "  </tbody>\n",
       "</table>\n",
       "</div>"
      ],
      "text/plain": [
       "Loan_Status     0    1\n",
       "Property_Area         \n",
       "Rural          69  110\n",
       "Semiurban      54  179\n",
       "Urban          69  133"
      ]
     },
     "execution_count": 129,
     "metadata": {},
     "output_type": "execute_result"
    }
   ],
   "source": [
    "pd.crosstab(data[\"Property_Area\"], data[\"Loan_Status\"])"
   ]
  },
  {
   "cell_type": "code",
   "execution_count": 130,
   "id": "cecf599f-6334-418a-9a40-59b0e9c0ed71",
   "metadata": {},
   "outputs": [
    {
     "data": {
      "text/html": [
       "<div>\n",
       "<style scoped>\n",
       "    .dataframe tbody tr th:only-of-type {\n",
       "        vertical-align: middle;\n",
       "    }\n",
       "\n",
       "    .dataframe tbody tr th {\n",
       "        vertical-align: top;\n",
       "    }\n",
       "\n",
       "    .dataframe thead th {\n",
       "        text-align: right;\n",
       "    }\n",
       "</style>\n",
       "<table border=\"1\" class=\"dataframe\">\n",
       "  <thead>\n",
       "    <tr style=\"text-align: right;\">\n",
       "      <th>Loan_Status</th>\n",
       "      <th>0</th>\n",
       "      <th>1</th>\n",
       "    </tr>\n",
       "    <tr>\n",
       "      <th>Property_Area</th>\n",
       "      <th></th>\n",
       "      <th></th>\n",
       "    </tr>\n",
       "  </thead>\n",
       "  <tbody>\n",
       "    <tr>\n",
       "      <th>Rural</th>\n",
       "      <td>0.385475</td>\n",
       "      <td>0.614525</td>\n",
       "    </tr>\n",
       "    <tr>\n",
       "      <th>Semiurban</th>\n",
       "      <td>0.231760</td>\n",
       "      <td>0.768240</td>\n",
       "    </tr>\n",
       "    <tr>\n",
       "      <th>Urban</th>\n",
       "      <td>0.341584</td>\n",
       "      <td>0.658416</td>\n",
       "    </tr>\n",
       "  </tbody>\n",
       "</table>\n",
       "</div>"
      ],
      "text/plain": [
       "Loan_Status           0         1\n",
       "Property_Area                    \n",
       "Rural          0.385475  0.614525\n",
       "Semiurban      0.231760  0.768240\n",
       "Urban          0.341584  0.658416"
      ]
     },
     "execution_count": 130,
     "metadata": {},
     "output_type": "execute_result"
    }
   ],
   "source": [
    "pd.crosstab(data[\"Property_Area\"], data[\"Loan_Status\"],normalize=\"index\")"
   ]
  },
  {
   "cell_type": "code",
   "execution_count": 131,
   "id": "5700a2b3-c33d-4601-a4d4-54182f6db7ef",
   "metadata": {},
   "outputs": [
    {
     "data": {
      "text/plain": [
       "Property_Area\n",
       "0.768240    233\n",
       "0.658416    202\n",
       "0.614525    179\n",
       "Name: count, dtype: int64"
      ]
     },
     "execution_count": 131,
     "metadata": {},
     "output_type": "execute_result"
    }
   ],
   "source": [
    "# pd.crosstab(data[\"Property_Area\"], data[\"Loan_Status\"],margins=True)\n",
    "col=\"Property_Area\"\n",
    "te=TargetEncoder()\n",
    "# here I need to pass 2 things as parameters. 1st the column that I'm working on\n",
    "# 2nd the Target column\n",
    "data[col]=te.fit_transform(data[col],data[\"Loan_Status\"])\n",
    "data[col].value_counts()"
   ]
  },
  {
   "cell_type": "code",
   "execution_count": 132,
   "id": "ce10c51f-2436-4652-8ba3-09ac31bc91c6",
   "metadata": {},
   "outputs": [
    {
     "data": {
      "text/plain": [
       "TotalIncome_bin\n",
       "0.690583    223\n",
       "0.712264    212\n",
       "0.681818    132\n",
       "0.581573     47\n",
       "Name: count, dtype: int64"
      ]
     },
     "execution_count": 132,
     "metadata": {},
     "output_type": "execute_result"
    }
   ],
   "source": [
    "# include remaining features in a single cell\n",
    "col=\"Self_Employed\"\n",
    "te=TargetEncoder()\n",
    "data[col]=te.fit_transform(data[col],data[\"Loan_Status\"])\n",
    "data[col].value_counts()\n",
    "col=\"Dependents\"\n",
    "te=TargetEncoder()\n",
    "data[col]=te.fit_transform(data[col],data[\"Loan_Status\"])\n",
    "data[col].value_counts()\n",
    "col=\"Income_bin\"\n",
    "te=TargetEncoder()\n",
    "data[col]=te.fit_transform(data[col],data[\"Loan_Status\"])\n",
    "data[col].value_counts()\n",
    "col=\"TotalIncome_bin\"\n",
    "te=TargetEncoder()\n",
    "data[col]=te.fit_transform(data[col],data[\"Loan_Status\"])\n",
    "data[col].value_counts()"
   ]
  },
  {
   "cell_type": "code",
   "execution_count": 133,
   "id": "6b15b73d-0ca9-4227-936e-51b0690011e0",
   "metadata": {},
   "outputs": [
    {
     "data": {
      "text/plain": [
       "Gender                    int32\n",
       "Married                   int32\n",
       "Dependents              float64\n",
       "Education                 int32\n",
       "Self_Employed           float64\n",
       "ApplicantIncome           int64\n",
       "CoapplicantIncome       float64\n",
       "LoanAmount              float64\n",
       "Loan_Amount_Term        float64\n",
       "Credit_History          float64\n",
       "Property_Area           float64\n",
       "Loan_Status               int32\n",
       "Income_bin              float64\n",
       "TotalIncome             float64\n",
       "TotalIncome_bin         float64\n",
       "Loan_Amount_per_year    float64\n",
       "EMI                     float64\n",
       "Able_to_pay_EMI           int32\n",
       "dtype: object"
      ]
     },
     "execution_count": 133,
     "metadata": {},
     "output_type": "execute_result"
    }
   ],
   "source": [
    "data.dtypes"
   ]
  },
  {
   "cell_type": "code",
   "execution_count": 134,
   "id": "bb209971-d4c0-4c8d-9a5f-65dd8f7726f9",
   "metadata": {},
   "outputs": [
    {
     "data": {
      "text/plain": [
       "[]"
      ]
     },
     "execution_count": 134,
     "metadata": {},
     "output_type": "execute_result"
    }
   ],
   "source": [
    "s = (data.dtypes == 'object')\n",
    "object_cols = list(s[s].index)\n",
    "object_cols"
   ]
  },
  {
   "cell_type": "markdown",
   "id": "e9c75aad-7b28-4b31-86cb-352b15fa414d",
   "metadata": {},
   "source": [
    "# Column Standardization"
   ]
  },
  {
   "attachments": {
    "06df0a7d-dcaa-49dd-988c-4d5fb8f18085.png": {
     "image/png": "[encoded data removed]"
    }
   },
   "cell_type": "markdown",
   "id": "dd0e6a38-ec6c-4076-851b-795c830e62e3",
   "metadata": {},
   "source": [
    "![image.png](attachment:06df0a7d-dcaa-49dd-988c-4d5fb8f18085.png)"
   ]
  },
  {
   "cell_type": "markdown",
   "id": "c5f8a95e-ac2a-4906-9edc-74789585fbd3",
   "metadata": {},
   "source": [
    "Why do we even care about normalizing or standardizing the data?\n",
    "- Consider the features total_income and the dependents, they both are very different ranges.\n",
    "    - The dependents vary between [1, 3], whereas\n",
    "    - The total_income varies between [1442, 81000] sq. ft.\n",
    "- The Machine Learning model will get biased towards a larger quantity, and hence the total feature will be preferred all the time.\n",
    "- But in the real world, we don't want to have biases between the features based on the values they contain.\n",
    "- Hence we perform normalization to convert the features to a similar range."
   ]
  },
  {
   "cell_type": "code",
   "execution_count": 135,
   "id": "167a134e-11e7-428b-8ea7-158cc5fa08ad",
   "metadata": {},
   "outputs": [
    {
     "data": {
      "text/html": [
       "<div>\n",
       "<style scoped>\n",
       "    .dataframe tbody tr th:only-of-type {\n",
       "        vertical-align: middle;\n",
       "    }\n",
       "\n",
       "    .dataframe tbody tr th {\n",
       "        vertical-align: top;\n",
       "    }\n",
       "\n",
       "    .dataframe thead th {\n",
       "        text-align: right;\n",
       "    }\n",
       "</style>\n",
       "<table border=\"1\" class=\"dataframe\">\n",
       "  <thead>\n",
       "    <tr style=\"text-align: right;\">\n",
       "      <th></th>\n",
       "      <th>ApplicantIncome</th>\n",
       "      <th>CoapplicantIncome</th>\n",
       "      <th>LoanAmount</th>\n",
       "      <th>Loan_Amount_Term</th>\n",
       "      <th>TotalIncome</th>\n",
       "      <th>Loan_Amount_per_year</th>\n",
       "      <th>EMI</th>\n",
       "    </tr>\n",
       "  </thead>\n",
       "  <tbody>\n",
       "    <tr>\n",
       "      <th>0</th>\n",
       "      <td>5849</td>\n",
       "      <td>0.0</td>\n",
       "      <td>128.0</td>\n",
       "      <td>30.0</td>\n",
       "      <td>5849.0</td>\n",
       "      <td>4.383333</td>\n",
       "      <td>365.277778</td>\n",
       "    </tr>\n",
       "    <tr>\n",
       "      <th>1</th>\n",
       "      <td>4583</td>\n",
       "      <td>1508.0</td>\n",
       "      <td>128.0</td>\n",
       "      <td>30.0</td>\n",
       "      <td>6091.0</td>\n",
       "      <td>4.266667</td>\n",
       "      <td>355.555556</td>\n",
       "    </tr>\n",
       "    <tr>\n",
       "      <th>2</th>\n",
       "      <td>3000</td>\n",
       "      <td>0.0</td>\n",
       "      <td>66.0</td>\n",
       "      <td>30.0</td>\n",
       "      <td>3000.0</td>\n",
       "      <td>2.200000</td>\n",
       "      <td>183.333333</td>\n",
       "    </tr>\n",
       "    <tr>\n",
       "      <th>3</th>\n",
       "      <td>2583</td>\n",
       "      <td>2358.0</td>\n",
       "      <td>120.0</td>\n",
       "      <td>30.0</td>\n",
       "      <td>4941.0</td>\n",
       "      <td>4.000000</td>\n",
       "      <td>333.333333</td>\n",
       "    </tr>\n",
       "    <tr>\n",
       "      <th>4</th>\n",
       "      <td>6000</td>\n",
       "      <td>0.0</td>\n",
       "      <td>141.0</td>\n",
       "      <td>30.0</td>\n",
       "      <td>6000.0</td>\n",
       "      <td>4.700000</td>\n",
       "      <td>391.666667</td>\n",
       "    </tr>\n",
       "  </tbody>\n",
       "</table>\n",
       "</div>"
      ],
      "text/plain": [
       "   ApplicantIncome  CoapplicantIncome  LoanAmount  Loan_Amount_Term  \\\n",
       "0             5849                0.0       128.0              30.0   \n",
       "1             4583             1508.0       128.0              30.0   \n",
       "2             3000                0.0        66.0              30.0   \n",
       "3             2583             2358.0       120.0              30.0   \n",
       "4             6000                0.0       141.0              30.0   \n",
       "\n",
       "   TotalIncome  Loan_Amount_per_year         EMI  \n",
       "0       5849.0              4.383333  365.277778  \n",
       "1       6091.0              4.266667  355.555556  \n",
       "2       3000.0              2.200000  183.333333  \n",
       "3       4941.0              4.000000  333.333333  \n",
       "4       6000.0              4.700000  391.666667  "
      ]
     },
     "execution_count": 135,
     "metadata": {},
     "output_type": "execute_result"
    }
   ],
   "source": [
    "num.head()"
   ]
  },
  {
   "cell_type": "code",
   "execution_count": 136,
   "id": "cb81eaf2-0609-4c0f-a915-5412183e7ade",
   "metadata": {},
   "outputs": [
    {
     "name": "stdout",
     "output_type": "stream",
     "text": [
      " The minimum value of the LoanAmount: 9.0 \n",
      " The maximum value of the LoanAmount: 260.0\n"
     ]
    }
   ],
   "source": [
    "# calculate the minimum and maximum values of the variable\n",
    "print(\" The minimum value of the LoanAmount:\",df_iqr['LoanAmount'].min(),\"\\n\",\n",
    "\"The maximum value of the LoanAmount:\", df_iqr['LoanAmount'].max())"
   ]
  },
  {
   "cell_type": "code",
   "execution_count": 138,
   "id": "a9e78a31-9d53-4b0b-a037-71874338b094",
   "metadata": {},
   "outputs": [
    {
     "name": "stdout",
     "output_type": "stream",
     "text": [
      " The minimum value of the sales: -2.7081096824702664 \n",
      " The maximum value of the sales: 2.979741979703463\n"
     ]
    },
    {
     "name": "stderr",
     "output_type": "stream",
     "text": [
      "C:\\Users\\ishan\\AppData\\Local\\Temp\\ipykernel_37664\\1489453181.py:4: SettingWithCopyWarning: \n",
      "A value is trying to be set on a copy of a slice from a DataFrame.\n",
      "Try using .loc[row_indexer,col_indexer] = value instead\n",
      "\n",
      "See the caveats in the documentation: https://pandas.pydata.org/pandas-docs/stable/user_guide/indexing.html#returning-a-view-versus-a-copy\n",
      "  num['Scaled_LoanAmount'] = standard_scale.fit_transform(num[['LoanAmount']])\n"
     ]
    }
   ],
   "source": [
    "# instantiate the standardscaler\n",
    "standard_scale = StandardScaler()\n",
    "# fit the StandardScaler\n",
    "num['Scaled_LoanAmount'] = standard_scale.fit_transform(num[['LoanAmount']])\n",
    "# calculate the minimum and maximum values of the variable\n",
    "print(\" The minimum value of the sales:\",num['Scaled_LoanAmount'].min(),\"\\n\",\n",
    "\"The maximum value of the sales:\", num['Scaled_LoanAmount'].max())"
   ]
  },
  {
   "cell_type": "code",
   "execution_count": 139,
   "id": "73f63aa6-1ed4-4152-b5dc-9be3a077db96",
   "metadata": {},
   "outputs": [
    {
     "name": "stderr",
     "output_type": "stream",
     "text": [
      "C:\\Users\\ishan\\AppData\\Local\\Temp\\ipykernel_37664\\1974278657.py:9: UserWarning: \n",
      "\n",
      "`distplot` is a deprecated function and will be removed in seaborn v0.14.0.\n",
      "\n",
      "Please adapt your code to use either `displot` (a figure-level function with\n",
      "similar flexibility) or `histplot` (an axes-level function for histograms).\n",
      "\n",
      "For a guide to updating your code to use the new functions, please see\n",
      "https://gist.github.com/mwaskom/de44147ed2974457ad6372750bbe5751\n",
      "\n",
      "  sns.distplot(num['LoanAmount'])\n",
      "C:\\Users\\ishan\\AppData\\Local\\Temp\\ipykernel_37664\\1974278657.py:19: UserWarning: \n",
      "\n",
      "`distplot` is a deprecated function and will be removed in seaborn v0.14.0.\n",
      "\n",
      "Please adapt your code to use either `displot` (a figure-level function with\n",
      "similar flexibility) or `histplot` (an axes-level function for histograms).\n",
      "\n",
      "For a guide to updating your code to use the new functions, please see\n",
      "https://gist.github.com/mwaskom/de44147ed2974457ad6372750bbe5751\n",
      "\n",
      "  sns.distplot(num['Scaled_LoanAmount'])\n"
     ]
    },
    {
     "data": {
      "image/png": "[encoded data removed]",
      "text/plain": [
       "<Figure size 1500x800 with 2 Axes>"
      ]
     },
     "metadata": {},
     "output_type": "display_data"
    }
   ],
   "source": [
    "# set the figure size\n",
    "plt.rcParams[\"figure.figsize\"] = [15,8]\n",
    "# subplot is used to create a set of plots\n",
    "# we create a subplot of 1 row by 2 columns\n",
    "# use first column for plotting\n",
    "plt.subplot(1,2,1)\n",
    "# plot the distribution of the original variable\n",
    "# axlabel: label the x-axis\n",
    "sns.distplot(num['LoanAmount'])\n",
    "# set label for the y-axis\n",
    "plt.ylabel('Density', fontsize=15)\n",
    "# set label for x-axis\n",
    "plt.xlabel('LoanAmount', fontsize=15)\n",
    "# We create a subplot of 1 row by 2 columns\n",
    "# use the second column for plotting\n",
    "plt.subplot(1,2,2)\n",
    "# plot the distribution of the scaled variable\n",
    "# axlabel: label the x-axis\n",
    "sns.distplot(num['Scaled_LoanAmount'])\n",
    "# set label for the y-axis\n",
    "plt.ylabel('Density', fontsize=15)\n",
    "# set label for the x-axis\n",
    "plt.xlabel('Scaled LoanAmount', fontsize=15)\n",
    "# display the plot\n",
    "plt.show()"
   ]
  },
  {
   "cell_type": "code",
   "execution_count": 140,
   "id": "8483ce78-6efb-4859-8af2-d3930982094e",
   "metadata": {},
   "outputs": [
    {
     "name": "stdout",
     "output_type": "stream",
     "text": [
      "The mean of the scaled variable: 1.2023375987206936e-16 \n",
      " The standard deviation of the scaled variable: 1.0010934940391132\n"
     ]
    }
   ],
   "source": [
    "# check the mean and standard deviation of the scaled variable\n",
    "print(\"The mean of the scaled variable:\", num['Scaled_LoanAmount'].mean(),\"\\n\",\n",
    "\"The standard deviation of the scaled variable:\", num['Scaled_LoanAmount'].std())"
   ]
  },
  {
   "cell_type": "markdown",
   "id": "7f17d923-6667-45d7-a2f5-5f058eaf8cf3",
   "metadata": {},
   "source": [
    "# Min-Max Normalization"
   ]
  },
  {
   "cell_type": "markdown",
   "id": "bcdc3096-8e39-41e8-8bcd-c469a26a5d68",
   "metadata": {},
   "source": [
    "It is to make variables comparable to each other. Normalization is the process of reducing measurements to a “neutral” or “standard” scale"
   ]
  },
  {
   "cell_type": "markdown",
   "id": "f652f4be-31e6-4b89-ad01-6d558e1a6e1d",
   "metadata": {},
   "source": [
    "It performs a linear transformation on the data. The normalized values will be between 0 and 1."
   ]
  },
  {
   "cell_type": "code",
   "execution_count": 142,
   "id": "903026d4-8d68-43c4-99a9-0ba6e5f9ed7c",
   "metadata": {},
   "outputs": [
    {
     "name": "stderr",
     "output_type": "stream",
     "text": [
      "C:\\Users\\ishan\\AppData\\Local\\Temp\\ipykernel_37664\\733590871.py:4: SettingWithCopyWarning: \n",
      "A value is trying to be set on a copy of a slice from a DataFrame.\n",
      "Try using .loc[row_indexer,col_indexer] = value instead\n",
      "\n",
      "See the caveats in the documentation: https://pandas.pydata.org/pandas-docs/stable/user_guide/indexing.html#returning-a-view-versus-a-copy\n",
      "  num['minmax_LoanAmount'] = min_max.fit_transform(num[['LoanAmount']])\n"
     ]
    },
    {
     "data": {
      "text/plain": [
       "(0.0, 1.0)"
      ]
     },
     "execution_count": 142,
     "metadata": {},
     "output_type": "execute_result"
    }
   ],
   "source": [
    "# instantiate the MinMaxScaler\n",
    "min_max = MinMaxScaler()\n",
    "# fit the MinMaxScaler\n",
    "num['minmax_LoanAmount'] = min_max.fit_transform(num[['LoanAmount']])\n",
    "# minimum and maximum value of the normalized variable\n",
    "num['minmax_LoanAmount'].min(), num['minmax_LoanAmount'].max()"
   ]
  },
  {
   "cell_type": "code",
   "execution_count": 143,
   "id": "0c74fd37-430d-4efb-888e-a6f9cafd5853",
   "metadata": {},
   "outputs": [
    {
     "name": "stderr",
     "output_type": "stream",
     "text": [
      "C:\\Users\\ishan\\AppData\\Local\\Temp\\ipykernel_37664\\498366975.py:9: UserWarning: \n",
      "\n",
      "`distplot` is a deprecated function and will be removed in seaborn v0.14.0.\n",
      "\n",
      "Please adapt your code to use either `displot` (a figure-level function with\n",
      "similar flexibility) or `histplot` (an axes-level function for histograms).\n",
      "\n",
      "For a guide to updating your code to use the new functions, please see\n",
      "https://gist.github.com/mwaskom/de44147ed2974457ad6372750bbe5751\n",
      "\n",
      "  sns.distplot(num['LoanAmount'], axlabel='LoanAmount')\n",
      "C:\\Users\\ishan\\AppData\\Local\\Temp\\ipykernel_37664\\498366975.py:19: UserWarning: \n",
      "\n",
      "`distplot` is a deprecated function and will be removed in seaborn v0.14.0.\n",
      "\n",
      "Please adapt your code to use either `displot` (a figure-level function with\n",
      "similar flexibility) or `histplot` (an axes-level function for histograms).\n",
      "\n",
      "For a guide to updating your code to use the new functions, please see\n",
      "https://gist.github.com/mwaskom/de44147ed2974457ad6372750bbe5751\n",
      "\n",
      "  sns.distplot(num['minmax_LoanAmount'], axlabel='Scaled LoanAmount')\n"
     ]
    },
    {
     "data": {
      "image/png": "[encoded data removed]",
      "text/plain": [
       "<Figure size 1500x800 with 2 Axes>"
      ]
     },
     "metadata": {},
     "output_type": "display_data"
    }
   ],
   "source": [
    "# set the figure size\n",
    "plt.rcParams[\"figure.figsize\"] = [15,8]\n",
    "# subplot is used to create a set of plots\n",
    "# We create a subplot of 1 row by 2 columns\n",
    "# use the first column for plotting\n",
    "plt.subplot(1,2,1)\n",
    "# plot the distribution of the original variable\n",
    "# axlabel: label the x-axis\n",
    "sns.distplot(num['LoanAmount'], axlabel='LoanAmount')\n",
    "# set label for the y-axis\n",
    "plt.ylabel('Density', fontsize=15)\n",
    "# set label for the x-axis\n",
    "plt.xlabel('LoanAmount', fontsize=15)\n",
    "# we create a subplot of 1 row by 2 columns\n",
    "# use the second column for plotting\n",
    "plt.subplot(1,2,2)\n",
    "# plot the distribution of the scaled variable\n",
    "# axlabel: label the x-axis\n",
    "sns.distplot(num['minmax_LoanAmount'], axlabel='Scaled LoanAmount')\n",
    "# set label for the y-axis\n",
    "plt.ylabel('Density', fontsize=15)\n",
    "# set label for the x-axis\n",
    "plt.xlabel('Scaled LoanAmount', fontsize=15)\n",
    "# display the plot\n",
    "plt.show()"
   ]
  },
  {
   "cell_type": "markdown",
   "id": "ce4d4331-71d1-4277-9732-1d106dd65945",
   "metadata": {},
   "source": [
    "When to use Normalization and Standardisation?\n",
    "- Normalization is good to use when you know that the distribution of your data does not follow a Gaussian distribution.\n",
    "- Standardization, on the other hand, can be helpful in cases where the data follows a Gaussian distribution."
   ]
  },
  {
   "cell_type": "markdown",
   "id": "63f8ce30-e834-4877-a7e8-3c9b7d36990c",
   "metadata": {},
   "source": [
    "To convert the complete data let's first perform the shapiro test to check the normality of the data.\n"
   ]
  },
  {
   "cell_type": "code",
   "execution_count": 145,
   "id": "2469d3a9-66ea-4a13-af7f-418019cac860",
   "metadata": {},
   "outputs": [
    {
     "name": "stdout",
     "output_type": "stream",
     "text": [
      "Column ApplicantIncome : ShapiroResult(statistic=0.9215287708204641, pvalue=1.0194749031910956e-14)\n",
      "Column CoapplicantIncome : ShapiroResult(statistic=0.8516965530524995, pvalue=2.3174147300651245e-20)\n",
      "Column LoanAmount : ShapiroResult(statistic=0.9753212885449623, pvalue=5.346698710419568e-07)\n",
      "Column Loan_Amount_Term : ShapiroResult(statistic=1.0, pvalue=1.0)\n",
      "Column TotalIncome : ShapiroResult(statistic=0.9550975553022599, pvalue=1.381294243141998e-10)\n",
      "Column Loan_Amount_per_year : ShapiroResult(statistic=0.9740893956115726, pvalue=2.9408826583310763e-07)\n",
      "Column EMI : ShapiroResult(statistic=0.9740893956115724, pvalue=2.9408826583307666e-07)\n"
     ]
    },
    {
     "name": "stderr",
     "output_type": "stream",
     "text": [
      "C:\\Users\\ishan\\AppData\\Local\\Temp\\ipykernel_37664\\846338507.py:1: SettingWithCopyWarning: \n",
      "A value is trying to be set on a copy of a slice from a DataFrame\n",
      "\n",
      "See the caveats in the documentation: https://pandas.pydata.org/pandas-docs/stable/user_guide/indexing.html#returning-a-view-versus-a-copy\n",
      "  num.drop(['Scaled_LoanAmount','minmax_LoanAmount'],axis=1,inplace=True)\n",
      "C:\\Users\\ishan\\AppData\\Local\\Temp\\ipykernel_37664\\846338507.py:3: UserWarning: scipy.stats.shapiro: Input data has range zero. The results may not be accurate.\n",
      "  print('Column',i,':',shapiro(num[i]))\n"
     ]
    }
   ],
   "source": [
    "num.drop(['Scaled_LoanAmount','minmax_LoanAmount'],axis=1,inplace=True)\n",
    "for i in num.columns:\n",
    "    print('Column',i,':',shapiro(num[i]))"
   ]
  },
  {
   "cell_type": "markdown",
   "id": "49c36c84-d4ef-448d-b671-ea1f95e5be4b",
   "metadata": {},
   "source": [
    "Since all the columns are not normally distributed we can use minmax normalization to scale the data."
   ]
  },
  {
   "cell_type": "code",
   "execution_count": 146,
   "id": "b5dd7d78-d0ba-4d11-86cc-9dfeb86b6a18",
   "metadata": {},
   "outputs": [
    {
     "data": {
      "text/html": [
       "<div>\n",
       "<style scoped>\n",
       "    .dataframe tbody tr th:only-of-type {\n",
       "        vertical-align: middle;\n",
       "    }\n",
       "\n",
       "    .dataframe tbody tr th {\n",
       "        vertical-align: top;\n",
       "    }\n",
       "\n",
       "    .dataframe thead th {\n",
       "        text-align: right;\n",
       "    }\n",
       "</style>\n",
       "<table border=\"1\" class=\"dataframe\">\n",
       "  <thead>\n",
       "    <tr style=\"text-align: right;\">\n",
       "      <th></th>\n",
       "      <th>ApplicantIncome</th>\n",
       "      <th>CoapplicantIncome</th>\n",
       "      <th>LoanAmount</th>\n",
       "      <th>Loan_Amount_Term</th>\n",
       "      <th>TotalIncome</th>\n",
       "      <th>Loan_Amount_per_year</th>\n",
       "      <th>EMI</th>\n",
       "    </tr>\n",
       "  </thead>\n",
       "  <tbody>\n",
       "    <tr>\n",
       "      <th>0</th>\n",
       "      <td>0.570528</td>\n",
       "      <td>0.000000</td>\n",
       "      <td>0.474104</td>\n",
       "      <td>0.0</td>\n",
       "      <td>0.414153</td>\n",
       "      <td>0.488048</td>\n",
       "      <td>0.488048</td>\n",
       "    </tr>\n",
       "    <tr>\n",
       "      <th>1</th>\n",
       "      <td>0.443788</td>\n",
       "      <td>0.268089</td>\n",
       "      <td>0.474104</td>\n",
       "      <td>0.0</td>\n",
       "      <td>0.436895</td>\n",
       "      <td>0.474104</td>\n",
       "      <td>0.474104</td>\n",
       "    </tr>\n",
       "    <tr>\n",
       "      <th>2</th>\n",
       "      <td>0.285314</td>\n",
       "      <td>0.000000</td>\n",
       "      <td>0.227092</td>\n",
       "      <td>0.0</td>\n",
       "      <td>0.146415</td>\n",
       "      <td>0.227092</td>\n",
       "      <td>0.227092</td>\n",
       "    </tr>\n",
       "    <tr>\n",
       "      <th>3</th>\n",
       "      <td>0.243568</td>\n",
       "      <td>0.419200</td>\n",
       "      <td>0.442231</td>\n",
       "      <td>0.0</td>\n",
       "      <td>0.328822</td>\n",
       "      <td>0.442231</td>\n",
       "      <td>0.442231</td>\n",
       "    </tr>\n",
       "    <tr>\n",
       "      <th>4</th>\n",
       "      <td>0.585644</td>\n",
       "      <td>0.000000</td>\n",
       "      <td>0.525896</td>\n",
       "      <td>0.0</td>\n",
       "      <td>0.428343</td>\n",
       "      <td>0.525896</td>\n",
       "      <td>0.525896</td>\n",
       "    </tr>\n",
       "  </tbody>\n",
       "</table>\n",
       "</div>"
      ],
      "text/plain": [
       "   ApplicantIncome  CoapplicantIncome  LoanAmount  Loan_Amount_Term  \\\n",
       "0         0.570528           0.000000    0.474104               0.0   \n",
       "1         0.443788           0.268089    0.474104               0.0   \n",
       "2         0.285314           0.000000    0.227092               0.0   \n",
       "3         0.243568           0.419200    0.442231               0.0   \n",
       "4         0.585644           0.000000    0.525896               0.0   \n",
       "\n",
       "   TotalIncome  Loan_Amount_per_year       EMI  \n",
       "0     0.414153              0.488048  0.488048  \n",
       "1     0.436895              0.474104  0.474104  \n",
       "2     0.146415              0.227092  0.227092  \n",
       "3     0.328822              0.442231  0.442231  \n",
       "4     0.428343              0.525896  0.525896  "
      ]
     },
     "execution_count": 146,
     "metadata": {},
     "output_type": "execute_result"
    }
   ],
   "source": [
    "mm = MinMaxScaler()\n",
    "mmsfit = mm.fit(num)\n",
    "df_scaled = pd.DataFrame(mm.fit_transform(num),columns=num.columns)\n",
    "df_scaled.head()"
   ]
  },
  {
   "cell_type": "code",
   "execution_count": null,
   "id": "bf448152-1223-4c23-92ee-2d267f38dba9",
   "metadata": {},
   "outputs": [],
   "source": []
  }
 ],
 "metadata": {
  "kernelspec": {
   "display_name": "Python 3 (ipykernel)",
   "language": "python",
   "name": "python3"
  },
  "language_info": {
   "codemirror_mode": {
    "name": "ipython",
    "version": 3
   },
   "file_extension": ".py",
   "mimetype": "text/x-python",
   "name": "python",
   "nbconvert_exporter": "python",
   "pygments_lexer": "ipython3",
   "version": "3.12.2"
  }
 },
 "nbformat": 4,
 "nbformat_minor": 5
}
