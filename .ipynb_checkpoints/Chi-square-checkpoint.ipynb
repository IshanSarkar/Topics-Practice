{
 "cells": [
  {
   "cell_type": "markdown",
   "id": "24ab0f9c-ad50-4162-b468-3497a6723982",
   "metadata": {},
   "source": [
    "# Chi-square Test"
   ]
  },
  {
   "cell_type": "code",
   "execution_count": 2,
   "id": "78163141-94da-45ce-a406-69f602a29e7a",
   "metadata": {},
   "outputs": [],
   "source": [
    "from scipy.stats import chisquare, chi2_contingency"
   ]
  },
  {
   "cell_type": "markdown",
   "id": "7eb984b4-5dfd-44fb-b172-f6043bd45023",
   "metadata": {},
   "source": [
    "## Degrees of freedom"
   ]
  },
  {
   "cell_type": "markdown",
   "id": "dd185224-7624-4552-b41e-a36acac9c09d",
   "metadata": {},
   "source": [
    "dof=n-1 <br>\n",
    "If you have a set of n numbers and you know the average of those numbers, how many of these numbers do you need to know to determine the full set <br>\n",
    "For two arrays with lengths n1 and n2, the degrees of freedom (dof) is calculated as the sum of the degrees of freedom for each array: (n1-1)+(n2-1)"
   ]
  },
  {
   "cell_type": "markdown",
   "id": "187a1258-864b-488b-89e6-90a23744f33d",
   "metadata": {},
   "source": [
    "For a two-sample T-test, the degrees of freedom become n1+n2-2, while for a one-sample T-test, it simplifies to n-1, where 'n' is the\n",
    "sample size.\n"
   ]
  },
  {
   "cell_type": "markdown",
   "id": "2f0e1841-9cbf-49db-8555-9f9263864bf0",
   "metadata": {},
   "source": [
    "Degrees of freedom are then calculated by multiplying these two dimensions together: (#rows - 1) * (#columns - 1)"
   ]
  },
  {
   "cell_type": "markdown",
   "id": "c728dd04-3f13-4d95-9094-a0716ebc96e9",
   "metadata": {},
   "source": [
    "Now, why is this degree of freedom important? <br>\n",
    "1. In the context of the Chi-square test, degrees of freedom represent the number of categories the value influences the critical values used to determine statistical significance.\n",
    "    - As degrees of freedom increase, the chi-squared distribution changes shape.\n",
    "    - Higher degrees of freedom lead to higher critical values, requiring a larger test statistic to reject the null hypothesis at a given significance level (α).\n",
    "2. A higher degree of freedom allows for more variability and flexibility in the distribution of the test statistic.\n",
    "3. Degrees of freedom help define the expected distribution of the test statistic under the null hypothesis.\n",
    "    - The expected distribution is a key reference point for evaluating the observed test statistic and determining whether deviations are statistically significant."
   ]
  },
  {
   "cell_type": "markdown",
   "id": "ea88a28e-ffeb-4a64-ae08-81e9544f2d8b",
   "metadata": {},
   "source": [
    "## Chi-square Goodness of Fit Test"
   ]
  },
  {
   "cell_type": "markdown",
   "id": "7bcc14ec-f579-443a-850a-4e16a80cc644",
   "metadata": {},
   "source": [
    "Used when you have one categorical variable, and you want to see if the observed frequencies match the expected frequencies."
   ]
  },
  {
   "cell_type": "markdown",
   "id": "15fe8023-fcaa-4f79-b718-d838dfeab683",
   "metadata": {},
   "source": [
    "degrees of freedom = 1"
   ]
  },
  {
   "cell_type": "markdown",
   "id": "ee9a5502-a746-416a-aaa9-3496d5a1cad1",
   "metadata": {},
   "source": [
    "**Example** <br>\n",
    "The expected outcome for a fair coin toss is 50% heads and 50% tails, which corresponds to 25 heads and 25 tails in 50 tosses. <br>\n",
    "The observed outcomes from 50 coin tosses are 28 heads and 22 tails. <br>\n",
    "To determine whether the coin is fair, we perform a chi-square test to check if the observed results significantly deviate from the expected results. If the deviation is statistically significant, it may indicate that the coin is not fair."
   ]
  },
  {
   "cell_type": "code",
   "execution_count": 4,
   "id": "b0360b04-c614-4eb5-895e-1cf263caf669",
   "metadata": {},
   "outputs": [
    {
     "data": {
      "text/plain": [
       "(0.72, 0.3961439091520741)"
      ]
     },
     "execution_count": 4,
     "metadata": {},
     "output_type": "execute_result"
    }
   ],
   "source": [
    "cstat, pval=chisquare([28, 22], #Observed \n",
    "          [25, 25]) #Expected\n",
    "cstat, pval"
   ]
  },
  {
   "cell_type": "code",
   "execution_count": 7,
   "id": "28c804e8-8753-447c-9f72-42cffa04a6d0",
   "metadata": {},
   "outputs": [
    {
     "name": "stdout",
     "output_type": "stream",
     "text": [
      "Fail to reject H0\n",
      "Coin is fair\n"
     ]
    }
   ],
   "source": [
    "alpha=0.01\n",
    "if pval < alpha:\n",
    "    print(\"Reject H0\")\n",
    "    print(\"Coin is baised\")\n",
    "else:\n",
    "    print(\"Fail to reject H0\")\n",
    "    print(\"Coin is fair\")"
   ]
  },
  {
   "cell_type": "code",
   "execution_count": null,
   "id": "de2ed1f9-180b-45ef-a2b2-310aee4fb00e",
   "metadata": {},
   "outputs": [],
   "source": []
  }
 ],
 "metadata": {
  "kernelspec": {
   "display_name": "Python 3 (ipykernel)",
   "language": "python",
   "name": "python3"
  },
  "language_info": {
   "codemirror_mode": {
    "name": "ipython",
    "version": 3
   },
   "file_extension": ".py",
   "mimetype": "text/x-python",
   "name": "python",
   "nbconvert_exporter": "python",
   "pygments_lexer": "ipython3",
   "version": "3.12.2"
  }
 },
 "nbformat": 4,
 "nbformat_minor": 5
}
