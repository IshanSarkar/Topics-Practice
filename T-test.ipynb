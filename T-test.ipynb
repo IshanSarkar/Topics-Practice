{
 "cells": [
  {
   "cell_type": "markdown",
   "id": "2e6c3810-4f2b-4dc6-8691-4910b8c3a099",
   "metadata": {},
   "source": [
    "# One Sample T-test"
   ]
  },
  {
   "cell_type": "code",
   "execution_count": 22,
   "id": "e60f451e-cc2a-425d-90d7-3070f23de24a",
   "metadata": {},
   "outputs": [],
   "source": [
    "import numpy as np\n",
    "import pandas as pd\n",
    "from scipy.stats import ttest_1samp, ttest_ind, ttest_rel"
   ]
  },
  {
   "cell_type": "markdown",
   "id": "f16f8a81-847c-467b-b255-fa33dc9f3073",
   "metadata": {},
   "source": [
    "Determine whether the mean of a single sample differs significantly from a known or hypothesized population mean. This test is typically employed when the sample size is small (less than 30) or when the population standard deviation is unknown."
   ]
  },
  {
   "cell_type": "markdown",
   "id": "27afdaa1-9c77-4a82-90cc-60cb10f4d67a",
   "metadata": {},
   "source": [
    "H0: Both Mean is same <br>\n",
    "Ha: Both Mean are different or Exp mean is less or Exp is high"
   ]
  },
  {
   "cell_type": "markdown",
   "id": "04a35777-9226-4dee-8e57-e79a3bfa67d1",
   "metadata": {},
   "source": [
    "Suppose that the average IQ of the population is 100. A researcher claims that his pill will improve IQ"
   ]
  },
  {
   "cell_type": "code",
   "execution_count": 1,
   "id": "8fdb5394-f38f-42cb-80a2-28017c3e2f6b",
   "metadata": {},
   "outputs": [],
   "source": [
    "iq_scores = [110,105,98,102,99,104,115,95]\n",
    "mean=100"
   ]
  },
  {
   "cell_type": "code",
   "execution_count": 4,
   "id": "8c015625-f8bf-4f81-b1c3-a10046dc9a7f",
   "metadata": {},
   "outputs": [
    {
     "data": {
      "text/plain": [
       "TtestResult(statistic=1.5071573172061195, pvalue=0.1754994493585011, df=7)"
      ]
     },
     "execution_count": 4,
     "metadata": {},
     "output_type": "execute_result"
    }
   ],
   "source": [
    "ttest_1samp(iq_scores, mean)"
   ]
  },
  {
   "cell_type": "code",
   "execution_count": 5,
   "id": "17c09d6f-48b6-49f7-bc59-fd38376d3153",
   "metadata": {},
   "outputs": [
    {
     "data": {
      "text/plain": [
       "False"
      ]
     },
     "execution_count": 5,
     "metadata": {},
     "output_type": "execute_result"
    }
   ],
   "source": [
    "0.175<0.01"
   ]
  },
  {
   "cell_type": "markdown",
   "id": "7a819353-5dd1-4c46-a6b2-af28764e28a5",
   "metadata": {},
   "source": [
    "# Two Sample T-Test\n",
    "Determine whether the means of two independent samples differ significantly from each other."
   ]
  },
  {
   "cell_type": "markdown",
   "id": "f2dccd38-73fd-4599-ab2f-0b7fdb15adfb",
   "metadata": {},
   "source": [
    "Suppose we have IQ data samples across 2 schools, and we want to compare and see which school's students have better IQ"
   ]
  },
  {
   "cell_type": "code",
   "execution_count": 9,
   "id": "77a795c3-4935-4e93-80b0-0e5401734b66",
   "metadata": {},
   "outputs": [
    {
     "data": {
      "text/html": [
       "<div>\n",
       "<style scoped>\n",
       "    .dataframe tbody tr th:only-of-type {\n",
       "        vertical-align: middle;\n",
       "    }\n",
       "\n",
       "    .dataframe tbody tr th {\n",
       "        vertical-align: top;\n",
       "    }\n",
       "\n",
       "    .dataframe thead th {\n",
       "        text-align: right;\n",
       "    }\n",
       "</style>\n",
       "<table border=\"1\" class=\"dataframe\">\n",
       "  <thead>\n",
       "    <tr style=\"text-align: right;\">\n",
       "      <th></th>\n",
       "      <th>School</th>\n",
       "      <th>iq</th>\n",
       "    </tr>\n",
       "  </thead>\n",
       "  <tbody>\n",
       "    <tr>\n",
       "      <th>0</th>\n",
       "      <td>school_1</td>\n",
       "      <td>91</td>\n",
       "    </tr>\n",
       "    <tr>\n",
       "      <th>1</th>\n",
       "      <td>school_1</td>\n",
       "      <td>95</td>\n",
       "    </tr>\n",
       "    <tr>\n",
       "      <th>2</th>\n",
       "      <td>school_1</td>\n",
       "      <td>110</td>\n",
       "    </tr>\n",
       "    <tr>\n",
       "      <th>3</th>\n",
       "      <td>school_1</td>\n",
       "      <td>112</td>\n",
       "    </tr>\n",
       "    <tr>\n",
       "      <th>4</th>\n",
       "      <td>school_1</td>\n",
       "      <td>115</td>\n",
       "    </tr>\n",
       "    <tr>\n",
       "      <th>5</th>\n",
       "      <td>school_1</td>\n",
       "      <td>94</td>\n",
       "    </tr>\n",
       "    <tr>\n",
       "      <th>6</th>\n",
       "      <td>school_1</td>\n",
       "      <td>82</td>\n",
       "    </tr>\n",
       "    <tr>\n",
       "      <th>7</th>\n",
       "      <td>school_1</td>\n",
       "      <td>84</td>\n",
       "    </tr>\n",
       "    <tr>\n",
       "      <th>8</th>\n",
       "      <td>school_1</td>\n",
       "      <td>85</td>\n",
       "    </tr>\n",
       "    <tr>\n",
       "      <th>9</th>\n",
       "      <td>school_1</td>\n",
       "      <td>89</td>\n",
       "    </tr>\n",
       "    <tr>\n",
       "      <th>10</th>\n",
       "      <td>school_1</td>\n",
       "      <td>91</td>\n",
       "    </tr>\n",
       "    <tr>\n",
       "      <th>11</th>\n",
       "      <td>school_1</td>\n",
       "      <td>91</td>\n",
       "    </tr>\n",
       "    <tr>\n",
       "      <th>12</th>\n",
       "      <td>school_1</td>\n",
       "      <td>92</td>\n",
       "    </tr>\n",
       "    <tr>\n",
       "      <th>13</th>\n",
       "      <td>school_1</td>\n",
       "      <td>94</td>\n",
       "    </tr>\n",
       "    <tr>\n",
       "      <th>14</th>\n",
       "      <td>school_1</td>\n",
       "      <td>99</td>\n",
       "    </tr>\n",
       "    <tr>\n",
       "      <th>15</th>\n",
       "      <td>school_1</td>\n",
       "      <td>99</td>\n",
       "    </tr>\n",
       "    <tr>\n",
       "      <th>16</th>\n",
       "      <td>school_1</td>\n",
       "      <td>105</td>\n",
       "    </tr>\n",
       "    <tr>\n",
       "      <th>17</th>\n",
       "      <td>school_1</td>\n",
       "      <td>109</td>\n",
       "    </tr>\n",
       "    <tr>\n",
       "      <th>18</th>\n",
       "      <td>school_1</td>\n",
       "      <td>109</td>\n",
       "    </tr>\n",
       "    <tr>\n",
       "      <th>19</th>\n",
       "      <td>school_1</td>\n",
       "      <td>109</td>\n",
       "    </tr>\n",
       "    <tr>\n",
       "      <th>20</th>\n",
       "      <td>school_1</td>\n",
       "      <td>110</td>\n",
       "    </tr>\n",
       "    <tr>\n",
       "      <th>21</th>\n",
       "      <td>school_1</td>\n",
       "      <td>112</td>\n",
       "    </tr>\n",
       "    <tr>\n",
       "      <th>22</th>\n",
       "      <td>school_1</td>\n",
       "      <td>112</td>\n",
       "    </tr>\n",
       "    <tr>\n",
       "      <th>23</th>\n",
       "      <td>school_1</td>\n",
       "      <td>113</td>\n",
       "    </tr>\n",
       "    <tr>\n",
       "      <th>24</th>\n",
       "      <td>school_1</td>\n",
       "      <td>114</td>\n",
       "    </tr>\n",
       "    <tr>\n",
       "      <th>25</th>\n",
       "      <td>school_1</td>\n",
       "      <td>114</td>\n",
       "    </tr>\n",
       "    <tr>\n",
       "      <th>26</th>\n",
       "      <td>school_2</td>\n",
       "      <td>112</td>\n",
       "    </tr>\n",
       "    <tr>\n",
       "      <th>27</th>\n",
       "      <td>school_2</td>\n",
       "      <td>115</td>\n",
       "    </tr>\n",
       "    <tr>\n",
       "      <th>28</th>\n",
       "      <td>school_2</td>\n",
       "      <td>95</td>\n",
       "    </tr>\n",
       "    <tr>\n",
       "      <th>29</th>\n",
       "      <td>school_2</td>\n",
       "      <td>92</td>\n",
       "    </tr>\n",
       "    <tr>\n",
       "      <th>30</th>\n",
       "      <td>school_2</td>\n",
       "      <td>91</td>\n",
       "    </tr>\n",
       "    <tr>\n",
       "      <th>31</th>\n",
       "      <td>school_2</td>\n",
       "      <td>95</td>\n",
       "    </tr>\n",
       "    <tr>\n",
       "      <th>32</th>\n",
       "      <td>school_2</td>\n",
       "      <td>91</td>\n",
       "    </tr>\n",
       "    <tr>\n",
       "      <th>33</th>\n",
       "      <td>school_2</td>\n",
       "      <td>99</td>\n",
       "    </tr>\n",
       "    <tr>\n",
       "      <th>34</th>\n",
       "      <td>school_2</td>\n",
       "      <td>111</td>\n",
       "    </tr>\n",
       "    <tr>\n",
       "      <th>35</th>\n",
       "      <td>school_2</td>\n",
       "      <td>115</td>\n",
       "    </tr>\n",
       "    <tr>\n",
       "      <th>36</th>\n",
       "      <td>school_2</td>\n",
       "      <td>108</td>\n",
       "    </tr>\n",
       "    <tr>\n",
       "      <th>37</th>\n",
       "      <td>school_2</td>\n",
       "      <td>109</td>\n",
       "    </tr>\n",
       "    <tr>\n",
       "      <th>38</th>\n",
       "      <td>school_2</td>\n",
       "      <td>109</td>\n",
       "    </tr>\n",
       "    <tr>\n",
       "      <th>39</th>\n",
       "      <td>school_2</td>\n",
       "      <td>114</td>\n",
       "    </tr>\n",
       "    <tr>\n",
       "      <th>40</th>\n",
       "      <td>school_2</td>\n",
       "      <td>115</td>\n",
       "    </tr>\n",
       "    <tr>\n",
       "      <th>41</th>\n",
       "      <td>school_2</td>\n",
       "      <td>116</td>\n",
       "    </tr>\n",
       "    <tr>\n",
       "      <th>42</th>\n",
       "      <td>school_2</td>\n",
       "      <td>117</td>\n",
       "    </tr>\n",
       "    <tr>\n",
       "      <th>43</th>\n",
       "      <td>school_2</td>\n",
       "      <td>117</td>\n",
       "    </tr>\n",
       "    <tr>\n",
       "      <th>44</th>\n",
       "      <td>school_2</td>\n",
       "      <td>128</td>\n",
       "    </tr>\n",
       "    <tr>\n",
       "      <th>45</th>\n",
       "      <td>school_2</td>\n",
       "      <td>129</td>\n",
       "    </tr>\n",
       "    <tr>\n",
       "      <th>46</th>\n",
       "      <td>school_2</td>\n",
       "      <td>130</td>\n",
       "    </tr>\n",
       "    <tr>\n",
       "      <th>47</th>\n",
       "      <td>school_2</td>\n",
       "      <td>133</td>\n",
       "    </tr>\n",
       "    <tr>\n",
       "      <th>48</th>\n",
       "      <td>school_2</td>\n",
       "      <td>95</td>\n",
       "    </tr>\n",
       "    <tr>\n",
       "      <th>49</th>\n",
       "      <td>school_2</td>\n",
       "      <td>90</td>\n",
       "    </tr>\n",
       "  </tbody>\n",
       "</table>\n",
       "</div>"
      ],
      "text/plain": [
       "      School   iq\n",
       "0   school_1   91\n",
       "1   school_1   95\n",
       "2   school_1  110\n",
       "3   school_1  112\n",
       "4   school_1  115\n",
       "5   school_1   94\n",
       "6   school_1   82\n",
       "7   school_1   84\n",
       "8   school_1   85\n",
       "9   school_1   89\n",
       "10  school_1   91\n",
       "11  school_1   91\n",
       "12  school_1   92\n",
       "13  school_1   94\n",
       "14  school_1   99\n",
       "15  school_1   99\n",
       "16  school_1  105\n",
       "17  school_1  109\n",
       "18  school_1  109\n",
       "19  school_1  109\n",
       "20  school_1  110\n",
       "21  school_1  112\n",
       "22  school_1  112\n",
       "23  school_1  113\n",
       "24  school_1  114\n",
       "25  school_1  114\n",
       "26  school_2  112\n",
       "27  school_2  115\n",
       "28  school_2   95\n",
       "29  school_2   92\n",
       "30  school_2   91\n",
       "31  school_2   95\n",
       "32  school_2   91\n",
       "33  school_2   99\n",
       "34  school_2  111\n",
       "35  school_2  115\n",
       "36  school_2  108\n",
       "37  school_2  109\n",
       "38  school_2  109\n",
       "39  school_2  114\n",
       "40  school_2  115\n",
       "41  school_2  116\n",
       "42  school_2  117\n",
       "43  school_2  117\n",
       "44  school_2  128\n",
       "45  school_2  129\n",
       "46  school_2  130\n",
       "47  school_2  133\n",
       "48  school_2   95\n",
       "49  school_2   90"
      ]
     },
     "execution_count": 9,
     "metadata": {},
     "output_type": "execute_result"
    }
   ],
   "source": [
    "df_iq=pd.read_csv('iq_two_schools.csv')\n",
    "df_iq"
   ]
  },
  {
   "cell_type": "code",
   "execution_count": 10,
   "id": "7958bd59-c532-4900-a387-f6df6c47d361",
   "metadata": {},
   "outputs": [],
   "source": [
    "school_1=df_iq[df_iq.School=='school_1'].iq\n",
    "school_2=df_iq[df_iq.School=='school_2'].iq"
   ]
  },
  {
   "cell_type": "code",
   "execution_count": 11,
   "id": "77656c0f-7e6d-4298-9a6f-4fdca604d500",
   "metadata": {},
   "outputs": [
    {
     "data": {
      "text/plain": [
       "(101.15384615384616, 109.41666666666667)"
      ]
     },
     "execution_count": 11,
     "metadata": {},
     "output_type": "execute_result"
    }
   ],
   "source": [
    "school_1.mean(), school_2.mean()"
   ]
  },
  {
   "cell_type": "markdown",
   "id": "62eb8fa7-1f2f-44ab-b0cc-fd90e71a3974",
   "metadata": {},
   "source": [
    "There are 3 ways in which we can set them: <br>\n",
    "1. Option 1 <br>\n",
    "H0: Both school's students have the same IQ <br>\n",
    "Ha: Both school's students DO NOT have the same IQ <br>\n",
    "2. Option 2<br>\n",
    "H0: Both school's students have the same IQ <br>\n",
    "Ha: School A has higher IQ than School B <br>\n",
    "3. Option 3<br>\n",
    "H0: Both school's students have the same IQ <br>\n",
    "Ha: School B has a higher IQ than school A <br>\n",
    "Note that here, options 1 and 3 are still viable, but option 2 cannot be true as we saw"
   ]
  },
  {
   "cell_type": "code",
   "execution_count": 15,
   "id": "8d08bc89-6734-4128-b521-7237a7a0a68a",
   "metadata": {},
   "outputs": [
    {
     "data": {
      "text/plain": [
       "(0.02004552710936217, True)"
      ]
     },
     "execution_count": 15,
     "metadata": {},
     "output_type": "execute_result"
    }
   ],
   "source": [
    "#Option 1\n",
    "tstat, pval=ttest_ind(school_1, school_2, alternative='two-sided')\n",
    "pval, pval<0.05"
   ]
  },
  {
   "cell_type": "code",
   "execution_count": 17,
   "id": "7801cadf-a95f-4814-9099-52fe4949da48",
   "metadata": {},
   "outputs": [
    {
     "data": {
      "text/plain": [
       "(0.9899772364453189, False)"
      ]
     },
     "execution_count": 17,
     "metadata": {},
     "output_type": "execute_result"
    }
   ],
   "source": [
    "#Option 2\n",
    "tstat, pval=ttest_ind(school_1, school_2, alternative='greater')\n",
    "pval, pval<0.05"
   ]
  },
  {
   "cell_type": "code",
   "execution_count": 18,
   "id": "2fff1740-8a00-47bf-8da0-fbf97fad6c41",
   "metadata": {},
   "outputs": [
    {
     "data": {
      "text/plain": [
       "(0.010022763554681085, True)"
      ]
     },
     "execution_count": 18,
     "metadata": {},
     "output_type": "execute_result"
    }
   ],
   "source": [
    "#Option 3\n",
    "tstat, pval=ttest_ind(school_1, school_2, alternative='less')\n",
    "pval, pval<0.05"
   ]
  },
  {
   "cell_type": "code",
   "execution_count": 19,
   "id": "7bd81364-fdfc-47bc-ad4e-7a1c860dde81",
   "metadata": {},
   "outputs": [
    {
     "data": {
      "text/html": [
       "<div>\n",
       "<style scoped>\n",
       "    .dataframe tbody tr th:only-of-type {\n",
       "        vertical-align: middle;\n",
       "    }\n",
       "\n",
       "    .dataframe tbody tr th {\n",
       "        vertical-align: top;\n",
       "    }\n",
       "\n",
       "    .dataframe thead th {\n",
       "        text-align: right;\n",
       "    }\n",
       "</style>\n",
       "<table border=\"1\" class=\"dataframe\">\n",
       "  <thead>\n",
       "    <tr style=\"text-align: right;\">\n",
       "      <th></th>\n",
       "      <th>runs</th>\n",
       "      <th>NotOut</th>\n",
       "      <th>mins</th>\n",
       "      <th>bf</th>\n",
       "      <th>fours</th>\n",
       "      <th>sixes</th>\n",
       "      <th>sr</th>\n",
       "      <th>Inns</th>\n",
       "      <th>Opp</th>\n",
       "      <th>Ground</th>\n",
       "      <th>Date</th>\n",
       "      <th>Winner</th>\n",
       "      <th>Won</th>\n",
       "      <th>century</th>\n",
       "    </tr>\n",
       "  </thead>\n",
       "  <tbody>\n",
       "    <tr>\n",
       "      <th>0</th>\n",
       "      <td>13</td>\n",
       "      <td>0</td>\n",
       "      <td>30</td>\n",
       "      <td>15</td>\n",
       "      <td>3</td>\n",
       "      <td>0</td>\n",
       "      <td>86.66</td>\n",
       "      <td>1</td>\n",
       "      <td>New Zealand</td>\n",
       "      <td>Napier</td>\n",
       "      <td>1995-02-16</td>\n",
       "      <td>New Zealand</td>\n",
       "      <td>False</td>\n",
       "      <td>False</td>\n",
       "    </tr>\n",
       "    <tr>\n",
       "      <th>1</th>\n",
       "      <td>37</td>\n",
       "      <td>0</td>\n",
       "      <td>75</td>\n",
       "      <td>51</td>\n",
       "      <td>3</td>\n",
       "      <td>1</td>\n",
       "      <td>72.54</td>\n",
       "      <td>2</td>\n",
       "      <td>South Africa</td>\n",
       "      <td>Hamilton</td>\n",
       "      <td>1995-02-18</td>\n",
       "      <td>South Africa</td>\n",
       "      <td>False</td>\n",
       "      <td>False</td>\n",
       "    </tr>\n",
       "    <tr>\n",
       "      <th>2</th>\n",
       "      <td>47</td>\n",
       "      <td>0</td>\n",
       "      <td>65</td>\n",
       "      <td>40</td>\n",
       "      <td>7</td>\n",
       "      <td>0</td>\n",
       "      <td>117.50</td>\n",
       "      <td>2</td>\n",
       "      <td>Australia</td>\n",
       "      <td>Dunedin</td>\n",
       "      <td>1995-02-22</td>\n",
       "      <td>India</td>\n",
       "      <td>True</td>\n",
       "      <td>False</td>\n",
       "    </tr>\n",
       "    <tr>\n",
       "      <th>3</th>\n",
       "      <td>48</td>\n",
       "      <td>0</td>\n",
       "      <td>37</td>\n",
       "      <td>30</td>\n",
       "      <td>9</td>\n",
       "      <td>1</td>\n",
       "      <td>160.00</td>\n",
       "      <td>2</td>\n",
       "      <td>Bangladesh</td>\n",
       "      <td>Sharjah</td>\n",
       "      <td>1995-04-05</td>\n",
       "      <td>India</td>\n",
       "      <td>True</td>\n",
       "      <td>False</td>\n",
       "    </tr>\n",
       "    <tr>\n",
       "      <th>4</th>\n",
       "      <td>4</td>\n",
       "      <td>0</td>\n",
       "      <td>13</td>\n",
       "      <td>9</td>\n",
       "      <td>1</td>\n",
       "      <td>0</td>\n",
       "      <td>44.44</td>\n",
       "      <td>2</td>\n",
       "      <td>Pakistan</td>\n",
       "      <td>Sharjah</td>\n",
       "      <td>1995-04-07</td>\n",
       "      <td>Pakistan</td>\n",
       "      <td>False</td>\n",
       "      <td>False</td>\n",
       "    </tr>\n",
       "    <tr>\n",
       "      <th>...</th>\n",
       "      <td>...</td>\n",
       "      <td>...</td>\n",
       "      <td>...</td>\n",
       "      <td>...</td>\n",
       "      <td>...</td>\n",
       "      <td>...</td>\n",
       "      <td>...</td>\n",
       "      <td>...</td>\n",
       "      <td>...</td>\n",
       "      <td>...</td>\n",
       "      <td>...</td>\n",
       "      <td>...</td>\n",
       "      <td>...</td>\n",
       "      <td>...</td>\n",
       "    </tr>\n",
       "    <tr>\n",
       "      <th>355</th>\n",
       "      <td>14</td>\n",
       "      <td>0</td>\n",
       "      <td>34</td>\n",
       "      <td>15</td>\n",
       "      <td>2</td>\n",
       "      <td>0</td>\n",
       "      <td>93.33</td>\n",
       "      <td>2</td>\n",
       "      <td>Australia</td>\n",
       "      <td>Sydney</td>\n",
       "      <td>2012-02-26</td>\n",
       "      <td>Australia</td>\n",
       "      <td>False</td>\n",
       "      <td>False</td>\n",
       "    </tr>\n",
       "    <tr>\n",
       "      <th>356</th>\n",
       "      <td>39</td>\n",
       "      <td>0</td>\n",
       "      <td>45</td>\n",
       "      <td>30</td>\n",
       "      <td>5</td>\n",
       "      <td>0</td>\n",
       "      <td>130.00</td>\n",
       "      <td>2</td>\n",
       "      <td>Sri Lanka</td>\n",
       "      <td>Hobart</td>\n",
       "      <td>2012-02-28</td>\n",
       "      <td>India</td>\n",
       "      <td>True</td>\n",
       "      <td>False</td>\n",
       "    </tr>\n",
       "    <tr>\n",
       "      <th>357</th>\n",
       "      <td>6</td>\n",
       "      <td>0</td>\n",
       "      <td>25</td>\n",
       "      <td>19</td>\n",
       "      <td>1</td>\n",
       "      <td>0</td>\n",
       "      <td>31.57</td>\n",
       "      <td>1</td>\n",
       "      <td>Sri Lanka</td>\n",
       "      <td>Dhaka</td>\n",
       "      <td>2012-03-13</td>\n",
       "      <td>India</td>\n",
       "      <td>True</td>\n",
       "      <td>False</td>\n",
       "    </tr>\n",
       "    <tr>\n",
       "      <th>358</th>\n",
       "      <td>114</td>\n",
       "      <td>0</td>\n",
       "      <td>205</td>\n",
       "      <td>147</td>\n",
       "      <td>12</td>\n",
       "      <td>1</td>\n",
       "      <td>77.55</td>\n",
       "      <td>1</td>\n",
       "      <td>Bangladesh</td>\n",
       "      <td>Dhaka</td>\n",
       "      <td>2012-03-16</td>\n",
       "      <td>Bangladesh</td>\n",
       "      <td>False</td>\n",
       "      <td>True</td>\n",
       "    </tr>\n",
       "    <tr>\n",
       "      <th>359</th>\n",
       "      <td>52</td>\n",
       "      <td>0</td>\n",
       "      <td>93</td>\n",
       "      <td>48</td>\n",
       "      <td>5</td>\n",
       "      <td>1</td>\n",
       "      <td>108.33</td>\n",
       "      <td>2</td>\n",
       "      <td>Pakistan</td>\n",
       "      <td>Dhaka</td>\n",
       "      <td>2012-03-18</td>\n",
       "      <td>India</td>\n",
       "      <td>True</td>\n",
       "      <td>False</td>\n",
       "    </tr>\n",
       "  </tbody>\n",
       "</table>\n",
       "<p>360 rows × 14 columns</p>\n",
       "</div>"
      ],
      "text/plain": [
       "     runs  NotOut mins   bf  fours  sixes      sr  Inns           Opp  \\\n",
       "0      13       0   30   15      3      0   86.66     1   New Zealand   \n",
       "1      37       0   75   51      3      1   72.54     2  South Africa   \n",
       "2      47       0   65   40      7      0  117.50     2     Australia   \n",
       "3      48       0   37   30      9      1  160.00     2    Bangladesh   \n",
       "4       4       0   13    9      1      0   44.44     2      Pakistan   \n",
       "..    ...     ...  ...  ...    ...    ...     ...   ...           ...   \n",
       "355    14       0   34   15      2      0   93.33     2     Australia   \n",
       "356    39       0   45   30      5      0  130.00     2     Sri Lanka   \n",
       "357     6       0   25   19      1      0   31.57     1     Sri Lanka   \n",
       "358   114       0  205  147     12      1   77.55     1    Bangladesh   \n",
       "359    52       0   93   48      5      1  108.33     2      Pakistan   \n",
       "\n",
       "       Ground        Date        Winner    Won  century  \n",
       "0      Napier  1995-02-16   New Zealand  False    False  \n",
       "1    Hamilton  1995-02-18  South Africa  False    False  \n",
       "2     Dunedin  1995-02-22         India   True    False  \n",
       "3     Sharjah  1995-04-05         India   True    False  \n",
       "4     Sharjah  1995-04-07      Pakistan  False    False  \n",
       "..        ...         ...           ...    ...      ...  \n",
       "355    Sydney  2012-02-26     Australia  False    False  \n",
       "356    Hobart  2012-02-28         India   True    False  \n",
       "357     Dhaka  2012-03-13         India   True    False  \n",
       "358     Dhaka  2012-03-16    Bangladesh  False     True  \n",
       "359     Dhaka  2012-03-18         India   True    False  \n",
       "\n",
       "[360 rows x 14 columns]"
      ]
     },
     "execution_count": 19,
     "metadata": {},
     "output_type": "execute_result"
    }
   ],
   "source": [
    "df = pd.read_csv('Sachin_ODI.csv')\n",
    "df"
   ]
  },
  {
   "cell_type": "code",
   "execution_count": 20,
   "id": "804ec933-4d43-4620-ae54-dc5b9c832229",
   "metadata": {},
   "outputs": [],
   "source": [
    "df_first_innings = df[df['Inns'] == 1]\n",
    "df_second_innings = df[df['Inns'] == 2]"
   ]
  },
  {
   "cell_type": "code",
   "execution_count": 21,
   "id": "527e8fa8-de02-4bc2-9c70-b51ef5a9b7ec",
   "metadata": {},
   "outputs": [
    {
     "data": {
      "text/plain": [
       "(0.07241862097379981, False)"
      ]
     },
     "execution_count": 21,
     "metadata": {},
     "output_type": "execute_result"
    }
   ],
   "source": [
    "t_stat, pvalue = ttest_ind(df_first_innings['runs'], df_second_innings['runs'], alternative = \"greater\")\n",
    "pvalue, pvalue<0.05"
   ]
  },
  {
   "cell_type": "markdown",
   "id": "13717986-606b-48f6-8c51-a44634e1e6da",
   "metadata": {},
   "source": [
    "# Paired T-Test\n",
    "Determine whether the means of two related groups differ significantly from each other"
   ]
  },
  {
   "cell_type": "markdown",
   "id": "c9d78298-5f6a-4a00-a933-123bf6f0a1b8",
   "metadata": {},
   "source": [
    "Let's take an example, I'm studying the impact of a treatment, intervention, or change within the same subjects over time or insome paired way. <br>\n",
    "In your case, you're comparing \"Before\" and \"After\" measurements on an individual basis. For each person, you have two measurements:<br>\n",
    "Person 1: Before and After<br>\n",
    "Person 2: Before and After<br>\n",
    "This setup allows you to directly analyze the difference between the paired measurements for each person, such as the change from\"Before\" to \"After\" for Person 1, and the change for Person 2, and so on."
   ]
  },
  {
   "cell_type": "code",
   "execution_count": 23,
   "id": "59229e8d-0135-46d3-ab03-15e4601ccefe",
   "metadata": {},
   "outputs": [],
   "source": [
    "df_ps = pd.read_csv('problem_solving.csv')"
   ]
  },
  {
   "cell_type": "code",
   "execution_count": 24,
   "id": "50669014-e6bb-4393-9721-adb07c91bedf",
   "metadata": {},
   "outputs": [
    {
     "data": {
      "text/html": [
       "<div>\n",
       "<style scoped>\n",
       "    .dataframe tbody tr th:only-of-type {\n",
       "        vertical-align: middle;\n",
       "    }\n",
       "\n",
       "    .dataframe tbody tr th {\n",
       "        vertical-align: top;\n",
       "    }\n",
       "\n",
       "    .dataframe thead th {\n",
       "        text-align: right;\n",
       "    }\n",
       "</style>\n",
       "<table border=\"1\" class=\"dataframe\">\n",
       "  <thead>\n",
       "    <tr style=\"text-align: right;\">\n",
       "      <th></th>\n",
       "      <th>id</th>\n",
       "      <th>test_1</th>\n",
       "      <th>test_2</th>\n",
       "    </tr>\n",
       "  </thead>\n",
       "  <tbody>\n",
       "    <tr>\n",
       "      <th>0</th>\n",
       "      <td>0</td>\n",
       "      <td>40</td>\n",
       "      <td>38</td>\n",
       "    </tr>\n",
       "    <tr>\n",
       "      <th>1</th>\n",
       "      <td>1</td>\n",
       "      <td>49</td>\n",
       "      <td>44</td>\n",
       "    </tr>\n",
       "    <tr>\n",
       "      <th>2</th>\n",
       "      <td>2</td>\n",
       "      <td>65</td>\n",
       "      <td>69</td>\n",
       "    </tr>\n",
       "    <tr>\n",
       "      <th>3</th>\n",
       "      <td>3</td>\n",
       "      <td>59</td>\n",
       "      <td>63</td>\n",
       "    </tr>\n",
       "    <tr>\n",
       "      <th>4</th>\n",
       "      <td>4</td>\n",
       "      <td>44</td>\n",
       "      <td>43</td>\n",
       "    </tr>\n",
       "    <tr>\n",
       "      <th>...</th>\n",
       "      <td>...</td>\n",
       "      <td>...</td>\n",
       "      <td>...</td>\n",
       "    </tr>\n",
       "    <tr>\n",
       "      <th>132</th>\n",
       "      <td>132</td>\n",
       "      <td>45</td>\n",
       "      <td>44</td>\n",
       "    </tr>\n",
       "    <tr>\n",
       "      <th>133</th>\n",
       "      <td>133</td>\n",
       "      <td>46</td>\n",
       "      <td>42</td>\n",
       "    </tr>\n",
       "    <tr>\n",
       "      <th>134</th>\n",
       "      <td>134</td>\n",
       "      <td>40</td>\n",
       "      <td>35</td>\n",
       "    </tr>\n",
       "    <tr>\n",
       "      <th>135</th>\n",
       "      <td>135</td>\n",
       "      <td>60</td>\n",
       "      <td>66</td>\n",
       "    </tr>\n",
       "    <tr>\n",
       "      <th>136</th>\n",
       "      <td>136</td>\n",
       "      <td>79</td>\n",
       "      <td>84</td>\n",
       "    </tr>\n",
       "  </tbody>\n",
       "</table>\n",
       "<p>137 rows × 3 columns</p>\n",
       "</div>"
      ],
      "text/plain": [
       "      id  test_1  test_2\n",
       "0      0      40      38\n",
       "1      1      49      44\n",
       "2      2      65      69\n",
       "3      3      59      63\n",
       "4      4      44      43\n",
       "..   ...     ...     ...\n",
       "132  132      45      44\n",
       "133  133      46      42\n",
       "134  134      40      35\n",
       "135  135      60      66\n",
       "136  136      79      84\n",
       "\n",
       "[137 rows x 3 columns]"
      ]
     },
     "execution_count": 24,
     "metadata": {},
     "output_type": "execute_result"
    }
   ],
   "source": [
    "df_ps"
   ]
  },
  {
   "cell_type": "markdown",
   "id": "18b9aed3-8af5-496e-8111-b4ba2eb0f451",
   "metadata": {},
   "source": [
    "Null and Alternate hypothesis <br>\n",
    "- Null Hypothesis (H0): Problem-solving has no effect on the test scores.<br>\n",
    "In other words, the mean test scores before (test_1) and after (test_2) problem-solving are equal.\n",
    "- Alternative Hypothesis (Ha)): Problem-solving had an effect on the test scores. <br>\n",
    "This implies that the mean test scores before and after problem-solving are not equal."
   ]
  },
  {
   "cell_type": "code",
   "execution_count": 26,
   "id": "9fed75d5-565b-4511-80ee-ea8dd0aae7a9",
   "metadata": {},
   "outputs": [
    {
     "data": {
      "text/plain": [
       "(1.795840353792313e-07, True)"
      ]
     },
     "execution_count": 26,
     "metadata": {},
     "output_type": "execute_result"
    }
   ],
   "source": [
    "statistic, pvalue = ttest_rel(df_ps[\"test_1\"], df_ps[\"test_2\"]) # Default = Two-Sided\n",
    "pvalue, pvalue<0.05"
   ]
  },
  {
   "cell_type": "markdown",
   "id": "84ef6e01-ae45-48f0-92c4-cc770fb771c9",
   "metadata": {},
   "source": [
    "There is an effect but not sure it si +ve or -ve"
   ]
  },
  {
   "cell_type": "code",
   "execution_count": 27,
   "id": "72f4e6b0-bc61-4293-8295-598dddfbd6cf",
   "metadata": {},
   "outputs": [
    {
     "data": {
      "text/plain": [
       "(8.979201768961566e-08, True)"
      ]
     },
     "execution_count": 27,
     "metadata": {},
     "output_type": "execute_result"
    }
   ],
   "source": [
    "statistic, pvalue = ttest_rel(df_ps[\"test_1\"], df_ps[\"test_2\"], alternative='less')\n",
    "pvalue, pvalue<0.05"
   ]
  },
  {
   "cell_type": "markdown",
   "id": "9f7f4013-7b25-4c50-a708-de3da47dfc6c",
   "metadata": {},
   "source": [
    "Problem solving has +ve effect"
   ]
  },
  {
   "cell_type": "code",
   "execution_count": 28,
   "id": "89d7b9af-3851-495b-85f9-7ff79b08e345",
   "metadata": {},
   "outputs": [
    {
     "data": {
      "text/plain": [
       "(0.9999999102079823, False)"
      ]
     },
     "execution_count": 28,
     "metadata": {},
     "output_type": "execute_result"
    }
   ],
   "source": [
    "statistic, pvalue = ttest_rel(df_ps[\"test_1\"], df_ps[\"test_2\"], alternative='greater')\n",
    "pvalue, pvalue<0.05"
   ]
  },
  {
   "cell_type": "code",
   "execution_count": null,
   "id": "4484cf44-db6a-471f-9eba-7e9c630073f3",
   "metadata": {},
   "outputs": [],
   "source": []
  }
 ],
 "metadata": {
  "kernelspec": {
   "display_name": "Python 3 (ipykernel)",
   "language": "python",
   "name": "python3"
  },
  "language_info": {
   "codemirror_mode": {
    "name": "ipython",
    "version": 3
   },
   "file_extension": ".py",
   "mimetype": "text/x-python",
   "name": "python",
   "nbconvert_exporter": "python",
   "pygments_lexer": "ipython3",
   "version": "3.12.0"
  }
 },
 "nbformat": 4,
 "nbformat_minor": 5
}
