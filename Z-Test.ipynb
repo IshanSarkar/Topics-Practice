{
 "cells": [
  {
   "cell_type": "markdown",
   "id": "2e6c3810-4f2b-4dc6-8691-4910b8c3a099",
   "metadata": {},
   "source": [
    "# One Sample Z-Test"
   ]
  },
  {
   "cell_type": "code",
   "execution_count": 29,
   "id": "e60f451e-cc2a-425d-90d7-3070f23de24a",
   "metadata": {},
   "outputs": [],
   "source": [
    "import numpy as np\n",
    "from scipy.stats import norm"
   ]
  },
  {
   "cell_type": "markdown",
   "id": "c909c03d-ab23-4f9f-874f-3c49b1c6e8ac",
   "metadata": {},
   "source": [
    "You decide to do this experiment with 2 competing marketing firms<br>\n",
    "Firm A: <br>\n",
    "- Worked on 50 stores\n",
    "- Sold an average 1850 bottles of shampoo <br>\n",
    "<br>\n",
    "Firm B: <br>\n",
    "- Worked on 5 stores\n",
    "- Sold an average 1900 bottles of shampoo <br>\n",
    "<br>\n",
    "Our historical data parameters for weekly sales of the shampoo bottle were reported as: <br>\n",
    "Mean: 1800<br>\n",
    "Standard deviation: 100<br>"
   ]
  },
  {
   "cell_type": "code",
   "execution_count": 1,
   "id": "ed03f378-b711-4315-a8a9-c872b45a5e05",
   "metadata": {},
   "outputs": [],
   "source": [
    "mean=1800\n",
    "std=100"
   ]
  },
  {
   "cell_type": "code",
   "execution_count": 11,
   "id": "1eddc42e-4715-4b44-a3d6-a2d2626f0aaa",
   "metadata": {},
   "outputs": [
    {
     "name": "stdout",
     "output_type": "stream",
     "text": [
      "0.00020347600872250293 Reject H0, means 1850 is true\n"
     ]
    }
   ],
   "source": [
    "#For Firm A:\n",
    "n=50\n",
    "x=1850\n",
    "alpha=0.01 #99% confidence level\n",
    "se=std/np.sqrt(n)\n",
    "z=(x-mean)/se\n",
    "pval=1-norm.cdf(z)\n",
    "if pval<alpha:\n",
    "    print(pval, f'Reject H0, means {x} is true')\n",
    "else:\n",
    "    print(pval, f'Fail to reject H0, means not sure whether {x} is true')"
   ]
  },
  {
   "cell_type": "code",
   "execution_count": 12,
   "id": "045c1446-db95-4c1c-ae42-057d982653e4",
   "metadata": {},
   "outputs": [
    {
     "name": "stdout",
     "output_type": "stream",
     "text": [
      "0.0126736593387341 Fail to reject H0, means not sure whether 1900 is true\n"
     ]
    }
   ],
   "source": [
    "#For Firm B:\n",
    "n=5\n",
    "x=1900\n",
    "alpha=0.01 #99% confidence level\n",
    "se=std/np.sqrt(n)\n",
    "z=(x-mean)/se\n",
    "pval=1-norm.cdf(z)\n",
    "if pval<alpha:\n",
    "    print(pval, f'Reject H0, means {x} is true')\n",
    "else:\n",
    "    print(pval, f'Fail to reject H0, means not sure whether {x} is true')"
   ]
  },
  {
   "cell_type": "markdown",
   "id": "500da895-f4f2-404a-a5f3-46347e106b38",
   "metadata": {},
   "source": [
    "We can go ahead with Firm A as per the test result but maintaining 50 stores with same average is difficult whereas with only 5 stores it will be easy so we need to find for Firm B, what average value will make sense.  "
   ]
  },
  {
   "cell_type": "markdown",
   "id": "99d0b9d4-6f69-428a-9dfa-a20181ffa199",
   "metadata": {},
   "source": [
    "# Critical Value"
   ]
  },
  {
   "cell_type": "code",
   "execution_count": 22,
   "id": "e4bd8bf7-9aef-48c6-9606-586e3714cc82",
   "metadata": {},
   "outputs": [
    {
     "name": "stdout",
     "output_type": "stream",
     "text": [
      "If we maitain sales of 1904.04 for Firm B, then it is profitable\n"
     ]
    }
   ],
   "source": [
    "#For Firm B\n",
    "n=5\n",
    "se=std/np.sqrt(n)\n",
    "z=norm.ppf(0.99)\n",
    "x=z*se+mean\n",
    "print(f'If we maitain sales of {np.round(x, 2)} for Firm B, then it is profitable')"
   ]
  },
  {
   "cell_type": "code",
   "execution_count": 17,
   "id": "84a1b55e-bf37-44a8-aeaf-62ad460baf60",
   "metadata": {},
   "outputs": [
    {
     "name": "stdout",
     "output_type": "stream",
     "text": [
      "If we maitain sales of 1832.9 for Firm A, then it is profitable\n"
     ]
    }
   ],
   "source": [
    "#For Firm A\n",
    "n=50\n",
    "se=std/np.sqrt(n)\n",
    "z=norm.ppf(0.99)\n",
    "x=z*se+mean\n",
    "print(f'If we maitain sales of {np.round(x, 2)} for Firm A, then it is profitable')"
   ]
  },
  {
   "cell_type": "markdown",
   "id": "7fde191b-13f7-4327-a051-9fa4c81a3b8a",
   "metadata": {},
   "source": [
    "# Confidence Interval"
   ]
  },
  {
   "cell_type": "markdown",
   "id": "6dcca0ac-ca1a-4d53-941e-21f9b30f2c33",
   "metadata": {},
   "source": [
    "Suppose there is a chance of making 1% Type 1 error for both firms then what will be the range so that this error can be avoided"
   ]
  },
  {
   "cell_type": "code",
   "execution_count": 24,
   "id": "b7957c0b-0062-4c1c-b3eb-f5239842adbf",
   "metadata": {},
   "outputs": [],
   "source": [
    "confidence=0.99"
   ]
  },
  {
   "cell_type": "code",
   "execution_count": 27,
   "id": "98cb48e0-4b8b-47d2-b286-862baa96ea57",
   "metadata": {},
   "outputs": [
    {
     "name": "stdout",
     "output_type": "stream",
     "text": [
      "For Firm A, the range should lie between [1813.57 1886.43]\n"
     ]
    }
   ],
   "source": [
    "#For Firm A:\n",
    "mean=1850\n",
    "se=std/np.sqrt(50)\n",
    "ci=norm.interval(confidence, mean, se)\n",
    "print(f'For Firm A, the range should lie between {np.round(ci, 2)}')"
   ]
  },
  {
   "cell_type": "code",
   "execution_count": 28,
   "id": "6ed91177-1181-43cf-bdd3-ba928c9e8580",
   "metadata": {},
   "outputs": [
    {
     "name": "stdout",
     "output_type": "stream",
     "text": [
      "For Firm B, the range should lie between [1784.81 2015.19]\n"
     ]
    }
   ],
   "source": [
    "#For Firm b:\n",
    "mean=1900\n",
    "se=std/np.sqrt(5)\n",
    "ci=norm.interval(confidence, mean, se)\n",
    "print(f'For Firm B, the range should lie between {np.round(ci, 2)}')"
   ]
  },
  {
   "cell_type": "code",
   "execution_count": null,
   "id": "133a5aae-34fa-4441-be9a-5daff3ed6647",
   "metadata": {},
   "outputs": [],
   "source": []
  }
 ],
 "metadata": {
  "kernelspec": {
   "display_name": "Python 3 (ipykernel)",
   "language": "python",
   "name": "python3"
  },
  "language_info": {
   "codemirror_mode": {
    "name": "ipython",
    "version": 3
   },
   "file_extension": ".py",
   "mimetype": "text/x-python",
   "name": "python",
   "nbconvert_exporter": "python",
   "pygments_lexer": "ipython3",
   "version": "3.12.0"
  }
 },
 "nbformat": 4,
 "nbformat_minor": 5
}
