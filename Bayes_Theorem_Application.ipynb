{
 "cells": [
  {
   "cell_type": "markdown",
   "id": "8f617210-a270-4e83-a773-d205630bc0b8",
   "metadata": {},
   "source": [
    "An apparel division at Amazon has T-shirts in two size: Medium and Large. 60% sales are Medium and 40% are Large.\n",
    "<br>\n",
    "The return rate for Medium is 5%, and the return rate for Large is 10%.\n",
    "<br>\n",
    "A customer wants to return a T-shirt. The delivery partner does not know whether it is Medium or Large.\n",
    "<br>\n",
    "Can you help him find the probability that this was a Large T-shirt?"
   ]
  },
  {
   "cell_type": "code",
   "execution_count": 8,
   "id": "456a7d50-3834-45e8-962d-56ba5ef20eb2",
   "metadata": {},
   "outputs": [
    {
     "data": {
      "text/plain": [
       "(0.07, 0.5714285714285715)"
      ]
     },
     "execution_count": 8,
     "metadata": {},
     "output_type": "execute_result"
    }
   ],
   "source": [
    "#P(M)=.6, P(M')=.4, P(R|M)=.05, P(R|M')=.01, P(M'|R)=P(M' int R)/P(R) => P(M' int R)=P(R int M')=P(R|M')/P(M')\n",
    "a=.6 #P(M)\n",
    "b=.4 #P(M')\n",
    "c_a=.05 #P(R|M)\n",
    "c_b=0.1 #P(R|M')\n",
    "c=(a*c_a)+(b*c_b) #P(R)\n",
    "\n",
    "#P(M'|R)=P(M' int R)/P(R), We know P(M' int R)=P(R int M')=P(R|M')*P(M')\n",
    "#Therefore, P(M'|R)=(P(R|M')*P(M'))/P(R)\n",
    "b_c=(c_b*b)/c\n",
    "c, b_c"
   ]
  },
  {
   "cell_type": "markdown",
   "id": "542cee4a-70e3-4f67-8002-81c832d43053",
   "metadata": {},
   "source": [
    "Youtube has two types of users, Premium and Non-Premium. 30% are Premium users.\n",
    "<br>\n",
    "The probability of a Premium user commenting on a video is 0.5, while the probability of a Non-Premium user commenting on a video is 0.1.\n",
    "<br>\n",
    "What is the probability that a randomly chosen user who commented on a video is a Non-Premium user?"
   ]
  },
  {
   "cell_type": "code",
   "execution_count": 10,
   "id": "02f692e1-b0fb-4cff-ba16-037b95c01a6d",
   "metadata": {},
   "outputs": [
    {
     "data": {
      "text/plain": [
       "(0.21999999999999997, 0.3181818181818182)"
      ]
     },
     "execution_count": 10,
     "metadata": {},
     "output_type": "execute_result"
    }
   ],
   "source": [
    "a=.3 #P(premium)\n",
    "b=.7 #P(not premiuim)\n",
    "c_a=.5 #P(comment|premium)\n",
    "c_b=0.1 #P(comment|not premium)\n",
    "\n",
    "#P(not premium|comment)??\n",
    "\n",
    "c=(a*c_a)+(b*c_b) #P(comment)\n",
    "\n",
    "b_c=(c_b*b)/c #P(not premium|comment)=(P(comment|not premium)*#P(not premiuim))/P(comment)\n",
    "c, b_c"
   ]
  },
  {
   "cell_type": "markdown",
   "id": "ac084b8c-b8c0-46e0-8325-a482411a17a5",
   "metadata": {},
   "source": [
    "It is known that 20% of Netflix users are premium subscribers.\n",
    "<br>\n",
    "Also, 80% of premium subscribers watch at least one thriller movie per week, and 50% of basic subscribers watch at least one thriller movie per week.\n",
    "<br>\n",
    "What is the probability that a Netflix subscriber who watches at least one thriller movie per week is a premium subscriber?"
   ]
  },
  {
   "cell_type": "code",
   "execution_count": 12,
   "id": "6bfd1c0c-9d9c-4aa2-89aa-70ef532ee315",
   "metadata": {},
   "outputs": [
    {
     "data": {
      "text/plain": [
       "(0.56, 0.28571428571428575)"
      ]
     },
     "execution_count": 12,
     "metadata": {},
     "output_type": "execute_result"
    }
   ],
   "source": [
    "a=.2 #P(premium)\n",
    "b=.8 #P(not premiuim)\n",
    "c_a=.8 #P(thriller|premium)\n",
    "c_b=0.5 #P(thriller|not premium)\n",
    "#P(premium|thriller)???\n",
    "\n",
    "c=(a*c_a)+(b*c_b) #P(thriller)\n",
    "\n",
    "a_c=(c_a*a)/c #P(premium|thriller)=(P(thriller|premium)*#P(premiuim))/P(thriller)\n",
    "c, a_c"
   ]
  },
  {
   "cell_type": "markdown",
   "id": "27f73940-aaa9-4e3b-a461-953c3192c872",
   "metadata": {},
   "source": [
    "M and N are two independent events such that P(M U N) = 0.4 and P(M) = 0.3. What can be the value of P(N)?"
   ]
  },
  {
   "cell_type": "code",
   "execution_count": 13,
   "id": "1af96176-d079-4d3e-ac59-59c9037d3d48",
   "metadata": {},
   "outputs": [
    {
     "data": {
      "text/plain": [
       "0.1428571428571429"
      ]
     },
     "execution_count": 13,
     "metadata": {},
     "output_type": "execute_result"
    }
   ],
   "source": [
    "# As M and N are independent so, 𝑃(M ∩ N) = 𝑃(M) ∗ 𝑃(N)\n",
    "#P(M U N) = p(M)+P(N)-𝑃(M ∩ N)\n",
    "#P(M U N) = P(M)+P(N)-𝑃(M) ∗ 𝑃(N)\n",
    "#P(N)(1-P(M)) = P(M U N) - P(M)\n",
    "#P(N) = (P(M U N) - P(M))/(1-P(M))\n",
    "(0.4-0.3)/(1-0.3)"
   ]
  },
  {
   "cell_type": "markdown",
   "id": "1fe1a780-2abd-4033-a1cc-61f4f0e2d86f",
   "metadata": {},
   "source": [
    "An e-commerce website shows two types of ads: Type A and Type B.\n",
    "<br>\n",
    "- 60% of the visitors see Type A ads, and\n",
    "- 40% visitors see Type B ads.\n",
    "- The click-through rate for Type A ads is 5%, while the click-through rate for Type B ads is 3%. <br>\n",
    "If a visitor clicks on an ad, what is the probability that they saw a Type A ad?"
   ]
  },
  {
   "cell_type": "code",
   "execution_count": 22,
   "id": "146de202-1e89-43b4-a950-371fa773d5ce",
   "metadata": {},
   "outputs": [
    {
     "data": {
      "text/plain": [
       "(0.041999999999999996, 0.7142857142857143)"
      ]
     },
     "execution_count": 22,
     "metadata": {},
     "output_type": "execute_result"
    }
   ],
   "source": [
    "a=.6 #P(A)\n",
    "b=.4 #P(B)\n",
    "c_a=.05 #P(click|A)\n",
    "c_b=0.03 #P(click|B)\n",
    "#P(A|click)??\n",
    "\n",
    "c=(a*c_a)+(b*c_b) #P(click)\n",
    "\n",
    "a_c=(c_a*a)/c #P(A|click)\n",
    "c, a_c"
   ]
  },
  {
   "cell_type": "markdown",
   "id": "7b450007-6225-4aa6-9953-4f4e74e07e4b",
   "metadata": {},
   "source": [
    "A person decides to give \"n\" interviews. Each interview will be a success (S) or a failure (F). How many elements will there be in the sample space?"
   ]
  },
  {
   "cell_type": "markdown",
   "id": "fdf7a8c2-99a6-4a6d-aece-fc9d83de8b79",
   "metadata": {},
   "source": [
    "- 1: s or s\n",
    "- 2:ss, sf, fs, ff\n",
    "- 3: sss, ssf, sfs, sff, fss, fsf, ffs, fff\n",
    "<br>Therefore, 2^n"
   ]
  },
  {
   "cell_type": "markdown",
   "id": "c68a65cd-c700-4464-94cd-24f7ad5af8f1",
   "metadata": {},
   "source": [
    "A person decides to give 5 interviews. Each interview will be a success (S) or a failure (F). How many outcomes will there be in the sample space?"
   ]
  },
  {
   "cell_type": "code",
   "execution_count": 21,
   "id": "681cf901-1129-4258-92bc-f2a42a5b2472",
   "metadata": {},
   "outputs": [
    {
     "data": {
      "text/plain": [
       "32"
      ]
     },
     "execution_count": 21,
     "metadata": {},
     "output_type": "execute_result"
    }
   ],
   "source": [
    "2**5"
   ]
  }
 ],
 "metadata": {
  "kernelspec": {
   "display_name": "Python 3 (ipykernel)",
   "language": "python",
   "name": "python3"
  },
  "language_info": {
   "codemirror_mode": {
    "name": "ipython",
    "version": 3
   },
   "file_extension": ".py",
   "mimetype": "text/x-python",
   "name": "python",
   "nbconvert_exporter": "python",
   "pygments_lexer": "ipython3",
   "version": "3.12.0"
  }
 },
 "nbformat": 4,
 "nbformat_minor": 5
}
