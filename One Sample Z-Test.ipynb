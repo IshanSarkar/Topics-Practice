{
 "cells": [
  {
   "cell_type": "markdown",
   "id": "2e6c3810-4f2b-4dc6-8691-4910b8c3a099",
   "metadata": {},
   "source": [
    "# One Sample Z-Test"
   ]
  },
  {
   "cell_type": "code",
   "execution_count": 45,
   "id": "e60f451e-cc2a-425d-90d7-3070f23de24a",
   "metadata": {},
   "outputs": [],
   "source": [
    "import numpy as np\n",
    "from scipy.stats import norm\n",
    "from statsmodels.stats import power"
   ]
  },
  {
   "cell_type": "markdown",
   "id": "c909c03d-ab23-4f9f-874f-3c49b1c6e8ac",
   "metadata": {},
   "source": [
    "Lets do an experiment with 2 competing marketing firms<br>\n",
    "Firm A: <br>\n",
    "- Worked on 50 stores\n",
    "- Sold an average 1850 bottles of shampoo <br>\n",
    "<br>\n",
    "Firm B: <br>\n",
    "- Worked on 5 stores\n",
    "- Sold an average 1900 bottles of shampoo <br>\n",
    "<br>\n",
    "Our historical data parameters for weekly sales of the shampoo bottle were reported as: <br>\n",
    "Mean: 1800<br>\n",
    "Standard deviation: 100<br>"
   ]
  },
  {
   "cell_type": "code",
   "execution_count": 1,
   "id": "ed03f378-b711-4315-a8a9-c872b45a5e05",
   "metadata": {},
   "outputs": [],
   "source": [
    "mean=1800\n",
    "std=100"
   ]
  },
  {
   "cell_type": "code",
   "execution_count": 11,
   "id": "1eddc42e-4715-4b44-a3d6-a2d2626f0aaa",
   "metadata": {},
   "outputs": [
    {
     "name": "stdout",
     "output_type": "stream",
     "text": [
      "0.00020347600872250293 Reject H0, means 1850 is true\n"
     ]
    }
   ],
   "source": [
    "#For Firm A:\n",
    "n=50\n",
    "x=1850\n",
    "alpha=0.01 #99% confidence level\n",
    "se=std/np.sqrt(n)\n",
    "z=(x-mean)/se\n",
    "pval=1-norm.cdf(z)\n",
    "if pval<alpha:\n",
    "    print(pval, f'Reject H0, means {x} is true')\n",
    "else:\n",
    "    print(pval, f'Fail to reject H0, means not sure whether {x} is true')"
   ]
  },
  {
   "cell_type": "code",
   "execution_count": 12,
   "id": "045c1446-db95-4c1c-ae42-057d982653e4",
   "metadata": {},
   "outputs": [
    {
     "name": "stdout",
     "output_type": "stream",
     "text": [
      "0.0126736593387341 Fail to reject H0, means not sure whether 1900 is true\n"
     ]
    }
   ],
   "source": [
    "#For Firm B:\n",
    "n=5\n",
    "x=1900\n",
    "alpha=0.01 #99% confidence level\n",
    "se=std/np.sqrt(n)\n",
    "z=(x-mean)/se\n",
    "pval=1-norm.cdf(z)\n",
    "if pval<alpha:\n",
    "    print(pval, f'Reject H0, means {x} is true')\n",
    "else:\n",
    "    print(pval, f'Fail to reject H0, means not sure whether {x} is true')"
   ]
  },
  {
   "cell_type": "markdown",
   "id": "500da895-f4f2-404a-a5f3-46347e106b38",
   "metadata": {},
   "source": [
    "We can go ahead with Firm A as per the test result but maintaining 50 stores with same average is difficult whereas with only 5 stores it will be easy so we need to find for Firm B, what average value will make sense.  "
   ]
  },
  {
   "cell_type": "markdown",
   "id": "99d0b9d4-6f69-428a-9dfa-a20181ffa199",
   "metadata": {},
   "source": [
    "# Critical Value"
   ]
  },
  {
   "cell_type": "code",
   "execution_count": 22,
   "id": "e4bd8bf7-9aef-48c6-9606-586e3714cc82",
   "metadata": {},
   "outputs": [
    {
     "name": "stdout",
     "output_type": "stream",
     "text": [
      "If we maitain sales of 1904.04 for Firm B, then it is profitable\n"
     ]
    }
   ],
   "source": [
    "#For Firm B\n",
    "n=5\n",
    "se=std/np.sqrt(n)\n",
    "z=norm.ppf(0.99)\n",
    "x=z*se+mean\n",
    "print(f'If we maitain sales of {np.round(x, 2)} for Firm B, then it is profitable')"
   ]
  },
  {
   "cell_type": "code",
   "execution_count": 17,
   "id": "84a1b55e-bf37-44a8-aeaf-62ad460baf60",
   "metadata": {},
   "outputs": [
    {
     "name": "stdout",
     "output_type": "stream",
     "text": [
      "If we maitain sales of 1832.9 for Firm A, then it is profitable\n"
     ]
    }
   ],
   "source": [
    "#For Firm A\n",
    "n=50\n",
    "se=std/np.sqrt(n)\n",
    "z=norm.ppf(0.99)\n",
    "x=z*se+mean\n",
    "print(f'If we maitain sales of {np.round(x, 2)} for Firm A, then it is profitable')"
   ]
  },
  {
   "cell_type": "markdown",
   "id": "7fde191b-13f7-4327-a051-9fa4c81a3b8a",
   "metadata": {},
   "source": [
    "# Confidence Interval"
   ]
  },
  {
   "cell_type": "markdown",
   "id": "6dcca0ac-ca1a-4d53-941e-21f9b30f2c33",
   "metadata": {},
   "source": [
    "Suppose there is a chance of making 1% Type 1 error for both firms then what will be the range so that this error can be avoided"
   ]
  },
  {
   "cell_type": "code",
   "execution_count": 24,
   "id": "b7957c0b-0062-4c1c-b3eb-f5239842adbf",
   "metadata": {},
   "outputs": [],
   "source": [
    "confidence=0.99"
   ]
  },
  {
   "cell_type": "code",
   "execution_count": 27,
   "id": "98cb48e0-4b8b-47d2-b286-862baa96ea57",
   "metadata": {},
   "outputs": [
    {
     "name": "stdout",
     "output_type": "stream",
     "text": [
      "For Firm A, the range should lie between [1813.57 1886.43]\n"
     ]
    }
   ],
   "source": [
    "#For Firm A:\n",
    "mean=1850\n",
    "se=std/np.sqrt(50)\n",
    "ci=norm.interval(confidence, mean, se)\n",
    "print(f'For Firm A, the range should lie between {np.round(ci, 2)}')"
   ]
  },
  {
   "cell_type": "code",
   "execution_count": 28,
   "id": "6ed91177-1181-43cf-bdd3-ba928c9e8580",
   "metadata": {},
   "outputs": [
    {
     "name": "stdout",
     "output_type": "stream",
     "text": [
      "For Firm B, the range should lie between [1784.81 2015.19]\n"
     ]
    }
   ],
   "source": [
    "#For Firm b:\n",
    "mean=1900\n",
    "se=std/np.sqrt(5)\n",
    "ci=norm.interval(confidence, mean, se)\n",
    "print(f'For Firm B, the range should lie between {np.round(ci, 2)}')"
   ]
  },
  {
   "cell_type": "markdown",
   "id": "fee59efa-6b71-4285-a97a-492baec70e45",
   "metadata": {},
   "source": [
    "# Power of Test"
   ]
  },
  {
   "cell_type": "markdown",
   "id": "cf3238f5-b9ae-49ae-8206-0db9cc22f144",
   "metadata": {},
   "source": [
    "Type 2 error represented as beta and Power = 1-beta, means probability to find/detect Type 2 error. <br>\n",
    "A high statistical power indicates a greater ability to detect true effects or differences."
   ]
  },
  {
   "cell_type": "markdown",
   "id": "068e90c4-704d-406b-806d-18fffa1540bc",
   "metadata": {},
   "source": [
    "Factor's influencing Power: <br>\n",
    "- Sample Size (n)\n",
    "- Significance Level (α)\n",
    "- Variability (σ)\n",
    "- Effect Size (d): d = (Sample Mean − Population Mean)/Sample Standard Deviation\n",
    "    - If Cohen's d is a large number, it means the difference (mean between groups) is substantial (very large and making a huge effect). If it's a small number, the difference is more modest."
   ]
  },
  {
   "cell_type": "markdown",
   "id": "cb683240-dbc0-445e-a7a8-dc2d272c99b8",
   "metadata": {},
   "source": [
    "Example: Let say I have a standard to maintain of 50 as average and I collected a sample of 30 which has  [55, 45, 52, 48, 55, 52, 52, 53, 48, 52, 53, 47, 54, 51, 52, 51, 48, 52, 53, 54, 51, 51, 52, 54, 47, 52, 53, 48, 51, 54]"
   ]
  },
  {
   "cell_type": "markdown",
   "id": "a631d4da-4ee1-4c4a-b21e-96226c801191",
   "metadata": {},
   "source": [
    "Now I want to make sure whether my standard is being maintained or not at 5% acceptable error"
   ]
  },
  {
   "cell_type": "code",
   "execution_count": 31,
   "id": "50ce1ae3-8c8a-4a67-998c-b6a2b0118da1",
   "metadata": {},
   "outputs": [],
   "source": [
    "data=[55, 45, 52, 48, 55, 52, 52, 53, 48, 52, 53, 47, 54, 51, 52, 51, 48, 52, 53, 54, 51, 51, 52, 54, 47, 52, 53, 48, 51, 54]"
   ]
  },
  {
   "cell_type": "markdown",
   "id": "fa5d1c67-effd-4dc1-9cd4-a869f4f02deb",
   "metadata": {},
   "source": [
    "H0: mean=50 <br>\n",
    "Ha: mean != 50 (two-tailed)"
   ]
  },
  {
   "cell_type": "code",
   "execution_count": 50,
   "id": "5c27d793-0855-42bb-b12c-f0c4459113e7",
   "metadata": {},
   "outputs": [
    {
     "data": {
      "text/plain": [
       "1.959963984540054"
      ]
     },
     "execution_count": 50,
     "metadata": {},
     "output_type": "execute_result"
    }
   ],
   "source": [
    "alpha = 0.05 \n",
    "confidence = 1-alpha/2 #As two tailed so have to leave 2.5% from both end\n",
    "n=30\n",
    "z_critical=norm.ppf(confidence)\n",
    "z_critical"
   ]
  },
  {
   "cell_type": "code",
   "execution_count": 51,
   "id": "3395f84a-3063-45fb-b344-f6f596da91b7",
   "metadata": {},
   "outputs": [
    {
     "data": {
      "text/plain": [
       "0.5261336417646574"
      ]
     },
     "execution_count": 51,
     "metadata": {},
     "output_type": "execute_result"
    }
   ],
   "source": [
    "smean=np.mean(data)\n",
    "std=np.std(data)\n",
    "mean=50\n",
    "d=(smean-mean)/std\n",
    "d"
   ]
  },
  {
   "cell_type": "code",
   "execution_count": 57,
   "id": "94d99e1a-1de8-40b9-9695-ab892365aed3",
   "metadata": {},
   "outputs": [
    {
     "data": {
      "text/plain": [
       "0.8216812302268112"
      ]
     },
     "execution_count": 57,
     "metadata": {},
     "output_type": "execute_result"
    }
   ],
   "source": [
    "# Use 'zt_ind_solve_power()' to calculate the power of the z-test\n",
    "# ratio=0 it implies that the function assumes equal sample sizes in both groups.\n",
    "# In other words, it assumes that the number of observations in the two groups being compared is the same.\n",
    "p=power.zt_ind_solve_power(effect_size=d, nobs1=n, alpha=alpha, ratio=0, alternative='two-sided')\n",
    "p"
   ]
  },
  {
   "cell_type": "code",
   "execution_count": 56,
   "id": "8841f5c3-d8a3-4cf7-8d79-1f6218a8acc8",
   "metadata": {},
   "outputs": [
    {
     "name": "stdout",
     "output_type": "stream",
     "text": [
      "Effect Size: The effect size, around 0.5261336417646574, tells us how much the average of the sampled data differs from the standard/population data. In this case, it suggests a noticeable difference.\n"
     ]
    }
   ],
   "source": [
    "print(f'Effect Size: The effect size, around {d}, tells us how much the average of the sampled data differs from the standard/population data. In this case, it suggests a noticeable difference.')"
   ]
  },
  {
   "cell_type": "code",
   "execution_count": 60,
   "id": "e8d322c1-8192-4d5d-bfc2-47b51b69b905",
   "metadata": {},
   "outputs": [
    {
     "name": "stdout",
     "output_type": "stream",
     "text": [
      "Power of the Test: With a power of about 82.0%, there's a good chance that our quality control test will correctly spot any significant difference in the average. Essentially, it indicates how well our test can catch deviations from the standard data, making our quality check quite effective.\n"
     ]
    }
   ],
   "source": [
    "print(f\"Power of the Test: With a power of about {np.round(p*100)}%, there's a good chance that our quality control test will correctly spot any significant difference in the average. Essentially, it indicates how well our test can catch deviations from the standard data, making our quality check quite effective.\")"
   ]
  },
  {
   "cell_type": "code",
   "execution_count": 64,
   "id": "ee9dbe9c-f003-45e2-aa7c-81d0ca8c5f27",
   "metadata": {},
   "outputs": [
    {
     "name": "stdout",
     "output_type": "stream",
     "text": [
      "Type 2 Error: The 18.0% Type 2 error means that there's a chance (18.0 out of 100 times) we might miss a real issue with the data. So, even though there could be a difference in the average, our test might not catch it every time.\n"
     ]
    }
   ],
   "source": [
    "print(f\"Type 2 Error: The {100-np.round(p*100)}% Type 2 error means that there's a chance ({100-np.round(p*100)} out of 100 times) we might miss a real issue with the data. So, even though there could be a difference in the average, our test might not catch it every time.\")"
   ]
  },
  {
   "cell_type": "code",
   "execution_count": null,
   "id": "9e5e9b63-5d0a-415e-8c22-5af91cb730e6",
   "metadata": {},
   "outputs": [],
   "source": []
  }
 ],
 "metadata": {
  "kernelspec": {
   "display_name": "Python 3 (ipykernel)",
   "language": "python",
   "name": "python3"
  },
  "language_info": {
   "codemirror_mode": {
    "name": "ipython",
    "version": 3
   },
   "file_extension": ".py",
   "mimetype": "text/x-python",
   "name": "python",
   "nbconvert_exporter": "python",
   "pygments_lexer": "ipython3",
   "version": "3.12.0"
  }
 },
 "nbformat": 4,
 "nbformat_minor": 5
}
