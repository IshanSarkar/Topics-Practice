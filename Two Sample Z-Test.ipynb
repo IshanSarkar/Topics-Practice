{
 "cells": [
  {
   "cell_type": "markdown",
   "id": "2e6c3810-4f2b-4dc6-8691-4910b8c3a099",
   "metadata": {},
   "source": [
    "# Two Sample Z-Test"
   ]
  },
  {
   "cell_type": "code",
   "execution_count": 5,
   "id": "e60f451e-cc2a-425d-90d7-3070f23de24a",
   "metadata": {},
   "outputs": [],
   "source": [
    "import numpy as np\n",
    "import random\n",
    "from scipy.stats import norm\n",
    "from statsmodels.stats import weightstats as stests\n",
    "from scipy import stats"
   ]
  },
  {
   "cell_type": "markdown",
   "id": "f16f8a81-847c-467b-b255-fa33dc9f3073",
   "metadata": {},
   "source": [
    "Used to compare the means of two independent groups to determine if there is a significant difference between them. It is typically employed when the sample sizes are large and the population standard deviations are known."
   ]
  },
  {
   "cell_type": "markdown",
   "id": "27afdaa1-9c77-4a82-90cc-60cb10f4d67a",
   "metadata": {},
   "source": [
    "H0: Mean is same of both <br>\n",
    "Ha: Mean is different"
   ]
  },
  {
   "cell_type": "markdown",
   "id": "5dcca7b6-c7f5-4f65-b683-3debcfe14fcf",
   "metadata": {},
   "source": [
    "**When we only have measurement, not whole sample data** <br>\n",
    "z=(mean1-mean2)/np.sqrt(((std1^2)/n1)+((std2^2)/n2)) <br> <br>\n",
    "\n",
    "Two-Tailed: <br>\n",
    "pval=2*(1-norm.cdf(abs(z))) <br>\n",
    "Using abs(z_score) ignores the sign of the deviation, focusing solely on its magnitude, ensuring we consider both directions and calculation <br>\n",
    "if p_value < significance_level:<br>\n",
    "    conclusion = \"Reject the null hypothesis. Group 2 mean is high.\"<br>\n",
    "else:<br>\n",
    "    conclusion =\"Fail to reject the null hypothesis. No significant difference.\"<br>"
   ]
  },
  {
   "cell_type": "markdown",
   "id": "41371163-8352-4c2f-936c-bd8927931cdc",
   "metadata": {},
   "source": [
    "**When we have the data**"
   ]
  },
  {
   "cell_type": "code",
   "execution_count": 11,
   "id": "1e9e0cc7-23e1-4922-9e7e-b6d5066191e6",
   "metadata": {},
   "outputs": [
    {
     "name": "stdout",
     "output_type": "stream",
     "text": [
      "[6.0, 6.0, 11.0, 7.0, 19.0, 6.0, 13.0, 10.0, 18.0, 7.0, 10.0, 10.0, 9.0, 5.0, 12.0, 6.0, 14.0, 6.0, 10.0, 12.0, 19.0, 6.0, 7.0, 17.0, 5.0, 19.0, 14.0, 9.0, 18.0, 17.0, 10.0, 17.0, 8.0, 14.0, 13.0, 17.0, 10.0, 11.0, 17.0, 13.0, 15.0, 15.0, 15.0, 18.0, 12.0, 15.0, 11.0, 5.0, 16.0, 8.0, 17.0, 19.0, 15.0, 8.0, 10.0, 11.0, 6.0, 12.0, 14.0, 10.0, 8.0, 6.0, 14.0, 5.0, 10.0, 8.0, 13.0, 16.0, 19.0, 15.0, 20.0, 19.0, 14.0, 9.0, 12.0, 8.0, 20.0, 12.0, 16.0, 6.0, 7.0, 8.0, 9.0, 10.0, 9.0, 12.0, 11.0, 7.0, 6.0, 10.0, 6.0, 11.0, 5.0, 13.0, 6.0, 15.0, 11.0, 20.0, 9.0, 12.0]\n",
      "[16.0, 10.0, 10.0, 15.0, 20.0, 18.0, 11.0, 16.0, 15.0, 11.0, 9.0, 6.0, 18.0, 6.0, 13.0, 13.0, 7.0, 15.0, 19.0, 17.0, 11.0, 7.0, 20.0, 13.0, 14.0, 17.0, 11.0, 6.0, 7.0, 15.0, 10.0, 18.0, 16.0, 20.0, 15.0, 10.0, 17.0, 5.0, 13.0, 18.0, 13.0, 7.0, 13.0, 13.0, 11.0, 18.0, 10.0, 9.0, 13.0, 8.0, 10.0, 11.0, 19.0, 6.0, 8.0, 8.0, 20.0, 18.0, 8.0, 13.0, 6.0, 10.0, 10.0, 13.0, 19.0, 17.0, 13.0, 17.0, 12.0, 16.0, 17.0, 9.0, 17.0, 14.0, 12.0, 11.0, 8.0, 13.0, 7.0, 15.0, 18.0, 17.0, 14.0, 12.0, 15.0, 7.0, 6.0, 18.0, 10.0, 15.0]\n"
     ]
    }
   ],
   "source": [
    "#Generating 2 groups\n",
    "\n",
    "# Set a random seed for reproducibility\n",
    "random.seed(123) # You can use any integer as the seed\n",
    "\n",
    "# Create an empty list to store the recovery times\n",
    "M1_data = []\n",
    "# Generate 100 random recovery times\n",
    "for _ in range(100):\n",
    "    recovery_time = random.uniform(5.0, 20.0) # Generating values between 10 and 20\n",
    "    M1_data.append(np.round(recovery_time, 0))\n",
    "\n",
    "M2_data = []\n",
    "# Generate 100 random recovery times\n",
    "for _ in range(90):\n",
    "    recovery_time = random.uniform(5.0, 20.0) # Generating values between 10 and 20\n",
    "    M2_data.append(np.round(recovery_time, 0))\n",
    "\n",
    "print(M1_data)\n",
    "print(M2_data)"
   ]
  },
  {
   "cell_type": "code",
   "execution_count": 6,
   "id": "ed5c18d0-22b6-41cd-b37c-9ae560d6e515",
   "metadata": {},
   "outputs": [
    {
     "data": {
      "text/plain": [
       "(-1.9781793102198233, 0.047908481917186434)"
      ]
     },
     "execution_count": 6,
     "metadata": {},
     "output_type": "execute_result"
    }
   ],
   "source": [
    "z_score, pval = stests.ztest(x1 = M1_data, x2 = M2_data, value = 0, alternative = 'two-sided')\n",
    "z_score, pval"
   ]
  },
  {
   "cell_type": "code",
   "execution_count": 7,
   "id": "7ad38e23-eb45-4e36-b493-c9d4be674728",
   "metadata": {},
   "outputs": [
    {
     "name": "stdout",
     "output_type": "stream",
     "text": [
      "Fail to reject the null hypothesis (i.e, Means are same)\n"
     ]
    }
   ],
   "source": [
    "alpha = 0.01\n",
    "if pval < alpha:\n",
    "    print(\"Reject the null hypothesis, (i.e, Means are different)\")\n",
    "else:\n",
    "    print(\"Fail to reject the null hypothesis (i.e, Means are same)\")"
   ]
  },
  {
   "cell_type": "code",
   "execution_count": 10,
   "id": "c3a56de1-8b31-4e1d-89d5-c1e3dcefbede",
   "metadata": {},
   "outputs": [
    {
     "data": {
      "text/plain": [
       "(11.57, 12.8)"
      ]
     },
     "execution_count": 10,
     "metadata": {},
     "output_type": "execute_result"
    }
   ],
   "source": [
    "#Double Checking\n",
    "np.mean(M1_data), np.mean(M2_data)"
   ]
  },
  {
   "cell_type": "code",
   "execution_count": null,
   "id": "087c362f-7e53-42a4-82e5-ee5ad1ee72c2",
   "metadata": {},
   "outputs": [],
   "source": []
  }
 ],
 "metadata": {
  "kernelspec": {
   "display_name": "Python 3 (ipykernel)",
   "language": "python",
   "name": "python3"
  },
  "language_info": {
   "codemirror_mode": {
    "name": "ipython",
    "version": 3
   },
   "file_extension": ".py",
   "mimetype": "text/x-python",
   "name": "python",
   "nbconvert_exporter": "python",
   "pygments_lexer": "ipython3",
   "version": "3.12.0"
  }
 },
 "nbformat": 4,
 "nbformat_minor": 5
}
