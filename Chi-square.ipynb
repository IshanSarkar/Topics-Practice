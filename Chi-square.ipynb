{
 "cells": [
  {
   "cell_type": "markdown",
   "id": "24ab0f9c-ad50-4162-b468-3497a6723982",
   "metadata": {},
   "source": [
    "# Chi-square Test\n",
    "Used for Categorical vs Categorical Testing"
   ]
  },
  {
   "cell_type": "code",
   "execution_count": 2,
   "id": "78163141-94da-45ce-a406-69f602a29e7a",
   "metadata": {},
   "outputs": [],
   "source": [
    "from scipy.stats import chisquare, chi2_contingency"
   ]
  },
  {
   "cell_type": "markdown",
   "id": "7eb984b4-5dfd-44fb-b172-f6043bd45023",
   "metadata": {},
   "source": [
    "## Degrees of freedom"
   ]
  },
  {
   "cell_type": "markdown",
   "id": "dd185224-7624-4552-b41e-a36acac9c09d",
   "metadata": {},
   "source": [
    "dof=n-1 <br>\n",
    "If you have a set of n numbers and you know the average of those numbers, how many of these numbers do you need to know to determine the full set <br>\n",
    "For two arrays with lengths n1 and n2, the degrees of freedom (dof) is calculated as the sum of the degrees of freedom for each array: (n1-1)+(n2-1)"
   ]
  },
  {
   "cell_type": "markdown",
   "id": "187a1258-864b-488b-89e6-90a23744f33d",
   "metadata": {},
   "source": [
    "For a two-sample T-test, the degrees of freedom become n1+n2-2, while for a one-sample T-test, it simplifies to n-1, where 'n' is the\n",
    "sample size.\n"
   ]
  },
  {
   "cell_type": "markdown",
   "id": "2f0e1841-9cbf-49db-8555-9f9263864bf0",
   "metadata": {},
   "source": [
    "Degrees of freedom are then calculated by multiplying these two dimensions together: (#rows - 1) * (#columns - 1)"
   ]
  },
  {
   "cell_type": "markdown",
   "id": "c728dd04-3f13-4d95-9094-a0716ebc96e9",
   "metadata": {},
   "source": [
    "Now, why is this degree of freedom important? <br>\n",
    "1. In the context of the Chi-square test, degrees of freedom represent the number of categories the value influences the critical values used to determine statistical significance.\n",
    "    - As degrees of freedom increase, the chi-squared distribution changes shape.\n",
    "    - Higher degrees of freedom lead to higher critical values, requiring a larger test statistic to reject the null hypothesis at a given significance level (α).\n",
    "2. A higher degree of freedom allows for more variability and flexibility in the distribution of the test statistic.\n",
    "3. Degrees of freedom help define the expected distribution of the test statistic under the null hypothesis.\n",
    "    - The expected distribution is a key reference point for evaluating the observed test statistic and determining whether deviations are statistically significant."
   ]
  },
  {
   "cell_type": "markdown",
   "id": "ea88a28e-ffeb-4a64-ae08-81e9544f2d8b",
   "metadata": {},
   "source": [
    "## Chi-square Goodness of Fit Test"
   ]
  },
  {
   "cell_type": "markdown",
   "id": "7bcc14ec-f579-443a-850a-4e16a80cc644",
   "metadata": {},
   "source": [
    "Used when you have one categorical variable, and you want to see if the observed frequencies match the expected frequencies."
   ]
  },
  {
   "cell_type": "markdown",
   "id": "15fe8023-fcaa-4f79-b718-d838dfeab683",
   "metadata": {},
   "source": [
    "degrees of freedom = 1"
   ]
  },
  {
   "cell_type": "markdown",
   "id": "ee9a5502-a746-416a-aaa9-3496d5a1cad1",
   "metadata": {},
   "source": [
    "**Example** <br>\n",
    "The expected outcome for a fair coin toss is 50% heads and 50% tails, which corresponds to 25 heads and 25 tails in 50 tosses. <br>\n",
    "The observed outcomes from 50 coin tosses are 28 heads and 22 tails. <br>\n",
    "To determine whether the coin is fair, we perform a chi-square test to check if the observed results significantly deviate from the expected results. If the deviation is statistically significant, it may indicate that the coin is not fair."
   ]
  },
  {
   "cell_type": "code",
   "execution_count": 4,
   "id": "b0360b04-c614-4eb5-895e-1cf263caf669",
   "metadata": {},
   "outputs": [
    {
     "data": {
      "text/plain": [
       "(0.72, 0.3961439091520741)"
      ]
     },
     "execution_count": 4,
     "metadata": {},
     "output_type": "execute_result"
    }
   ],
   "source": [
    "cstat, pval=chisquare([28, 22], #Observed \n",
    "          [25, 25]) #Expected\n",
    "cstat, pval"
   ]
  },
  {
   "cell_type": "code",
   "execution_count": 7,
   "id": "28c804e8-8753-447c-9f72-42cffa04a6d0",
   "metadata": {},
   "outputs": [
    {
     "name": "stdout",
     "output_type": "stream",
     "text": [
      "Fail to reject H0\n",
      "Coin is fair\n"
     ]
    }
   ],
   "source": [
    "alpha=0.01\n",
    "if pval < alpha:\n",
    "    print(\"Reject H0\")\n",
    "    print(\"Coin is baised\")\n",
    "else:\n",
    "    print(\"Fail to reject H0\")\n",
    "    print(\"Coin is fair\")"
   ]
  },
  {
   "cell_type": "markdown",
   "id": "818019b8-ecae-4dcb-b876-93f12884cc53",
   "metadata": {},
   "source": [
    "## Chi-square Test for Independence"
   ]
  },
  {
   "cell_type": "markdown",
   "id": "93f0e385-f3e7-49e8-b1de-735a717d4893",
   "metadata": {},
   "source": [
    "Now, let us say we are conducting a survey on whether gender impacts offline and online purchases. <br>\n",
    "In the survey, we got the following data:<br>\n",
    "- H0: Gender and preference are independent\n",
    "- Ha: Gender and preference are not independent <br>\n",
    "<br>In this scenario, under the assumption of null hypothesis do we have the expected value? <br>\n",
    "66% of the respondents prefer offline and 34% of the respondents prefer online.<br>\n",
    "Now, if gender has no impact then among 733 men, how many are expected to prefer offline? => 66% of 734 = 484 <br>\n",
    "Now, if gender has no impact then among 172 women, how many are expected to prefer offline? => 66% of 174 = 115 <br>\n",
    "Now, if gender has no impact then among 733 men, how many are expected to prefer online? => 34% of 734 = 249 <br>\n",
    "Now, if gender has no impact then among 172 women, how many are expected to prefer online? => 34% of 174 = 59 <br> <br>\n",
    "But the observed value is: <br>\n",
    "- Men : Offline = 527\n",
    "- Women : Offline = 72\n",
    "- Men : Online = 206\n",
    "- Women : Online = 102"
   ]
  },
  {
   "cell_type": "code",
   "execution_count": 10,
   "id": "c111b942-8c06-499e-b1f9-13f64f7b9fc5",
   "metadata": {},
   "outputs": [
    {
     "data": {
      "text/plain": [
       "(57.04098674049609,\n",
       " 4.268230756875865e-14,\n",
       " 1,\n",
       " array([[484.08710033, 248.91289967],\n",
       "        [114.91289967,  59.08710033]]))"
      ]
     },
     "execution_count": 10,
     "metadata": {},
     "output_type": "execute_result"
    }
   ],
   "source": [
    "cstat, pval, dof, exp_freq=chi2_contingency([[527, 206], #row1\n",
    "                                             [72, 102]]) #row2\n",
    "cstat, pval, dof, exp_freq"
   ]
  },
  {
   "cell_type": "code",
   "execution_count": 11,
   "id": "47d9c783-ad89-4a23-9090-5eb26ba2095a",
   "metadata": {},
   "outputs": [
    {
     "data": {
      "text/plain": [
       "(57.04098674049609,\n",
       " 4.268230756875865e-14,\n",
       " 1,\n",
       " array([[484.08710033, 114.91289967],\n",
       "        [248.91289967,  59.08710033]]))"
      ]
     },
     "execution_count": 11,
     "metadata": {},
     "output_type": "execute_result"
    }
   ],
   "source": [
    "#Inverse order\n",
    "cstat, pval, dof, exp_freq=chi2_contingency([[527, 72], #row1\n",
    "                                             [206, 102]]) #row2\n",
    "cstat, pval, dof, exp_freq"
   ]
  },
  {
   "cell_type": "markdown",
   "id": "4a1e4aee-fd77-4c92-89e2-2e0b47d63da3",
   "metadata": {},
   "source": [
    "pd.crosstab will work best here"
   ]
  },
  {
   "cell_type": "code",
   "execution_count": null,
   "id": "cb07f50e-171d-4b96-9801-b22943b8774a",
   "metadata": {},
   "outputs": [],
   "source": []
  }
 ],
 "metadata": {
  "kernelspec": {
   "display_name": "Python 3 (ipykernel)",
   "language": "python",
   "name": "python3"
  },
  "language_info": {
   "codemirror_mode": {
    "name": "ipython",
    "version": 3
   },
   "file_extension": ".py",
   "mimetype": "text/x-python",
   "name": "python",
   "nbconvert_exporter": "python",
   "pygments_lexer": "ipython3",
   "version": "3.12.2"
  }
 },
 "nbformat": 4,
 "nbformat_minor": 5
}
