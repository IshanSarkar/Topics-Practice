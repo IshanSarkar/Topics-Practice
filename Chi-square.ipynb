{
 "cells": [
  {
   "cell_type": "markdown",
   "id": "24ab0f9c-ad50-4162-b468-3497a6723982",
   "metadata": {},
   "source": [
    "# Chi-square Test"
   ]
  },
  {
   "cell_type": "markdown",
   "id": "7eb984b4-5dfd-44fb-b172-f6043bd45023",
   "metadata": {},
   "source": [
    "## Degrees of freedom"
   ]
  },
  {
   "cell_type": "markdown",
   "id": "dd185224-7624-4552-b41e-a36acac9c09d",
   "metadata": {},
   "source": [
    "dof=n-1 <br>\n",
    "If you have a set of n numbers and you know the average of those numbers, how many of these numbers do you need to know to determine the full set <br>\n",
    "For two arrays with lengths n1 and n2, the degrees of freedom (dof) is calculated as the sum of the degrees of freedom for each array: (n1-1)+(n2-1)"
   ]
  },
  {
   "cell_type": "code",
   "execution_count": null,
   "id": "d85f6231-dd62-4b9d-97c6-e544e76cafdf",
   "metadata": {},
   "outputs": [],
   "source": []
  }
 ],
 "metadata": {
  "kernelspec": {
   "display_name": "Python 3 (ipykernel)",
   "language": "python",
   "name": "python3"
  },
  "language_info": {
   "codemirror_mode": {
    "name": "ipython",
    "version": 3
   },
   "file_extension": ".py",
   "mimetype": "text/x-python",
   "name": "python",
   "nbconvert_exporter": "python",
   "pygments_lexer": "ipython3",
   "version": "3.12.0"
  }
 },
 "nbformat": 4,
 "nbformat_minor": 5
}
