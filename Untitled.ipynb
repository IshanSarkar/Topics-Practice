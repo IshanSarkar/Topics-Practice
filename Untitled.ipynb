{
 "cells": [
  {
   "cell_type": "code",
   "execution_count": 1,
   "id": "2e800bac-c47a-4988-a0da-4f7e9df0c7f6",
   "metadata": {},
   "outputs": [],
   "source": [
    "import numpy as np"
   ]
  },
  {
   "cell_type": "code",
   "execution_count": 4,
   "id": "08e4a7bb-aa99-480b-a814-740d97067449",
   "metadata": {},
   "outputs": [
    {
     "data": {
      "text/plain": [
       "3"
      ]
     },
     "execution_count": 4,
     "metadata": {},
     "output_type": "execute_result"
    }
   ],
   "source": [
    "np.count_nonzero([True, False, False, True, True])"
   ]
  },
  {
   "cell_type": "code",
   "execution_count": 16,
   "id": "f960e8ba-1a45-4882-8f2c-f300ed476283",
   "metadata": {},
   "outputs": [],
   "source": [
    "from scipy.stats import binom, norm"
   ]
  },
  {
   "cell_type": "code",
   "execution_count": 6,
   "id": "9ba96134-30b9-4360-b1a2-2e50d7685687",
   "metadata": {},
   "outputs": [
    {
     "data": {
      "text/plain": [
       "0.5"
      ]
     },
     "execution_count": 6,
     "metadata": {},
     "output_type": "execute_result"
    }
   ],
   "source": [
    "binom.pmf(1, 1, 0.5)"
   ]
  },
  {
   "cell_type": "code",
   "execution_count": 8,
   "id": "42ec4eae-f2ff-4b81-b6cb-4c1821f79446",
   "metadata": {},
   "outputs": [
    {
     "data": {
      "text/plain": [
       "0.6687714031754279"
      ]
     },
     "execution_count": 8,
     "metadata": {},
     "output_type": "execute_result"
    }
   ],
   "source": [
    "1/20+1/19+1/18+1/17+1/16+1/15+1/14+1/13+1/12+1/11"
   ]
  },
  {
   "cell_type": "code",
   "execution_count": 12,
   "id": "21bc48d5-99cf-4bbc-bab8-32b2b834ebcd",
   "metadata": {},
   "outputs": [
    {
     "data": {
      "text/plain": [
       "0.23316815272548005"
      ]
     },
     "execution_count": 12,
     "metadata": {},
     "output_type": "execute_result"
    }
   ],
   "source": [
    "((6/7)**3)*(1-(6/7)**3)"
   ]
  },
  {
   "cell_type": "code",
   "execution_count": 13,
   "id": "0b9657a4-cb30-4826-bd3c-d54ee508479b",
   "metadata": {},
   "outputs": [
    {
     "data": {
      "text/plain": [
       "(0.4166666666666667, 0.4166666666666667)"
      ]
     },
     "execution_count": 13,
     "metadata": {},
     "output_type": "execute_result"
    }
   ],
   "source": [
    "10/24, 5/12"
   ]
  },
  {
   "cell_type": "code",
   "execution_count": 14,
   "id": "f0021859-9f9b-4515-a491-a3eeb3499258",
   "metadata": {},
   "outputs": [
    {
     "data": {
      "text/plain": [
       "(44.5, 13.567731325956206)"
      ]
     },
     "execution_count": 14,
     "metadata": {},
     "output_type": "execute_result"
    }
   ],
   "source": [
    "89/2,(68-21)/np.sqrt(12)"
   ]
  },
  {
   "cell_type": "code",
   "execution_count": 19,
   "id": "c0c47c1a-c1c6-4330-9798-7cfe36b3ccdf",
   "metadata": {},
   "outputs": [
    {
     "data": {
      "text/plain": [
       "135.78832550863427"
      ]
     },
     "execution_count": 19,
     "metadata": {},
     "output_type": "execute_result"
    }
   ],
   "source": [
    "(norm.ppf(.9)*13.1)+119"
   ]
  },
  {
   "cell_type": "code",
   "execution_count": 20,
   "id": "c5732c06-272d-4e77-a4f3-52d9920c854d",
   "metadata": {},
   "outputs": [
    {
     "data": {
      "text/plain": [
       "-1.6666666666666667"
      ]
     },
     "execution_count": 20,
     "metadata": {},
     "output_type": "execute_result"
    }
   ],
   "source": [
    "-5/3"
   ]
  },
  {
   "cell_type": "code",
   "execution_count": null,
   "id": "ca88a23a-c9b7-4775-8ffe-829e7e070e39",
   "metadata": {},
   "outputs": [],
   "source": []
  }
 ],
 "metadata": {
  "kernelspec": {
   "display_name": "Python 3 (ipykernel)",
   "language": "python",
   "name": "python3"
  },
  "language_info": {
   "codemirror_mode": {
    "name": "ipython",
    "version": 3
   },
   "file_extension": ".py",
   "mimetype": "text/x-python",
   "name": "python",
   "nbconvert_exporter": "python",
   "pygments_lexer": "ipython3",
   "version": "3.12.2"
  }
 },
 "nbformat": 4,
 "nbformat_minor": 5
}
