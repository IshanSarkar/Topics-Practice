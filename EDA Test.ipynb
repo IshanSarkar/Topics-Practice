{
 "cells": [
  {
   "cell_type": "code",
   "execution_count": 1,
   "id": "32149c17-1e45-450f-a01f-5c86d30a1f31",
   "metadata": {},
   "outputs": [],
   "source": [
    "import numpy as np\n",
    "from scipy.stats import norm, ttest_1samp, ttest_ind, ttest_rel, chisquare, chi2_contingency, f_oneway, tukey_hsd, kruskal, shapiro, levene, kstest, pearsonr, spearmanr, kurtosis, skew\n",
    "from statsmodels.stats import weightstats as stests\n",
    "import statsmodels.api as sm\n",
    "import pandas as pd\n",
    "import seaborn as sns\n",
    "import matplotlib.pyplot as plt\n",
    "from statsmodels.graphics.gofplots import qqplot\n",
    "from statsmodels.formula.api import ols"
   ]
  },
  {
   "cell_type": "markdown",
   "id": "5b335d9b-7019-4f7f-8a18-618d9b5d88ff",
   "metadata": {},
   "source": [
    "# Test 1:\n",
    "50+50+50+75+50+25+75+50+50 <br>\n",
    "Wrong done: 3, 6, 8: 50+25+50"
   ]
  },
  {
   "cell_type": "markdown",
   "id": "563ed963-04e9-42ed-82c3-0a061944adfe",
   "metadata": {},
   "source": [
    "1. You have a dataset with a 'date' column in the format 'YYYY-MM-DD'. You want to create a new feature 'quarter' which indicates the quarter of the year (Q1, Q2, Q3, or Q4) corresponding to each date. Which of the following code snippets achieves this task correctly?\n",
    "- df['quarter'] = pd.to_datetime(df['date']).dt.quarter\n",
    "- df['quarter'] = pd.to_datetime(df['date']).apply(lambda x: 'Q'+str((x.month-1)//3+1).zfill(2))\n",
    "- df['quarter'] = pd.to_datetime(df['date']).apply(lambda x: 'Q'+str((x.month-1)//3+2))\n",
    "- df['quarter'] = pd.to_datetime(df['date']).dt.month // 3 + 2"
   ]
  },
  {
   "cell_type": "markdown",
   "id": "95906b38-3a59-42b2-88b4-e09712272879",
   "metadata": {},
   "source": [
    "Ans: df['quarter'] = pd.to_datetime(df['date']).dt.quarter"
   ]
  },
  {
   "cell_type": "markdown",
   "id": "0338222c-9faf-4e4b-9e79-7c08b9f18b55",
   "metadata": {},
   "source": [
    "2. In hypothesis testing, what is the type I error rate if we set the significance level (α) at 0.01?\n",
    "- 0.10\n",
    "- 0.01\n",
    "- 0.001\n",
    "- 0.05"
   ]
  },
  {
   "cell_type": "markdown",
   "id": "0369a572-17b5-4f33-a024-0dfe229003e5",
   "metadata": {},
   "source": [
    "Ans: 0.01"
   ]
  },
  {
   "cell_type": "markdown",
   "id": "2fba9c36-a18c-40ed-a1db-219f39745cb5",
   "metadata": {},
   "source": [
    "3. Suppose there a four machines m1, m2, m3, and m4 in a factory that is used to produce a certain kind of cotton fabric.\n",
    "<br>\n",
    "Samples of size 4 with each unit having 100sq. meters are selected from the output of the machine randomly, and the number of flaws in every 100 sq. meters is counted and listed below.\n",
    "<br>\n",
    "<br>m1 = [8, 9, 11, 12]\n",
    "<br>m2 = [6, 8, 10, 4]\n",
    "<br>m3 = [14, 12, 18, 9]\n",
    "<br>m4 = [20, 22, 25, 23]\n",
    "<br>\n",
    "Do you think there is a significant difference in the performance of the four machines?\n",
    "<br>\n",
    "Check whether there is a significant difference (consider a 5% significance level)\n",
    "- p_value = 1.812e^-05, There is no significant difference in machine performance\n",
    "- p_value = 3.742e^-05, There is a significant difference in machine performance\n",
    "- p_value = 3.742e^-05, There is no significant difference in machine performance\n",
    "- p_value = 1.812e^-05, There is a significant difference in machine performance"
   ]
  },
  {
   "cell_type": "markdown",
   "id": "feafbaeb-1760-4e6a-b79c-66cd401ce3d8",
   "metadata": {},
   "source": [
    "Ans: p_value = 1.812e^-05, There is a significant difference in machine performance"
   ]
  },
  {
   "cell_type": "markdown",
   "id": "64f4d006-2ade-48f8-b7f9-7637d30dc887",
   "metadata": {},
   "source": [
    "4. In a randomized controlled trial, you are comparing the effectiveness of two different advertising campaigns (A and B) in increasing sales. You collect data on sales from two groups: one exposed to campaign A and the other to campaign B. Which of the following statistical tests is most appropriate for comparing the mean sales between the two groups?\n",
    "- Pearson correlation\n",
    "- Independent samples t-test\n",
    "- Chi-squared test\n",
    "- Paired samples t-test"
   ]
  },
  {
   "cell_type": "markdown",
   "id": "d4988582-ccd4-4f85-a449-a78d3e47fc2e",
   "metadata": {},
   "source": [
    "Ans: Independent samples t-test"
   ]
  },
  {
   "cell_type": "markdown",
   "id": "fd6a7d7d-b9c9-4dfe-965f-c2052f425aeb",
   "metadata": {},
   "source": [
    "5. Sun Pharmaceutical Industries claims that a person's IQ improves after they use the Donepezil drug.\n",
    "<br>\n",
    "To test this claim a trial was conducted considering 20 patients. An IQ test was conducted for these patients before giving the drug and an IQ test was conducted for the same set of patients after the drug the recorded results are shown below.\n",
    "<br>\n",
    "IQ_before=[101,124,89,57,135,98,69,105,114,106,97,121,93,116,102,71,88,108,144,99]\n",
    "<br>\n",
    "IQ_after=[113,127,89,70,127,104,69,127,115,99,104,120,95,129,106,71,94,112,154,96]\n",
    "<br>Perform an appropriate test to test the claim at 90% confidence.\n",
    "- p value = 0.018, Reject the Null Hypothesis\n",
    "- p value = 0.009, Reject the Null Hypothesis\n",
    "- p value = 0.018, Fail to reject the Null Hypothesis\n",
    "- p value = 0.009, Fail to reject the Null Hypothesis"
   ]
  },
  {
   "cell_type": "markdown",
   "id": "d2418175-555c-4759-bbe9-05af2d14e37c",
   "metadata": {},
   "source": [
    "Ans: p value = 0.009, Reject the Null Hypothesis"
   ]
  },
  {
   "cell_type": "markdown",
   "id": "8142ef8a-a120-4451-b78a-5b299dc5837e",
   "metadata": {},
   "source": [
    "6. Setting the p-level at 0.01 increases the chances of making\n",
    "- Type III error\n",
    "- Type II error\n",
    "- Type I error\n",
    "- All of the above"
   ]
  },
  {
   "cell_type": "markdown",
   "id": "cdbc7aac-9db6-4b4d-844c-59df3f251bc9",
   "metadata": {},
   "source": [
    "Ans: Type II error"
   ]
  },
  {
   "cell_type": "markdown",
   "id": "995524a6-5227-4ab3-9b7f-269f4f88e066",
   "metadata": {},
   "source": [
    "7. In a sample of marathon race times, the mean time is 4 hours, and the standard deviation is 30 minutes. If you set the Z-score threshold to 2, which race times would be considered outliers?\n",
    "- Times above 4 hours\n",
    "- Times above 4 hours and 45 minutes\n",
    "- Times below 2 hours and 45 minutes\n",
    "- Times below 3 hours and 30 minutes"
   ]
  },
  {
   "cell_type": "markdown",
   "id": "12697469-0244-44a0-b73c-d2c2363eb745",
   "metadata": {},
   "source": [
    "Ans: Times below 2 hours and 45 minutes"
   ]
  },
  {
   "cell_type": "markdown",
   "id": "32e21cfd-f835-4e84-a8ae-b0d4fca6576c",
   "metadata": {},
   "source": [
    "8. A software company is planning to release a new version of its flagship product. The intent is that the new version will be better as compared to the previous version. Formulate the null and alternative hypotheses for this scenario.\n",
    "- Null Hypothesis (H0): The new version will have the same number of reported bugs as the previous version. Alternative Hypothesis (H1): The new version will reduce the number of reported bugs.\n",
    "- Null Hypothesis (H0): The new version will have more reported bugs than the previous version. Alternative Hypothesis (H1): The new version will have fewer reported bugs.\n",
    "- Null Hypothesis (H0): The new version will not affect the number of reported bugs compared to the previous version. Alternative Hypothesis (H1): The new version will increase the number of reported bugs.\n",
    "- Null Hypothesis (H0): The new version will increase the number of reported bugs compared to the previous version. Alternative Hypothesis (H1): The new version will have the same number of reported bugs."
   ]
  },
  {
   "cell_type": "markdown",
   "id": "f8a88af1-123c-42c5-a957-cc2276d21ae9",
   "metadata": {},
   "source": [
    "Ans: Null Hypothesis (H0): The new version will have the same number of reported bugs as the previous version. Alternative Hypothesis (H1): The new version will reduce the number of reported bugs."
   ]
  },
  {
   "cell_type": "markdown",
   "id": "04e48ec8-4947-49bd-be51-43fc7b665037",
   "metadata": {},
   "source": [
    "9. A popular car manufacturing brand claims that their car model Rex500 has an average highway mileage of 21.50 Km/L, you want to test whether this claim is statistically significant or not.\n",
    "<br>\n",
    "You managed to get data from 45 cars of this model and found that the average highway mileage is 20.42 Km/L, with a standard deviation of 2.7 Km/L\n",
    "<br>\n",
    "With 99% confidence, will you be able to conclude that the average highway mileage is statistically lower than the claimed fuel economy?\n",
    "<br>\n",
    "Use the appropriate test and select the correct option below:\n",
    "- p_value = 0.0028, average highway mileage = 21.5 Km/L\n",
    "- p_value = 0.0036, average highway mileage < 21.5 Km/L\n",
    "- p_value = 0.0036, average highway mileage = 21.5 Km/L\n",
    "- p_value = 0.0028, average highway mileage < 21.5 Km/L"
   ]
  },
  {
   "cell_type": "markdown",
   "id": "8083765f-0514-4525-b28d-10b9481eca15",
   "metadata": {},
   "source": [
    "Ans: p_value = 0.0036, average highway mileage < 21.5 Km/L"
   ]
  },
  {
   "cell_type": "markdown",
   "id": "088175d3-4aaa-440a-be99-a2df4e932e64",
   "metadata": {},
   "source": [
    "# Live interview:\n",
    "Q1. <br>\n",
    "XYZ, 2 rounds of interview\n",
    "<br>\n",
    "<br>50% of all people who receive a first interview, receive a second interview.\n",
    "<br>95% people that got a second interview felt they had a good first interview.\n",
    "<br>75% people that did not get a second interview felt they had a good first interview.\n",
    "<br>\n",
    "<br>If you feel good about the first interview, what is probability that you will receive a second interview call ? \n",
    "<br>\n",
    "<br>S: Getting a second interview call \n",
    "<br>G: Feeling good about first interview \n",
    "<br>\n",
    "<br>Given\n",
    "<br>P(S)=0.5\n",
    "<br>P(S')=0.5\n",
    "<br>P(G|S)=0.95\n",
    "<br>P(G|S')=0.75\n",
    "<br>\n",
    "To Find ? \n",
    "<br>\n",
    "<br>P(S|G)=P(SintG)/P(G)\n",
    "<br>\n",
    "<br>P(SintG)= P(S)*P(G|S)\n",
    "<br>\n",
    "<br>P(G)= P(S)*P(G|S) + P(S')*P(G|S')\n",
    "<br>\n",
    "<br>Baye's Theorem & Law of Total probability \n",
    "\n",
    "<br>Q2. \n",
    "    <br>Data Scaling \n",
    "    <br>\n",
    "    <br>Normalization V/S Standardization \n",
    "    <br>\n",
    "    <br>Normalization -> [0,1]--> MinMaxScaler\n",
    "    <br>\n",
    "   <br> (x-min)/(max-min)\n",
    "<br>    \n",
    "    <br>\n",
    "    <br>\n",
    "    <br>Standardization --> z-score --> StandardScaler\n",
    "    <br>(x-mu)/std\n",
    "<br>\n",
    "<br>Q3. \n",
    "    <br>Two brothers decided to help their mother with cleaning dishes every day post lunch\n",
    "    <br>They decided to flip a fair coin - if it turns out to be Head - The elder brother will do the dishes else the younger.\n",
    "    <br>The younger brother went on to do the dishes for 10 days straight. What is the probability of this happening?\n",
    "  <br>  \n",
    "    <br>X:0,1,2,...10\n",
    "    <br>\n",
    "    <br>S: younger doing the dishes \n",
    "    <br>F: elder doing the dishes \n",
    "    <br>\n",
    "    <br>10 days, 10, p=0.5 \n",
    "    <br>\n",
    "<br>    binom.pmf(n=10,k=10,p=0.5)\n",
    "\n",
    "<br>Q4. \n",
    "    <br>Pearson Correlation Coefficient \n",
    "    <br>\n",
    "    <br>linear relation b/w numerical features \n",
    "    <br>\n",
    "    <br>rho= Cov(x,y)/std(x)*std(y)\n",
    "    <br>\n",
    "    <br>Cov(x,y)=1/n * summation (x-xmu)(y-ymu)\n",
    "    <br>\n",
    "    <br>rho = 1/n * summation (zx*zy)\n",
    "    <br>\n",
    "<br>Q5. \n",
    "    <br>Given data of the past 10 years of users who subscribed for a one-year fitness plan, your manager asked to find out if there is any relation between the \"age group\" and \"renewal of subscription\".\n",
    "    <br>With 95% confidence, can you state whether there is any relation b/w the two ? \n",
    "    \n",
    "<br>Ho: No Relation \n",
    "<br>Ha: Relation \n",
    "<br>\n",
    "<br>Cat V/S Cat \n",
    "<br>\n",
    "<br>Chisquare test-> Test of independence\n",
    "<br>chi2_contingency \n",
    "<br>\n",
    "<br>\n",
    "<br>              Y    N\n",
    "<br>12-18       [[120,38],\n",
    "<br>18-25       [140,48]\n",
    "<br>25-35       [160,32],\n",
    "<br>35-50       [120,28]]\n",
    "<br>\n",
    "<br>df=3\n",
    "<br>\n",
    "<br>chisquare is always a right tail test.\n",
    "<br>\n",
    "<br>non-parametric test\n",
    "<br>\n",
    "<br>pvalue=0.07 \n",
    "<br>\n",
    "<br>alpha=0.05\n",
    "<br>\n",
    "<br>pvalue > alpha : Fail to Reject Ho     "
   ]
  },
  {
   "cell_type": "code",
   "execution_count": null,
   "id": "5136339e-616d-4cfc-9f1c-14768ade6f89",
   "metadata": {},
   "outputs": [],
   "source": []
  }
 ],
 "metadata": {
  "kernelspec": {
   "display_name": "Python 3 (ipykernel)",
   "language": "python",
   "name": "python3"
  },
  "language_info": {
   "codemirror_mode": {
    "name": "ipython",
    "version": 3
   },
   "file_extension": ".py",
   "mimetype": "text/x-python",
   "name": "python",
   "nbconvert_exporter": "python",
   "pygments_lexer": "ipython3",
   "version": "3.12.2"
  }
 },
 "nbformat": 4,
 "nbformat_minor": 5
}
